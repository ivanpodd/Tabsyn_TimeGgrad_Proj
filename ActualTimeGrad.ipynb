{
 "cells": [
  {
   "cell_type": "code",
   "execution_count": 4,
   "id": "d90bbc5b-a712-4a04-bfb8-a87d32606059",
   "metadata": {
    "execution": {
     "iopub.execute_input": "2024-08-10T19:46:57.725382Z",
     "iopub.status.busy": "2024-08-10T19:46:57.724284Z",
     "iopub.status.idle": "2024-08-10T19:47:03.121263Z",
     "shell.execute_reply": "2024-08-10T19:47:03.120429Z",
     "shell.execute_reply.started": "2024-08-10T19:46:57.725345Z"
    },
    "tags": []
   },
   "outputs": [
    {
     "name": "stdout",
     "output_type": "stream",
     "text": [
      "Defaulting to user installation because normal site-packages is not writeable\n",
      "Requirement already satisfied: pytorchts in /home/jupyter/.local/lib/python3.10/site-packages (0.6.0)\n",
      "Requirement already satisfied: torch>=1.8.0 in /home/jupyter/.local/lib/python3.10/site-packages (from pytorchts) (2.4.0)\n",
      "Requirement already satisfied: gluonts>=0.9.0 in /home/jupyter/.local/lib/python3.10/site-packages (from pytorchts) (0.15.0)\n",
      "Requirement already satisfied: holidays in /usr/local/lib/python3.10/dist-packages (from pytorchts) (0.29)\n",
      "Requirement already satisfied: numpy~=1.16 in /home/jupyter/.local/lib/python3.10/site-packages (from pytorchts) (1.26.4)\n",
      "Requirement already satisfied: pandas~=1.1 in /usr/local/lib/python3.10/dist-packages (from pytorchts) (1.5.3)\n",
      "Requirement already satisfied: scipy in /usr/local/lib/python3.10/dist-packages (from pytorchts) (1.10.1)\n",
      "Requirement already satisfied: tqdm in /home/jupyter/.local/lib/python3.10/site-packages (from pytorchts) (4.66.5)\n",
      "Requirement already satisfied: matplotlib in /usr/local/lib/python3.10/dist-packages (from pytorchts) (3.7.1)\n",
      "Requirement already satisfied: tensorboard in /usr/local/lib/python3.10/dist-packages (from pytorchts) (2.12.3)\n",
      "Requirement already satisfied: pydantic<3,>=1.7 in /usr/local/lib/python3.10/dist-packages (from gluonts>=0.9.0->pytorchts) (1.10.12)\n",
      "Requirement already satisfied: toolz~=0.10 in /usr/local/lib/python3.10/dist-packages (from gluonts>=0.9.0->pytorchts) (0.12.0)\n",
      "Requirement already satisfied: typing-extensions~=4.0 in /home/jupyter/.local/lib/python3.10/site-packages (from gluonts>=0.9.0->pytorchts) (4.12.2)\n",
      "Requirement already satisfied: python-dateutil>=2.8.1 in /usr/local/lib/python3.10/dist-packages (from pandas~=1.1->pytorchts) (2.8.2)\n",
      "Requirement already satisfied: pytz>=2020.1 in /usr/local/lib/python3.10/dist-packages (from pandas~=1.1->pytorchts) (2022.7.1)\n",
      "Requirement already satisfied: filelock in /usr/local/lib/python3.10/dist-packages (from torch>=1.8.0->pytorchts) (3.12.2)\n",
      "Requirement already satisfied: sympy in /usr/local/lib/python3.10/dist-packages (from torch>=1.8.0->pytorchts) (1.11.1)\n",
      "Requirement already satisfied: networkx in /usr/local/lib/python3.10/dist-packages (from torch>=1.8.0->pytorchts) (3.1)\n",
      "Requirement already satisfied: jinja2 in /usr/local/lib/python3.10/dist-packages (from torch>=1.8.0->pytorchts) (3.1.2)\n",
      "Requirement already satisfied: fsspec in /usr/local/lib/python3.10/dist-packages (from torch>=1.8.0->pytorchts) (2023.6.0)\n",
      "Requirement already satisfied: nvidia-cuda-nvrtc-cu12==12.1.105 in /home/jupyter/.local/lib/python3.10/site-packages (from torch>=1.8.0->pytorchts) (12.1.105)\n",
      "Requirement already satisfied: nvidia-cuda-runtime-cu12==12.1.105 in /home/jupyter/.local/lib/python3.10/site-packages (from torch>=1.8.0->pytorchts) (12.1.105)\n",
      "Requirement already satisfied: nvidia-cuda-cupti-cu12==12.1.105 in /home/jupyter/.local/lib/python3.10/site-packages (from torch>=1.8.0->pytorchts) (12.1.105)\n",
      "Requirement already satisfied: nvidia-cudnn-cu12==9.1.0.70 in /home/jupyter/.local/lib/python3.10/site-packages (from torch>=1.8.0->pytorchts) (9.1.0.70)\n",
      "Requirement already satisfied: nvidia-cublas-cu12==12.1.3.1 in /home/jupyter/.local/lib/python3.10/site-packages (from torch>=1.8.0->pytorchts) (12.1.3.1)\n",
      "Requirement already satisfied: nvidia-cufft-cu12==11.0.2.54 in /home/jupyter/.local/lib/python3.10/site-packages (from torch>=1.8.0->pytorchts) (11.0.2.54)\n",
      "Requirement already satisfied: nvidia-curand-cu12==10.3.2.106 in /home/jupyter/.local/lib/python3.10/site-packages (from torch>=1.8.0->pytorchts) (10.3.2.106)\n",
      "Requirement already satisfied: nvidia-cusolver-cu12==11.4.5.107 in /home/jupyter/.local/lib/python3.10/site-packages (from torch>=1.8.0->pytorchts) (11.4.5.107)\n",
      "Requirement already satisfied: nvidia-cusparse-cu12==12.1.0.106 in /home/jupyter/.local/lib/python3.10/site-packages (from torch>=1.8.0->pytorchts) (12.1.0.106)\n",
      "Requirement already satisfied: nvidia-nccl-cu12==2.20.5 in /home/jupyter/.local/lib/python3.10/site-packages (from torch>=1.8.0->pytorchts) (2.20.5)\n",
      "Requirement already satisfied: nvidia-nvtx-cu12==12.1.105 in /home/jupyter/.local/lib/python3.10/site-packages (from torch>=1.8.0->pytorchts) (12.1.105)\n",
      "Requirement already satisfied: triton==3.0.0 in /home/jupyter/.local/lib/python3.10/site-packages (from torch>=1.8.0->pytorchts) (3.0.0)\n",
      "Requirement already satisfied: nvidia-nvjitlink-cu12 in /home/jupyter/.local/lib/python3.10/site-packages (from nvidia-cusolver-cu12==11.4.5.107->torch>=1.8.0->pytorchts) (12.6.20)\n",
      "Requirement already satisfied: contourpy>=1.0.1 in /usr/local/lib/python3.10/dist-packages (from matplotlib->pytorchts) (1.1.0)\n",
      "Requirement already satisfied: cycler>=0.10 in /usr/local/lib/python3.10/dist-packages (from matplotlib->pytorchts) (0.11.0)\n",
      "Requirement already satisfied: fonttools>=4.22.0 in /usr/local/lib/python3.10/dist-packages (from matplotlib->pytorchts) (4.41.1)\n",
      "Requirement already satisfied: kiwisolver>=1.0.1 in /usr/local/lib/python3.10/dist-packages (from matplotlib->pytorchts) (1.4.4)\n",
      "Requirement already satisfied: packaging>=20.0 in /usr/local/lib/python3.10/dist-packages (from matplotlib->pytorchts) (23.1)\n",
      "Requirement already satisfied: pillow>=6.2.0 in /usr/local/lib/python3.10/dist-packages (from matplotlib->pytorchts) (9.4.0)\n",
      "Requirement already satisfied: pyparsing>=2.3.1 in /usr/local/lib/python3.10/dist-packages (from matplotlib->pytorchts) (3.1.0)\n",
      "Requirement already satisfied: absl-py>=0.4 in /usr/local/lib/python3.10/dist-packages (from tensorboard->pytorchts) (1.4.0)\n",
      "Requirement already satisfied: grpcio>=1.48.2 in /usr/local/lib/python3.10/dist-packages (from tensorboard->pytorchts) (1.56.2)\n",
      "Requirement already satisfied: google-auth<3,>=1.6.3 in /usr/local/lib/python3.10/dist-packages (from tensorboard->pytorchts) (2.17.3)\n",
      "Requirement already satisfied: google-auth-oauthlib<1.1,>=0.5 in /usr/local/lib/python3.10/dist-packages (from tensorboard->pytorchts) (1.0.0)\n",
      "Requirement already satisfied: markdown>=2.6.8 in /usr/local/lib/python3.10/dist-packages (from tensorboard->pytorchts) (3.4.4)\n",
      "Requirement already satisfied: protobuf>=3.19.6 in /usr/local/lib/python3.10/dist-packages (from tensorboard->pytorchts) (3.20.3)\n",
      "Requirement already satisfied: requests<3,>=2.21.0 in /home/jupyter/.local/lib/python3.10/site-packages (from tensorboard->pytorchts) (2.32.3)\n",
      "Requirement already satisfied: setuptools>=41.0.0 in /kernel/lib/python3.10/site-packages (from tensorboard->pytorchts) (65.5.0)\n",
      "Requirement already satisfied: tensorboard-data-server<0.8.0,>=0.7.0 in /usr/local/lib/python3.10/dist-packages (from tensorboard->pytorchts) (0.7.1)\n",
      "Requirement already satisfied: werkzeug>=1.0.1 in /usr/local/lib/python3.10/dist-packages (from tensorboard->pytorchts) (2.3.6)\n",
      "Requirement already satisfied: wheel>=0.26 in /usr/local/lib/python3.10/dist-packages (from tensorboard->pytorchts) (0.41.1)\n",
      "Requirement already satisfied: cachetools<6.0,>=2.0.0 in /usr/local/lib/python3.10/dist-packages (from google-auth<3,>=1.6.3->tensorboard->pytorchts) (5.3.1)\n",
      "Requirement already satisfied: pyasn1-modules>=0.2.1 in /usr/local/lib/python3.10/dist-packages (from google-auth<3,>=1.6.3->tensorboard->pytorchts) (0.3.0)\n",
      "Requirement already satisfied: six>=1.9.0 in /usr/lib/python3/dist-packages (from google-auth<3,>=1.6.3->tensorboard->pytorchts) (1.16.0)\n",
      "Requirement already satisfied: rsa<5,>=3.1.4 in /usr/local/lib/python3.10/dist-packages (from google-auth<3,>=1.6.3->tensorboard->pytorchts) (4.9)\n",
      "Requirement already satisfied: requests-oauthlib>=0.7.0 in /usr/local/lib/python3.10/dist-packages (from google-auth-oauthlib<1.1,>=0.5->tensorboard->pytorchts) (1.3.1)\n",
      "Requirement already satisfied: charset-normalizer<4,>=2 in /usr/local/lib/python3.10/dist-packages (from requests<3,>=2.21.0->tensorboard->pytorchts) (2.0.12)\n",
      "Requirement already satisfied: idna<4,>=2.5 in /usr/local/lib/python3.10/dist-packages (from requests<3,>=2.21.0->tensorboard->pytorchts) (3.4)\n",
      "Requirement already satisfied: urllib3<3,>=1.21.1 in /usr/local/lib/python3.10/dist-packages (from requests<3,>=2.21.0->tensorboard->pytorchts) (1.26.16)\n",
      "Requirement already satisfied: certifi>=2017.4.17 in /usr/local/lib/python3.10/dist-packages (from requests<3,>=2.21.0->tensorboard->pytorchts) (2023.7.22)\n",
      "Requirement already satisfied: MarkupSafe>=2.1.1 in /usr/local/lib/python3.10/dist-packages (from werkzeug>=1.0.1->tensorboard->pytorchts) (2.1.3)\n",
      "Requirement already satisfied: mpmath>=0.19 in /usr/local/lib/python3.10/dist-packages (from sympy->torch>=1.8.0->pytorchts) (1.3.0)\n",
      "Requirement already satisfied: pyasn1<0.6.0,>=0.4.6 in /usr/local/lib/python3.10/dist-packages (from pyasn1-modules>=0.2.1->google-auth<3,>=1.6.3->tensorboard->pytorchts) (0.5.0)\n",
      "Requirement already satisfied: oauthlib>=3.0.0 in /usr/local/lib/python3.10/dist-packages (from requests-oauthlib>=0.7.0->google-auth-oauthlib<1.1,>=0.5->tensorboard->pytorchts) (3.2.2)\n",
      "\n",
      "\u001b[1m[\u001b[0m\u001b[34;49mnotice\u001b[0m\u001b[1;39;49m]\u001b[0m\u001b[39;49m A new release of pip is available: \u001b[0m\u001b[31;49m23.0.1\u001b[0m\u001b[39;49m -> \u001b[0m\u001b[32;49m24.2\u001b[0m\n",
      "\u001b[1m[\u001b[0m\u001b[34;49mnotice\u001b[0m\u001b[1;39;49m]\u001b[0m\u001b[39;49m To update, run: \u001b[0m\u001b[32;49mpython3 -m pip install --upgrade pip\u001b[0m\n"
     ]
    }
   ],
   "source": [
    "%pip install pytorchts"
   ]
  },
  {
   "cell_type": "code",
   "execution_count": 3,
   "id": "ebc2ccff-32c1-4778-931c-5f0ac062f563",
   "metadata": {
    "execution": {
     "iopub.execute_input": "2024-08-10T19:34:35.356775Z",
     "iopub.status.busy": "2024-08-10T19:34:35.355619Z",
     "iopub.status.idle": "2024-08-10T19:34:35.384761Z",
     "shell.execute_reply": "2024-08-10T19:34:35.383556Z",
     "shell.execute_reply.started": "2024-08-10T19:34:35.356718Z"
    },
    "tags": []
   },
   "outputs": [
    {
     "name": "stderr",
     "output_type": "stream",
     "text": [
      "/bin/sh: 10: {sys.executable}: not found\n"
     ]
    },
    {
     "ename": "Exception",
     "evalue": "Process exited with code 127",
     "output_type": "error",
     "traceback": [
      "\u001b[0;31m---------------------------------------------------------------------------\u001b[0m",
      "\u001b[0;31mException\u001b[0m                                 Traceback (most recent call last)",
      "\u001b[0;32m/tmp/ipykernel_2149/2799192771.py\u001b[0m in \u001b[0;36m<cell line: 2>\u001b[0;34m()\u001b[0m\n\u001b[1;32m      1\u001b[0m \u001b[0;32mimport\u001b[0m \u001b[0msys\u001b[0m\u001b[0;34m\u001b[0m\u001b[0;34m\u001b[0m\u001b[0m\n\u001b[0;32m----> 2\u001b[0;31m \u001b[0mget_ipython\u001b[0m\u001b[0;34m(\u001b[0m\u001b[0;34m)\u001b[0m\u001b[0;34m.\u001b[0m\u001b[0msystem\u001b[0m\u001b[0;34m(\u001b[0m\u001b[0;34m' {sys.executable} -m pip3 install pytorchts'\u001b[0m\u001b[0;34m)\u001b[0m\u001b[0;34m\u001b[0m\u001b[0;34m\u001b[0m\u001b[0m\n\u001b[0m",
      "\u001b[0;32m/kernel/lib/python3.10/site-packages/ml_kernel/kernel.py\u001b[0m in \u001b[0;36m<lambda>\u001b[0;34m(code)\u001b[0m\n\u001b[1;32m    192\u001b[0m \u001b[0;34m\u001b[0m\u001b[0m\n\u001b[1;32m    193\u001b[0m         \u001b[0mself\u001b[0m\u001b[0;34m.\u001b[0m\u001b[0m_script_executor\u001b[0m \u001b[0;34m=\u001b[0m \u001b[0mScriptExecutor\u001b[0m\u001b[0;34m(\u001b[0m\u001b[0mget_output_error_code\u001b[0m\u001b[0;34m)\u001b[0m\u001b[0;34m\u001b[0m\u001b[0;34m\u001b[0m\u001b[0m\n\u001b[0;32m--> 194\u001b[0;31m         \u001b[0mself\u001b[0m\u001b[0;34m.\u001b[0m\u001b[0mshell\u001b[0m\u001b[0;34m.\u001b[0m\u001b[0msystem\u001b[0m \u001b[0;34m=\u001b[0m \u001b[0;32mlambda\u001b[0m \u001b[0mcode\u001b[0m\u001b[0;34m:\u001b[0m \u001b[0mself\u001b[0m\u001b[0;34m.\u001b[0m\u001b[0m_script_executor\u001b[0m\u001b[0;34m.\u001b[0m\u001b[0mexecute\u001b[0m\u001b[0;34m(\u001b[0m\u001b[0;34m\"bash\"\u001b[0m\u001b[0;34m,\u001b[0m \u001b[0mcode\u001b[0m\u001b[0;34m)\u001b[0m\u001b[0;34m\u001b[0m\u001b[0;34m\u001b[0m\u001b[0m\n\u001b[0m\u001b[1;32m    195\u001b[0m \u001b[0;34m\u001b[0m\u001b[0m\n\u001b[1;32m    196\u001b[0m     \u001b[0;32mdef\u001b[0m \u001b[0m_init_user_ns\u001b[0m\u001b[0;34m(\u001b[0m\u001b[0mself\u001b[0m\u001b[0;34m)\u001b[0m\u001b[0;34m:\u001b[0m\u001b[0;34m\u001b[0m\u001b[0;34m\u001b[0m\u001b[0m\n",
      "\u001b[0;32m/kernel/lib/python3.10/site-packages/ml_kernel/script_executor.py\u001b[0m in \u001b[0;36mexecute\u001b[0;34m(self, lang, code)\u001b[0m\n\u001b[1;32m     41\u001b[0m         \u001b[0mreturn_code\u001b[0m \u001b[0;34m=\u001b[0m \u001b[0mself\u001b[0m\u001b[0;34m.\u001b[0m\u001b[0mdo_execute\u001b[0m\u001b[0;34m(\u001b[0m\u001b[0mcode\u001b[0m\u001b[0;34m)\u001b[0m\u001b[0;34m\u001b[0m\u001b[0;34m\u001b[0m\u001b[0m\n\u001b[1;32m     42\u001b[0m         \u001b[0;32mif\u001b[0m \u001b[0mreturn_code\u001b[0m \u001b[0;34m!=\u001b[0m \u001b[0;36m0\u001b[0m\u001b[0;34m:\u001b[0m\u001b[0;34m\u001b[0m\u001b[0;34m\u001b[0m\u001b[0m\n\u001b[0;32m---> 43\u001b[0;31m             \u001b[0;32mraise\u001b[0m \u001b[0mException\u001b[0m\u001b[0;34m(\u001b[0m\u001b[0;34m'Process exited with code %d'\u001b[0m \u001b[0;34m%\u001b[0m \u001b[0mreturn_code\u001b[0m\u001b[0;34m)\u001b[0m\u001b[0;34m\u001b[0m\u001b[0;34m\u001b[0m\u001b[0m\n\u001b[0m",
      "\u001b[0;31mException\u001b[0m: Process exited with code 127"
     ]
    }
   ],
   "source": [
    "import sys\n",
    "!{sys.executable} -m pip3 install pytorchts"
   ]
  },
  {
   "cell_type": "code",
   "execution_count": 1,
   "id": "4b383f13-0610-4e64-b47f-58ad2effad41",
   "metadata": {
    "execution": {
     "iopub.execute_input": "2024-08-10T18:12:46.310094Z",
     "iopub.status.busy": "2024-08-10T18:12:46.308580Z",
     "iopub.status.idle": "2024-08-10T18:12:57.186228Z",
     "shell.execute_reply": "2024-08-10T18:12:57.185281Z",
     "shell.execute_reply.started": "2024-08-10T18:12:46.310040Z"
    },
    "tags": []
   },
   "outputs": [
    {
     "name": "stdout",
     "output_type": "stream",
     "text": [
      "Defaulting to user installation because normal site-packages is not writeable\n",
      "Requirement already satisfied: lightning in /home/jupyter/.local/lib/python3.10/site-packages (2.4.0)\n",
      "Requirement already satisfied: PyYAML<8.0,>=5.4 in /usr/local/lib/python3.10/dist-packages (from lightning) (6.0.1)\n",
      "Requirement already satisfied: fsspec<2026.0,>=2022.5.0 in /usr/local/lib/python3.10/dist-packages (from fsspec[http]<2026.0,>=2022.5.0->lightning) (2023.6.0)\n",
      "Requirement already satisfied: lightning-utilities<2.0,>=0.10.0 in /home/jupyter/.local/lib/python3.10/site-packages (from lightning) (0.11.6)\n",
      "Requirement already satisfied: packaging<25.0,>=20.0 in /usr/local/lib/python3.10/dist-packages (from lightning) (23.1)\n",
      "Requirement already satisfied: torch<4.0,>=2.1.0 in /home/jupyter/.local/lib/python3.10/site-packages (from lightning) (2.4.0)\n",
      "Requirement already satisfied: torchmetrics<3.0,>=0.7.0 in /home/jupyter/.local/lib/python3.10/site-packages (from lightning) (1.4.1)\n",
      "Requirement already satisfied: tqdm<6.0,>=4.57.0 in /home/jupyter/.local/lib/python3.10/site-packages (from lightning) (4.66.5)\n",
      "Requirement already satisfied: typing-extensions<6.0,>=4.4.0 in /home/jupyter/.local/lib/python3.10/site-packages (from lightning) (4.12.2)\n",
      "Requirement already satisfied: pytorch-lightning in /home/jupyter/.local/lib/python3.10/site-packages (from lightning) (2.4.0)\n",
      "Requirement already satisfied: requests in /home/jupyter/.local/lib/python3.10/site-packages (from fsspec[http]<2026.0,>=2022.5.0->lightning) (2.32.3)\n",
      "Requirement already satisfied: aiohttp!=4.0.0a0,!=4.0.0a1 in /usr/local/lib/python3.10/dist-packages (from fsspec[http]<2026.0,>=2022.5.0->lightning) (3.8.5)\n",
      "Requirement already satisfied: setuptools in /kernel/lib/python3.10/site-packages (from lightning-utilities<2.0,>=0.10.0->lightning) (65.5.0)\n",
      "Requirement already satisfied: filelock in /usr/local/lib/python3.10/dist-packages (from torch<4.0,>=2.1.0->lightning) (3.12.2)\n",
      "Requirement already satisfied: sympy in /usr/local/lib/python3.10/dist-packages (from torch<4.0,>=2.1.0->lightning) (1.11.1)\n",
      "Requirement already satisfied: networkx in /usr/local/lib/python3.10/dist-packages (from torch<4.0,>=2.1.0->lightning) (3.1)\n",
      "Requirement already satisfied: jinja2 in /usr/local/lib/python3.10/dist-packages (from torch<4.0,>=2.1.0->lightning) (3.1.2)\n",
      "Requirement already satisfied: nvidia-cuda-nvrtc-cu12==12.1.105 in /home/jupyter/.local/lib/python3.10/site-packages (from torch<4.0,>=2.1.0->lightning) (12.1.105)\n",
      "Requirement already satisfied: nvidia-cuda-runtime-cu12==12.1.105 in /home/jupyter/.local/lib/python3.10/site-packages (from torch<4.0,>=2.1.0->lightning) (12.1.105)\n",
      "Requirement already satisfied: nvidia-cuda-cupti-cu12==12.1.105 in /home/jupyter/.local/lib/python3.10/site-packages (from torch<4.0,>=2.1.0->lightning) (12.1.105)\n",
      "Requirement already satisfied: nvidia-cudnn-cu12==9.1.0.70 in /home/jupyter/.local/lib/python3.10/site-packages (from torch<4.0,>=2.1.0->lightning) (9.1.0.70)\n",
      "Requirement already satisfied: nvidia-cublas-cu12==12.1.3.1 in /home/jupyter/.local/lib/python3.10/site-packages (from torch<4.0,>=2.1.0->lightning) (12.1.3.1)\n",
      "Requirement already satisfied: nvidia-cufft-cu12==11.0.2.54 in /home/jupyter/.local/lib/python3.10/site-packages (from torch<4.0,>=2.1.0->lightning) (11.0.2.54)\n",
      "Requirement already satisfied: nvidia-curand-cu12==10.3.2.106 in /home/jupyter/.local/lib/python3.10/site-packages (from torch<4.0,>=2.1.0->lightning) (10.3.2.106)\n",
      "Requirement already satisfied: nvidia-cusolver-cu12==11.4.5.107 in /home/jupyter/.local/lib/python3.10/site-packages (from torch<4.0,>=2.1.0->lightning) (11.4.5.107)\n",
      "Requirement already satisfied: nvidia-cusparse-cu12==12.1.0.106 in /home/jupyter/.local/lib/python3.10/site-packages (from torch<4.0,>=2.1.0->lightning) (12.1.0.106)\n",
      "Requirement already satisfied: nvidia-nccl-cu12==2.20.5 in /home/jupyter/.local/lib/python3.10/site-packages (from torch<4.0,>=2.1.0->lightning) (2.20.5)\n",
      "Requirement already satisfied: nvidia-nvtx-cu12==12.1.105 in /home/jupyter/.local/lib/python3.10/site-packages (from torch<4.0,>=2.1.0->lightning) (12.1.105)\n",
      "Requirement already satisfied: triton==3.0.0 in /home/jupyter/.local/lib/python3.10/site-packages (from torch<4.0,>=2.1.0->lightning) (3.0.0)\n",
      "Requirement already satisfied: nvidia-nvjitlink-cu12 in /home/jupyter/.local/lib/python3.10/site-packages (from nvidia-cusolver-cu12==11.4.5.107->torch<4.0,>=2.1.0->lightning) (12.6.20)\n",
      "Requirement already satisfied: numpy>1.20.0 in /home/jupyter/.local/lib/python3.10/site-packages (from torchmetrics<3.0,>=0.7.0->lightning) (1.26.4)\n",
      "Requirement already satisfied: attrs>=17.3.0 in /usr/local/lib/python3.10/dist-packages (from aiohttp!=4.0.0a0,!=4.0.0a1->fsspec[http]<2026.0,>=2022.5.0->lightning) (23.1.0)\n",
      "Requirement already satisfied: charset-normalizer<4.0,>=2.0 in /usr/local/lib/python3.10/dist-packages (from aiohttp!=4.0.0a0,!=4.0.0a1->fsspec[http]<2026.0,>=2022.5.0->lightning) (2.0.12)\n",
      "Requirement already satisfied: multidict<7.0,>=4.5 in /usr/local/lib/python3.10/dist-packages (from aiohttp!=4.0.0a0,!=4.0.0a1->fsspec[http]<2026.0,>=2022.5.0->lightning) (6.0.4)\n",
      "Requirement already satisfied: async-timeout<5.0,>=4.0.0a3 in /usr/local/lib/python3.10/dist-packages (from aiohttp!=4.0.0a0,!=4.0.0a1->fsspec[http]<2026.0,>=2022.5.0->lightning) (4.0.2)\n",
      "Requirement already satisfied: yarl<2.0,>=1.0 in /usr/local/lib/python3.10/dist-packages (from aiohttp!=4.0.0a0,!=4.0.0a1->fsspec[http]<2026.0,>=2022.5.0->lightning) (1.9.2)\n",
      "Requirement already satisfied: frozenlist>=1.1.1 in /usr/local/lib/python3.10/dist-packages (from aiohttp!=4.0.0a0,!=4.0.0a1->fsspec[http]<2026.0,>=2022.5.0->lightning) (1.4.0)\n",
      "Requirement already satisfied: aiosignal>=1.1.2 in /usr/local/lib/python3.10/dist-packages (from aiohttp!=4.0.0a0,!=4.0.0a1->fsspec[http]<2026.0,>=2022.5.0->lightning) (1.3.1)\n",
      "Requirement already satisfied: MarkupSafe>=2.0 in /usr/local/lib/python3.10/dist-packages (from jinja2->torch<4.0,>=2.1.0->lightning) (2.1.3)\n",
      "Requirement already satisfied: idna<4,>=2.5 in /usr/local/lib/python3.10/dist-packages (from requests->fsspec[http]<2026.0,>=2022.5.0->lightning) (3.4)\n",
      "Requirement already satisfied: urllib3<3,>=1.21.1 in /usr/local/lib/python3.10/dist-packages (from requests->fsspec[http]<2026.0,>=2022.5.0->lightning) (1.26.16)\n",
      "Requirement already satisfied: certifi>=2017.4.17 in /usr/local/lib/python3.10/dist-packages (from requests->fsspec[http]<2026.0,>=2022.5.0->lightning) (2023.7.22)\n",
      "Requirement already satisfied: mpmath>=0.19 in /usr/local/lib/python3.10/dist-packages (from sympy->torch<4.0,>=2.1.0->lightning) (1.3.0)\n",
      "\n",
      "\u001b[1m[\u001b[0m\u001b[34;49mnotice\u001b[0m\u001b[1;39;49m]\u001b[0m\u001b[39;49m A new release of pip is available: \u001b[0m\u001b[31;49m23.0.1\u001b[0m\u001b[39;49m -> \u001b[0m\u001b[32;49m24.2\u001b[0m\n",
      "\u001b[1m[\u001b[0m\u001b[34;49mnotice\u001b[0m\u001b[1;39;49m]\u001b[0m\u001b[39;49m To update, run: \u001b[0m\u001b[32;49mpython3 -m pip install --upgrade pip\u001b[0m\n",
      "Defaulting to user installation because normal site-packages is not writeable\n",
      "Collecting git+https://github.com/zalandoresearch/pytorch-ts@master\n",
      "  Cloning https://github.com/zalandoresearch/pytorch-ts (to revision master) to /tmp/pip-req-build-44y0qfo9\n",
      "  Running command git clone --filter=blob:none --quiet https://github.com/zalandoresearch/pytorch-ts /tmp/pip-req-build-44y0qfo9\n",
      "  Resolved https://github.com/zalandoresearch/pytorch-ts to commit 7860c9693d55b5c086867477cc33c89485ed0167\n",
      "  Preparing metadata (setup.py) ... \u001b[?25ldone\n",
      "\u001b[?25hRequirement already satisfied: torch>=1.8.0 in /home/jupyter/.local/lib/python3.10/site-packages (from pytorchts==0.6.0) (2.4.0)\n",
      "Requirement already satisfied: gluonts>=0.9.0 in /home/jupyter/.local/lib/python3.10/site-packages (from pytorchts==0.6.0) (0.15.0)\n",
      "Requirement already satisfied: holidays in /usr/local/lib/python3.10/dist-packages (from pytorchts==0.6.0) (0.29)\n",
      "Requirement already satisfied: numpy~=1.16 in /home/jupyter/.local/lib/python3.10/site-packages (from pytorchts==0.6.0) (1.26.4)\n",
      "Requirement already satisfied: pandas~=1.1 in /usr/local/lib/python3.10/dist-packages (from pytorchts==0.6.0) (1.5.3)\n",
      "Requirement already satisfied: scipy in /usr/local/lib/python3.10/dist-packages (from pytorchts==0.6.0) (1.10.1)\n",
      "Requirement already satisfied: tqdm in /home/jupyter/.local/lib/python3.10/site-packages (from pytorchts==0.6.0) (4.66.5)\n",
      "Requirement already satisfied: matplotlib in /usr/local/lib/python3.10/dist-packages (from pytorchts==0.6.0) (3.7.1)\n",
      "Requirement already satisfied: tensorboard in /usr/local/lib/python3.10/dist-packages (from pytorchts==0.6.0) (2.12.3)\n",
      "Requirement already satisfied: pydantic<3,>=1.7 in /usr/local/lib/python3.10/dist-packages (from gluonts>=0.9.0->pytorchts==0.6.0) (1.10.12)\n",
      "Requirement already satisfied: toolz~=0.10 in /usr/local/lib/python3.10/dist-packages (from gluonts>=0.9.0->pytorchts==0.6.0) (0.12.0)\n",
      "Requirement already satisfied: typing-extensions~=4.0 in /home/jupyter/.local/lib/python3.10/site-packages (from gluonts>=0.9.0->pytorchts==0.6.0) (4.12.2)\n",
      "Requirement already satisfied: python-dateutil>=2.8.1 in /usr/local/lib/python3.10/dist-packages (from pandas~=1.1->pytorchts==0.6.0) (2.8.2)\n",
      "Requirement already satisfied: pytz>=2020.1 in /usr/local/lib/python3.10/dist-packages (from pandas~=1.1->pytorchts==0.6.0) (2022.7.1)\n",
      "Requirement already satisfied: filelock in /usr/local/lib/python3.10/dist-packages (from torch>=1.8.0->pytorchts==0.6.0) (3.12.2)\n",
      "Requirement already satisfied: sympy in /usr/local/lib/python3.10/dist-packages (from torch>=1.8.0->pytorchts==0.6.0) (1.11.1)\n",
      "Requirement already satisfied: networkx in /usr/local/lib/python3.10/dist-packages (from torch>=1.8.0->pytorchts==0.6.0) (3.1)\n",
      "Requirement already satisfied: jinja2 in /usr/local/lib/python3.10/dist-packages (from torch>=1.8.0->pytorchts==0.6.0) (3.1.2)\n",
      "Requirement already satisfied: fsspec in /usr/local/lib/python3.10/dist-packages (from torch>=1.8.0->pytorchts==0.6.0) (2023.6.0)\n",
      "Requirement already satisfied: nvidia-cuda-nvrtc-cu12==12.1.105 in /home/jupyter/.local/lib/python3.10/site-packages (from torch>=1.8.0->pytorchts==0.6.0) (12.1.105)\n",
      "Requirement already satisfied: nvidia-cuda-runtime-cu12==12.1.105 in /home/jupyter/.local/lib/python3.10/site-packages (from torch>=1.8.0->pytorchts==0.6.0) (12.1.105)\n",
      "Requirement already satisfied: nvidia-cuda-cupti-cu12==12.1.105 in /home/jupyter/.local/lib/python3.10/site-packages (from torch>=1.8.0->pytorchts==0.6.0) (12.1.105)\n",
      "Requirement already satisfied: nvidia-cudnn-cu12==9.1.0.70 in /home/jupyter/.local/lib/python3.10/site-packages (from torch>=1.8.0->pytorchts==0.6.0) (9.1.0.70)\n",
      "Requirement already satisfied: nvidia-cublas-cu12==12.1.3.1 in /home/jupyter/.local/lib/python3.10/site-packages (from torch>=1.8.0->pytorchts==0.6.0) (12.1.3.1)\n",
      "Requirement already satisfied: nvidia-cufft-cu12==11.0.2.54 in /home/jupyter/.local/lib/python3.10/site-packages (from torch>=1.8.0->pytorchts==0.6.0) (11.0.2.54)\n",
      "Requirement already satisfied: nvidia-curand-cu12==10.3.2.106 in /home/jupyter/.local/lib/python3.10/site-packages (from torch>=1.8.0->pytorchts==0.6.0) (10.3.2.106)\n",
      "Requirement already satisfied: nvidia-cusolver-cu12==11.4.5.107 in /home/jupyter/.local/lib/python3.10/site-packages (from torch>=1.8.0->pytorchts==0.6.0) (11.4.5.107)\n",
      "Requirement already satisfied: nvidia-cusparse-cu12==12.1.0.106 in /home/jupyter/.local/lib/python3.10/site-packages (from torch>=1.8.0->pytorchts==0.6.0) (12.1.0.106)\n",
      "Requirement already satisfied: nvidia-nccl-cu12==2.20.5 in /home/jupyter/.local/lib/python3.10/site-packages (from torch>=1.8.0->pytorchts==0.6.0) (2.20.5)\n",
      "Requirement already satisfied: nvidia-nvtx-cu12==12.1.105 in /home/jupyter/.local/lib/python3.10/site-packages (from torch>=1.8.0->pytorchts==0.6.0) (12.1.105)\n",
      "Requirement already satisfied: triton==3.0.0 in /home/jupyter/.local/lib/python3.10/site-packages (from torch>=1.8.0->pytorchts==0.6.0) (3.0.0)\n",
      "Requirement already satisfied: nvidia-nvjitlink-cu12 in /home/jupyter/.local/lib/python3.10/site-packages (from nvidia-cusolver-cu12==11.4.5.107->torch>=1.8.0->pytorchts==0.6.0) (12.6.20)\n",
      "Requirement already satisfied: contourpy>=1.0.1 in /usr/local/lib/python3.10/dist-packages (from matplotlib->pytorchts==0.6.0) (1.1.0)\n",
      "Requirement already satisfied: cycler>=0.10 in /usr/local/lib/python3.10/dist-packages (from matplotlib->pytorchts==0.6.0) (0.11.0)\n",
      "Requirement already satisfied: fonttools>=4.22.0 in /usr/local/lib/python3.10/dist-packages (from matplotlib->pytorchts==0.6.0) (4.41.1)\n",
      "Requirement already satisfied: kiwisolver>=1.0.1 in /usr/local/lib/python3.10/dist-packages (from matplotlib->pytorchts==0.6.0) (1.4.4)\n",
      "Requirement already satisfied: packaging>=20.0 in /usr/local/lib/python3.10/dist-packages (from matplotlib->pytorchts==0.6.0) (23.1)\n",
      "Requirement already satisfied: pillow>=6.2.0 in /usr/local/lib/python3.10/dist-packages (from matplotlib->pytorchts==0.6.0) (9.4.0)\n",
      "Requirement already satisfied: pyparsing>=2.3.1 in /usr/local/lib/python3.10/dist-packages (from matplotlib->pytorchts==0.6.0) (3.1.0)\n",
      "Requirement already satisfied: absl-py>=0.4 in /usr/local/lib/python3.10/dist-packages (from tensorboard->pytorchts==0.6.0) (1.4.0)\n",
      "Requirement already satisfied: grpcio>=1.48.2 in /usr/local/lib/python3.10/dist-packages (from tensorboard->pytorchts==0.6.0) (1.56.2)\n",
      "Requirement already satisfied: google-auth<3,>=1.6.3 in /usr/local/lib/python3.10/dist-packages (from tensorboard->pytorchts==0.6.0) (2.17.3)\n",
      "Requirement already satisfied: google-auth-oauthlib<1.1,>=0.5 in /usr/local/lib/python3.10/dist-packages (from tensorboard->pytorchts==0.6.0) (1.0.0)\n",
      "Requirement already satisfied: markdown>=2.6.8 in /usr/local/lib/python3.10/dist-packages (from tensorboard->pytorchts==0.6.0) (3.4.4)\n",
      "Requirement already satisfied: protobuf>=3.19.6 in /usr/local/lib/python3.10/dist-packages (from tensorboard->pytorchts==0.6.0) (3.20.3)\n",
      "Requirement already satisfied: requests<3,>=2.21.0 in /home/jupyter/.local/lib/python3.10/site-packages (from tensorboard->pytorchts==0.6.0) (2.32.3)\n",
      "Requirement already satisfied: setuptools>=41.0.0 in /kernel/lib/python3.10/site-packages (from tensorboard->pytorchts==0.6.0) (65.5.0)\n",
      "Requirement already satisfied: tensorboard-data-server<0.8.0,>=0.7.0 in /usr/local/lib/python3.10/dist-packages (from tensorboard->pytorchts==0.6.0) (0.7.1)\n",
      "Requirement already satisfied: werkzeug>=1.0.1 in /usr/local/lib/python3.10/dist-packages (from tensorboard->pytorchts==0.6.0) (2.3.6)\n",
      "Requirement already satisfied: wheel>=0.26 in /usr/local/lib/python3.10/dist-packages (from tensorboard->pytorchts==0.6.0) (0.41.1)\n",
      "Requirement already satisfied: cachetools<6.0,>=2.0.0 in /usr/local/lib/python3.10/dist-packages (from google-auth<3,>=1.6.3->tensorboard->pytorchts==0.6.0) (5.3.1)\n",
      "Requirement already satisfied: pyasn1-modules>=0.2.1 in /usr/local/lib/python3.10/dist-packages (from google-auth<3,>=1.6.3->tensorboard->pytorchts==0.6.0) (0.3.0)\n",
      "Requirement already satisfied: six>=1.9.0 in /usr/lib/python3/dist-packages (from google-auth<3,>=1.6.3->tensorboard->pytorchts==0.6.0) (1.16.0)\n",
      "Requirement already satisfied: rsa<5,>=3.1.4 in /usr/local/lib/python3.10/dist-packages (from google-auth<3,>=1.6.3->tensorboard->pytorchts==0.6.0) (4.9)\n",
      "Requirement already satisfied: requests-oauthlib>=0.7.0 in /usr/local/lib/python3.10/dist-packages (from google-auth-oauthlib<1.1,>=0.5->tensorboard->pytorchts==0.6.0) (1.3.1)\n",
      "Requirement already satisfied: charset-normalizer<4,>=2 in /usr/local/lib/python3.10/dist-packages (from requests<3,>=2.21.0->tensorboard->pytorchts==0.6.0) (2.0.12)\n",
      "Requirement already satisfied: idna<4,>=2.5 in /usr/local/lib/python3.10/dist-packages (from requests<3,>=2.21.0->tensorboard->pytorchts==0.6.0) (3.4)\n",
      "Requirement already satisfied: urllib3<3,>=1.21.1 in /usr/local/lib/python3.10/dist-packages (from requests<3,>=2.21.0->tensorboard->pytorchts==0.6.0) (1.26.16)\n",
      "Requirement already satisfied: certifi>=2017.4.17 in /usr/local/lib/python3.10/dist-packages (from requests<3,>=2.21.0->tensorboard->pytorchts==0.6.0) (2023.7.22)\n",
      "Requirement already satisfied: MarkupSafe>=2.1.1 in /usr/local/lib/python3.10/dist-packages (from werkzeug>=1.0.1->tensorboard->pytorchts==0.6.0) (2.1.3)\n",
      "Requirement already satisfied: mpmath>=0.19 in /usr/local/lib/python3.10/dist-packages (from sympy->torch>=1.8.0->pytorchts==0.6.0) (1.3.0)\n",
      "Requirement already satisfied: pyasn1<0.6.0,>=0.4.6 in /usr/local/lib/python3.10/dist-packages (from pyasn1-modules>=0.2.1->google-auth<3,>=1.6.3->tensorboard->pytorchts==0.6.0) (0.5.0)\n",
      "Requirement already satisfied: oauthlib>=3.0.0 in /usr/local/lib/python3.10/dist-packages (from requests-oauthlib>=0.7.0->google-auth-oauthlib<1.1,>=0.5->tensorboard->pytorchts==0.6.0) (3.2.2)\n",
      "\n",
      "\u001b[1m[\u001b[0m\u001b[34;49mnotice\u001b[0m\u001b[1;39;49m]\u001b[0m\u001b[39;49m A new release of pip is available: \u001b[0m\u001b[31;49m23.0.1\u001b[0m\u001b[39;49m -> \u001b[0m\u001b[32;49m24.2\u001b[0m\n",
      "\u001b[1m[\u001b[0m\u001b[34;49mnotice\u001b[0m\u001b[1;39;49m]\u001b[0m\u001b[39;49m To update, run: \u001b[0m\u001b[32;49mpython3 -m pip install --upgrade pip\u001b[0m\n"
     ]
    }
   ],
   "source": [
    "%pip install lightning\n",
    "%pip install git+https://github.com/zalandoresearch/pytorch-ts@master"
   ]
  },
  {
   "cell_type": "code",
   "execution_count": 22,
   "id": "7d6d9d43-91f9-45a7-ac07-9a7724e538c6",
   "metadata": {
    "execution": {
     "iopub.execute_input": "2024-08-10T18:18:42.078387Z",
     "iopub.status.busy": "2024-08-10T18:18:42.077308Z",
     "iopub.status.idle": "2024-08-10T18:18:49.688375Z",
     "shell.execute_reply": "2024-08-10T18:18:49.687300Z",
     "shell.execute_reply.started": "2024-08-10T18:18:42.078344Z"
    },
    "tags": []
   },
   "outputs": [
    {
     "name": "stdout",
     "output_type": "stream",
     "text": [
      "Found existing installation: pytorchts 0.6.0\n",
      "Uninstalling pytorchts-0.6.0:\n",
      "  Successfully uninstalled pytorchts-0.6.0\n",
      "Defaulting to user installation because normal site-packages is not writeable\n",
      "Collecting git+https://github.com/zalandoresearch/pytorch-ts@master\n",
      "  Cloning https://github.com/zalandoresearch/pytorch-ts (to revision master) to /tmp/pip-req-build-nuizjtrq\n",
      "  Running command git clone --filter=blob:none --quiet https://github.com/zalandoresearch/pytorch-ts /tmp/pip-req-build-nuizjtrq\n",
      "  Resolved https://github.com/zalandoresearch/pytorch-ts to commit 7860c9693d55b5c086867477cc33c89485ed0167\n",
      "  Preparing metadata (setup.py) ... \u001b[?25ldone\n",
      "\u001b[?25hRequirement already satisfied: torch>=1.8.0 in /home/jupyter/.local/lib/python3.10/site-packages (from pytorchts==0.6.0) (2.4.0)\n",
      "Requirement already satisfied: gluonts>=0.9.0 in /home/jupyter/.local/lib/python3.10/site-packages (from pytorchts==0.6.0) (0.15.0)\n",
      "Requirement already satisfied: holidays in /usr/local/lib/python3.10/dist-packages (from pytorchts==0.6.0) (0.29)\n",
      "Requirement already satisfied: numpy~=1.16 in /home/jupyter/.local/lib/python3.10/site-packages (from pytorchts==0.6.0) (1.26.4)\n",
      "Requirement already satisfied: pandas~=1.1 in /usr/local/lib/python3.10/dist-packages (from pytorchts==0.6.0) (1.5.3)\n",
      "Requirement already satisfied: scipy in /usr/local/lib/python3.10/dist-packages (from pytorchts==0.6.0) (1.10.1)\n",
      "Requirement already satisfied: tqdm in /home/jupyter/.local/lib/python3.10/site-packages (from pytorchts==0.6.0) (4.66.5)\n",
      "Requirement already satisfied: matplotlib in /usr/local/lib/python3.10/dist-packages (from pytorchts==0.6.0) (3.7.1)\n",
      "Requirement already satisfied: tensorboard in /usr/local/lib/python3.10/dist-packages (from pytorchts==0.6.0) (2.12.3)\n",
      "Requirement already satisfied: pydantic<3,>=1.7 in /usr/local/lib/python3.10/dist-packages (from gluonts>=0.9.0->pytorchts==0.6.0) (1.10.12)\n",
      "Requirement already satisfied: toolz~=0.10 in /usr/local/lib/python3.10/dist-packages (from gluonts>=0.9.0->pytorchts==0.6.0) (0.12.0)\n",
      "Requirement already satisfied: typing-extensions~=4.0 in /home/jupyter/.local/lib/python3.10/site-packages (from gluonts>=0.9.0->pytorchts==0.6.0) (4.12.2)\n",
      "Requirement already satisfied: python-dateutil>=2.8.1 in /usr/local/lib/python3.10/dist-packages (from pandas~=1.1->pytorchts==0.6.0) (2.8.2)\n",
      "Requirement already satisfied: pytz>=2020.1 in /usr/local/lib/python3.10/dist-packages (from pandas~=1.1->pytorchts==0.6.0) (2022.7.1)\n",
      "Requirement already satisfied: filelock in /usr/local/lib/python3.10/dist-packages (from torch>=1.8.0->pytorchts==0.6.0) (3.12.2)\n",
      "Requirement already satisfied: sympy in /usr/local/lib/python3.10/dist-packages (from torch>=1.8.0->pytorchts==0.6.0) (1.11.1)\n",
      "Requirement already satisfied: networkx in /usr/local/lib/python3.10/dist-packages (from torch>=1.8.0->pytorchts==0.6.0) (3.1)\n",
      "Requirement already satisfied: jinja2 in /usr/local/lib/python3.10/dist-packages (from torch>=1.8.0->pytorchts==0.6.0) (3.1.2)\n",
      "Requirement already satisfied: fsspec in /usr/local/lib/python3.10/dist-packages (from torch>=1.8.0->pytorchts==0.6.0) (2023.6.0)\n",
      "Requirement already satisfied: nvidia-cuda-nvrtc-cu12==12.1.105 in /home/jupyter/.local/lib/python3.10/site-packages (from torch>=1.8.0->pytorchts==0.6.0) (12.1.105)\n",
      "Requirement already satisfied: nvidia-cuda-runtime-cu12==12.1.105 in /home/jupyter/.local/lib/python3.10/site-packages (from torch>=1.8.0->pytorchts==0.6.0) (12.1.105)\n",
      "Requirement already satisfied: nvidia-cuda-cupti-cu12==12.1.105 in /home/jupyter/.local/lib/python3.10/site-packages (from torch>=1.8.0->pytorchts==0.6.0) (12.1.105)\n",
      "Requirement already satisfied: nvidia-cudnn-cu12==9.1.0.70 in /home/jupyter/.local/lib/python3.10/site-packages (from torch>=1.8.0->pytorchts==0.6.0) (9.1.0.70)\n",
      "Requirement already satisfied: nvidia-cublas-cu12==12.1.3.1 in /home/jupyter/.local/lib/python3.10/site-packages (from torch>=1.8.0->pytorchts==0.6.0) (12.1.3.1)\n",
      "Requirement already satisfied: nvidia-cufft-cu12==11.0.2.54 in /home/jupyter/.local/lib/python3.10/site-packages (from torch>=1.8.0->pytorchts==0.6.0) (11.0.2.54)\n",
      "Requirement already satisfied: nvidia-curand-cu12==10.3.2.106 in /home/jupyter/.local/lib/python3.10/site-packages (from torch>=1.8.0->pytorchts==0.6.0) (10.3.2.106)\n",
      "Requirement already satisfied: nvidia-cusolver-cu12==11.4.5.107 in /home/jupyter/.local/lib/python3.10/site-packages (from torch>=1.8.0->pytorchts==0.6.0) (11.4.5.107)\n",
      "Requirement already satisfied: nvidia-cusparse-cu12==12.1.0.106 in /home/jupyter/.local/lib/python3.10/site-packages (from torch>=1.8.0->pytorchts==0.6.0) (12.1.0.106)\n",
      "Requirement already satisfied: nvidia-nccl-cu12==2.20.5 in /home/jupyter/.local/lib/python3.10/site-packages (from torch>=1.8.0->pytorchts==0.6.0) (2.20.5)\n",
      "Requirement already satisfied: nvidia-nvtx-cu12==12.1.105 in /home/jupyter/.local/lib/python3.10/site-packages (from torch>=1.8.0->pytorchts==0.6.0) (12.1.105)\n",
      "Requirement already satisfied: triton==3.0.0 in /home/jupyter/.local/lib/python3.10/site-packages (from torch>=1.8.0->pytorchts==0.6.0) (3.0.0)\n",
      "Requirement already satisfied: nvidia-nvjitlink-cu12 in /home/jupyter/.local/lib/python3.10/site-packages (from nvidia-cusolver-cu12==11.4.5.107->torch>=1.8.0->pytorchts==0.6.0) (12.6.20)\n",
      "Requirement already satisfied: contourpy>=1.0.1 in /usr/local/lib/python3.10/dist-packages (from matplotlib->pytorchts==0.6.0) (1.1.0)\n",
      "Requirement already satisfied: cycler>=0.10 in /usr/local/lib/python3.10/dist-packages (from matplotlib->pytorchts==0.6.0) (0.11.0)\n",
      "Requirement already satisfied: fonttools>=4.22.0 in /usr/local/lib/python3.10/dist-packages (from matplotlib->pytorchts==0.6.0) (4.41.1)\n",
      "Requirement already satisfied: kiwisolver>=1.0.1 in /usr/local/lib/python3.10/dist-packages (from matplotlib->pytorchts==0.6.0) (1.4.4)\n",
      "Requirement already satisfied: packaging>=20.0 in /usr/local/lib/python3.10/dist-packages (from matplotlib->pytorchts==0.6.0) (23.1)\n",
      "Requirement already satisfied: pillow>=6.2.0 in /usr/local/lib/python3.10/dist-packages (from matplotlib->pytorchts==0.6.0) (9.4.0)\n",
      "Requirement already satisfied: pyparsing>=2.3.1 in /usr/local/lib/python3.10/dist-packages (from matplotlib->pytorchts==0.6.0) (3.1.0)\n",
      "Requirement already satisfied: absl-py>=0.4 in /usr/local/lib/python3.10/dist-packages (from tensorboard->pytorchts==0.6.0) (1.4.0)\n",
      "Requirement already satisfied: grpcio>=1.48.2 in /usr/local/lib/python3.10/dist-packages (from tensorboard->pytorchts==0.6.0) (1.56.2)\n",
      "Requirement already satisfied: google-auth<3,>=1.6.3 in /usr/local/lib/python3.10/dist-packages (from tensorboard->pytorchts==0.6.0) (2.17.3)\n",
      "Requirement already satisfied: google-auth-oauthlib<1.1,>=0.5 in /usr/local/lib/python3.10/dist-packages (from tensorboard->pytorchts==0.6.0) (1.0.0)\n",
      "Requirement already satisfied: markdown>=2.6.8 in /usr/local/lib/python3.10/dist-packages (from tensorboard->pytorchts==0.6.0) (3.4.4)\n",
      "Requirement already satisfied: protobuf>=3.19.6 in /usr/local/lib/python3.10/dist-packages (from tensorboard->pytorchts==0.6.0) (3.20.3)\n",
      "Requirement already satisfied: requests<3,>=2.21.0 in /home/jupyter/.local/lib/python3.10/site-packages (from tensorboard->pytorchts==0.6.0) (2.32.3)\n",
      "Requirement already satisfied: setuptools>=41.0.0 in /kernel/lib/python3.10/site-packages (from tensorboard->pytorchts==0.6.0) (65.5.0)\n",
      "Requirement already satisfied: tensorboard-data-server<0.8.0,>=0.7.0 in /usr/local/lib/python3.10/dist-packages (from tensorboard->pytorchts==0.6.0) (0.7.1)\n",
      "Requirement already satisfied: werkzeug>=1.0.1 in /usr/local/lib/python3.10/dist-packages (from tensorboard->pytorchts==0.6.0) (2.3.6)\n",
      "Requirement already satisfied: wheel>=0.26 in /usr/local/lib/python3.10/dist-packages (from tensorboard->pytorchts==0.6.0) (0.41.1)\n",
      "Requirement already satisfied: cachetools<6.0,>=2.0.0 in /usr/local/lib/python3.10/dist-packages (from google-auth<3,>=1.6.3->tensorboard->pytorchts==0.6.0) (5.3.1)\n",
      "Requirement already satisfied: pyasn1-modules>=0.2.1 in /usr/local/lib/python3.10/dist-packages (from google-auth<3,>=1.6.3->tensorboard->pytorchts==0.6.0) (0.3.0)\n",
      "Requirement already satisfied: six>=1.9.0 in /usr/lib/python3/dist-packages (from google-auth<3,>=1.6.3->tensorboard->pytorchts==0.6.0) (1.16.0)\n",
      "Requirement already satisfied: rsa<5,>=3.1.4 in /usr/local/lib/python3.10/dist-packages (from google-auth<3,>=1.6.3->tensorboard->pytorchts==0.6.0) (4.9)\n",
      "Requirement already satisfied: requests-oauthlib>=0.7.0 in /usr/local/lib/python3.10/dist-packages (from google-auth-oauthlib<1.1,>=0.5->tensorboard->pytorchts==0.6.0) (1.3.1)\n",
      "Requirement already satisfied: charset-normalizer<4,>=2 in /usr/local/lib/python3.10/dist-packages (from requests<3,>=2.21.0->tensorboard->pytorchts==0.6.0) (2.0.12)\n",
      "Requirement already satisfied: idna<4,>=2.5 in /usr/local/lib/python3.10/dist-packages (from requests<3,>=2.21.0->tensorboard->pytorchts==0.6.0) (3.4)\n",
      "Requirement already satisfied: urllib3<3,>=1.21.1 in /usr/local/lib/python3.10/dist-packages (from requests<3,>=2.21.0->tensorboard->pytorchts==0.6.0) (1.26.16)\n",
      "Requirement already satisfied: certifi>=2017.4.17 in /usr/local/lib/python3.10/dist-packages (from requests<3,>=2.21.0->tensorboard->pytorchts==0.6.0) (2023.7.22)\n",
      "Requirement already satisfied: MarkupSafe>=2.1.1 in /usr/local/lib/python3.10/dist-packages (from werkzeug>=1.0.1->tensorboard->pytorchts==0.6.0) (2.1.3)\n",
      "Requirement already satisfied: mpmath>=0.19 in /usr/local/lib/python3.10/dist-packages (from sympy->torch>=1.8.0->pytorchts==0.6.0) (1.3.0)\n",
      "Requirement already satisfied: pyasn1<0.6.0,>=0.4.6 in /usr/local/lib/python3.10/dist-packages (from pyasn1-modules>=0.2.1->google-auth<3,>=1.6.3->tensorboard->pytorchts==0.6.0) (0.5.0)\n",
      "Requirement already satisfied: oauthlib>=3.0.0 in /usr/local/lib/python3.10/dist-packages (from requests-oauthlib>=0.7.0->google-auth-oauthlib<1.1,>=0.5->tensorboard->pytorchts==0.6.0) (3.2.2)\n",
      "Building wheels for collected packages: pytorchts\n",
      "  Building wheel for pytorchts (setup.py) ... \u001b[?25ldone\n",
      "\u001b[?25h  Created wheel for pytorchts: filename=pytorchts-0.6.0-py3-none-any.whl size=114060 sha256=89ff6e6906d3b7ae305d9fef1136c6096d9313030eb030f82f98d6af8122e4f6\n",
      "  Stored in directory: /tmp/pip-ephem-wheel-cache-y_avm86r/wheels/43/76/be/de78d0e289ce22a1098854b6a52016f09f6d2adccf7f03b153\n",
      "Successfully built pytorchts\n",
      "Installing collected packages: pytorchts\n",
      "Successfully installed pytorchts-0.6.0\n",
      "\n",
      "\u001b[1m[\u001b[0m\u001b[34;49mnotice\u001b[0m\u001b[1;39;49m]\u001b[0m\u001b[39;49m A new release of pip is available: \u001b[0m\u001b[31;49m23.0.1\u001b[0m\u001b[39;49m -> \u001b[0m\u001b[32;49m24.2\u001b[0m\n",
      "\u001b[1m[\u001b[0m\u001b[34;49mnotice\u001b[0m\u001b[1;39;49m]\u001b[0m\u001b[39;49m To update, run: \u001b[0m\u001b[32;49mpython3 -m pip install --upgrade pip\u001b[0m\n"
     ]
    }
   ],
   "source": [
    "%pip uninstall pytorchts\n",
    "%pip install git+https://github.com/zalandoresearch/pytorch-ts@master"
   ]
  },
  {
   "cell_type": "code",
   "execution_count": 5,
   "id": "7939f4dd-bf6f-4666-a0f4-bb8203690fbd",
   "metadata": {
    "execution": {
     "iopub.execute_input": "2024-08-10T19:47:11.967793Z",
     "iopub.status.busy": "2024-08-10T19:47:11.966541Z",
     "iopub.status.idle": "2024-08-10T19:47:11.995359Z",
     "shell.execute_reply": "2024-08-10T19:47:11.994605Z",
     "shell.execute_reply.started": "2024-08-10T19:47:11.967738Z"
    },
    "tags": []
   },
   "outputs": [
    {
     "data": {
      "text/plain": [
       "'0.15.0'"
      ]
     },
     "execution_count": 5,
     "metadata": {},
     "output_type": "execute_result"
    }
   ],
   "source": [
    "import gluonts\n",
    "\n",
    "gluonts.__version__"
   ]
  },
  {
   "cell_type": "code",
   "execution_count": 6,
   "id": "7c7a6113-fdc8-4f4d-81a0-b170ddf144ed",
   "metadata": {
    "execution": {
     "iopub.execute_input": "2024-08-10T19:47:15.497167Z",
     "iopub.status.busy": "2024-08-10T19:47:15.496054Z",
     "iopub.status.idle": "2024-08-10T19:47:41.702915Z",
     "shell.execute_reply": "2024-08-10T19:47:41.701908Z",
     "shell.execute_reply.started": "2024-08-10T19:47:15.497120Z"
    },
    "tags": []
   },
   "outputs": [
    {
     "name": "stderr",
     "output_type": "stream",
     "text": [
      "/home/jupyter/.local/lib/python3.10/site-packages/torch/cuda/__init__.py:654: UserWarning: Can't initialize NVML\n",
      "  warnings.warn(\"Can't initialize NVML\")\n"
     ]
    },
    {
     "ename": "ModuleNotFoundError",
     "evalue": "No module named 'gluonts.torch.modules.distribution_output'",
     "output_type": "error",
     "traceback": [
      "\u001b[0;31m---------------------------------------------------------------------------\u001b[0m",
      "\u001b[0;31mModuleNotFoundError\u001b[0m                       Traceback (most recent call last)",
      "\u001b[0;32m/tmp/ipykernel_2149/3216531374.py\u001b[0m in \u001b[0;36m<cell line: 1>\u001b[0;34m()\u001b[0m\n\u001b[0;32m----> 1\u001b[0;31m \u001b[0;32mimport\u001b[0m \u001b[0mgluonts\u001b[0m\u001b[0;34m.\u001b[0m\u001b[0mtorch\u001b[0m\u001b[0;34m.\u001b[0m\u001b[0mmodules\u001b[0m\u001b[0;34m.\u001b[0m\u001b[0mdistribution_output\u001b[0m\u001b[0;34m\u001b[0m\u001b[0;34m\u001b[0m\u001b[0m\n\u001b[0m",
      "\u001b[0;31mModuleNotFoundError\u001b[0m: No module named 'gluonts.torch.modules.distribution_output'"
     ]
    }
   ],
   "source": [
    "import gluonts.torch.modules.distribution_output"
   ]
  },
  {
   "cell_type": "code",
   "execution_count": 1,
   "id": "5fe23211-ecf6-48d1-aac6-bf2a9282986e",
   "metadata": {
    "collapsed": true,
    "execution": {
     "iopub.execute_input": "2024-08-09T13:46:10.275513Z",
     "iopub.status.busy": "2024-08-09T13:46:10.274539Z",
     "iopub.status.idle": "2024-08-09T13:46:10.476026Z",
     "shell.execute_reply": "2024-08-09T13:46:10.475156Z",
     "shell.execute_reply.started": "2024-08-09T13:46:10.275475Z"
    },
    "jupyter": {
     "outputs_hidden": true
    },
    "tags": []
   },
   "outputs": [
    {
     "name": "stderr",
     "output_type": "stream",
     "text": [
      "--2024-08-09 13:46:10--  https://storage.yandexcloud.net/ds-ods/files/data/docs/competitions/DataFusion2024/Data/clients.csv\n",
      "Resolving storage.yandexcloud.net (storage.yandexcloud.net)... 213.180.193.243, 2a02:6b8::1d9\n",
      "Connecting to storage.yandexcloud.net (storage.yandexcloud.net)|213.180.193.243|:443... connected.\n",
      "HTTP request sent, awaiting response... 200 OK\n",
      "Length: 2457605 (2.3M) [text/csv]\n",
      "Saving to: ‘clients.csv’\n",
      "\n",
      "     0K .......... .......... .......... .......... ..........  2%  249M 0s\n",
      "    50K .......... .......... .......... .......... ..........  4% 78.0M 0s\n",
      "   100K .......... .......... .......... .......... ..........  6%  286M 0s\n",
      "   150K .......... .......... .......... .......... ..........  8%  163M 0s\n",
      "   200K .......... .......... .......... .......... .......... 10% 83.6M 0s\n",
      "   250K .......... .......... .......... .......... .......... 12%  393M 0s\n",
      "   300K .......... .......... .......... .......... .......... 14%  382M 0s\n",
      "   350K .......... .......... .......... .......... .......... 16%  275M 0s\n",
      "   400K .......... .......... .......... .......... .......... 18%  120M 0s\n",
      "   450K .......... .......... .......... .......... .......... 20%  409M 0s\n",
      "   500K .......... .......... .......... .......... .......... 22%  112M 0s\n",
      "   550K .......... .......... .......... .......... .......... 24%  260M 0s\n",
      "   600K .......... .......... .......... .......... .......... 27%  318M 0s\n",
      "   650K .......... .......... .......... .......... .......... 29%  372M 0s\n",
      "   700K .......... .......... .......... .......... .......... 31%  298M 0s\n",
      "   750K .......... .......... .......... .......... .......... 33%  244M 0s\n",
      "   800K .......... .......... .......... .......... .......... 35%  361M 0s\n",
      "   850K .......... .......... .......... .......... .......... 37%  317M 0s\n",
      "   900K .......... .......... .......... .......... .......... 39%  436M 0s\n",
      "   950K .......... .......... .......... .......... .......... 41%  363M 0s\n",
      "  1000K .......... .......... .......... .......... .......... 43%  380M 0s\n",
      "  1050K .......... .......... .......... .......... .......... 45%  233M 0s\n",
      "  1100K .......... .......... .......... .......... .......... 47%  340M 0s\n",
      "  1150K .......... .......... .......... .......... .......... 49%  317M 0s\n",
      "  1200K .......... .......... .......... .......... .......... 52%  294M 0s\n",
      "  1250K .......... .......... .......... .......... .......... 54%  286M 0s\n",
      "  1300K .......... .......... .......... .......... .......... 56%  280M 0s\n",
      "  1350K .......... .......... .......... .......... .......... 58%  280M 0s\n",
      "  1400K .......... .......... .......... .......... .......... 60%  287M 0s\n",
      "  1450K .......... .......... .......... .......... .......... 62%  280M 0s\n",
      "  1500K .......... .......... .......... .......... .......... 64%  292M 0s\n",
      "  1550K .......... .......... .......... .......... .......... 66%  258M 0s\n",
      "  1600K .......... .......... .......... .......... .......... 68%  323M 0s\n",
      "  1650K .......... .......... .......... .......... .......... 70%  359M 0s\n",
      "  1700K .......... .......... .......... .......... .......... 72%  300M 0s\n",
      "  1750K .......... .......... .......... .......... .......... 74%  269M 0s\n",
      "  1800K .......... .......... .......... .......... .......... 77%  266M 0s\n",
      "  1850K .......... .......... .......... .......... .......... 79%  293M 0s\n",
      "  1900K .......... .......... .......... .......... .......... 81%  314M 0s\n",
      "  1950K .......... .......... .......... .......... .......... 83%  282M 0s\n",
      "  2000K .......... .......... .......... .......... .......... 85%  441M 0s\n",
      "  2050K .......... .......... .......... .......... .......... 87%  445M 0s\n",
      "  2100K .......... .......... .......... .......... .......... 89%  451M 0s\n",
      "  2150K .......... .......... .......... .......... .......... 91%  393M 0s\n",
      "  2200K .......... .......... .......... .......... .......... 93%  457M 0s\n",
      "  2250K .......... .......... .......... .......... .......... 95%  463M 0s\n",
      "  2300K .......... .......... .......... .......... .......... 97%  447M 0s\n",
      "  2350K .......... .......... .......... .......... .......... 99%  391M 0s\n",
      "  2400K                                                       100% 9.31G=0.009s\n",
      "\n",
      "2024-08-09 13:46:10 (264 MB/s) - ‘clients.csv’ saved [2457605/2457605]\n",
      "\n"
     ]
    }
   ],
   "source": [
    "!wget https://storage.yandexcloud.net/ds-ods/files/data/docs/competitions/DataFusion2024/Data/clients.csv"
   ]
  },
  {
   "cell_type": "code",
   "execution_count": 7,
   "id": "df64a439-5203-4279-b068-486e232651b8",
   "metadata": {
    "execution": {
     "iopub.execute_input": "2024-08-09T14:21:09.750517Z",
     "iopub.status.busy": "2024-08-09T14:21:09.749481Z",
     "iopub.status.idle": "2024-08-09T14:21:09.770608Z",
     "shell.execute_reply": "2024-08-09T14:21:09.769909Z",
     "shell.execute_reply.started": "2024-08-09T14:21:09.750475Z"
    }
   },
   "outputs": [
    {
     "name": "stdout",
     "output_type": "stream",
     "text": [
      "\"user_id\",\"report\",\"employee_count_nm\",\"bankemplstatus\",\"customer_age\"\n",
      "3,2,\"ОТ 101 ДО 500\",0,3\n",
      "9,1,\"БОЛЕЕ 1001\",0,3\n",
      "13,6,\"ОТ 501 ДО 1000\",0,2\n",
      "37,5,\"БОЛЕЕ 1001\",0,2\n",
      "41,1,\"ОТ 101 ДО 500\",0,2\n",
      "42,12,\"ДО 10\",0,3\n",
      "46,11,\"БОЛЕЕ 1001\",0,3\n",
      "49,1,\"БОЛЕЕ 1001\",0,3\n",
      "50,1,NA,0,3\n"
     ]
    }
   ],
   "source": [
    "!head clients.csv"
   ]
  },
  {
   "cell_type": "code",
   "execution_count": 7,
   "id": "e71e4804-744e-42fc-b184-2d3d3412719b",
   "metadata": {
    "execution": {
     "iopub.execute_input": "2024-08-10T19:48:15.586255Z",
     "iopub.status.busy": "2024-08-10T19:48:15.585277Z",
     "iopub.status.idle": "2024-08-10T19:48:15.604462Z",
     "shell.execute_reply": "2024-08-10T19:48:15.603664Z",
     "shell.execute_reply.started": "2024-08-10T19:48:15.586213Z"
    },
    "tags": []
   },
   "outputs": [],
   "source": [
    "import numpy as np\n",
    "import pandas as pd\n",
    "import utils"
   ]
  },
  {
   "cell_type": "code",
   "execution_count": 8,
   "id": "5e112da8-9c8d-4558-84a6-bab082d80dfe",
   "metadata": {
    "execution": {
     "iopub.execute_input": "2024-08-10T19:48:15.951192Z",
     "iopub.status.busy": "2024-08-10T19:48:15.950128Z",
     "iopub.status.idle": "2024-08-10T19:48:16.063003Z",
     "shell.execute_reply": "2024-08-10T19:48:16.062228Z",
     "shell.execute_reply.started": "2024-08-10T19:48:15.951153Z"
    },
    "tags": []
   },
   "outputs": [
    {
     "data": {
      "text/html": [
       "<div>\n",
       "<style scoped>\n",
       "    .dataframe tbody tr th:only-of-type {\n",
       "        vertical-align: middle;\n",
       "    }\n",
       "\n",
       "    .dataframe tbody tr th {\n",
       "        vertical-align: top;\n",
       "    }\n",
       "\n",
       "    .dataframe thead th {\n",
       "        text-align: right;\n",
       "    }\n",
       "</style>\n",
       "<table border=\"1\" class=\"dataframe\">\n",
       "  <thead>\n",
       "    <tr style=\"text-align: right;\">\n",
       "      <th></th>\n",
       "      <th>user_id</th>\n",
       "      <th>report</th>\n",
       "      <th>employee_count_nm</th>\n",
       "      <th>bankemplstatus</th>\n",
       "      <th>customer_age</th>\n",
       "    </tr>\n",
       "  </thead>\n",
       "  <tbody>\n",
       "    <tr>\n",
       "      <th>0</th>\n",
       "      <td>3</td>\n",
       "      <td>2</td>\n",
       "      <td>ОТ 101 ДО 500</td>\n",
       "      <td>0</td>\n",
       "      <td>3</td>\n",
       "    </tr>\n",
       "    <tr>\n",
       "      <th>1</th>\n",
       "      <td>9</td>\n",
       "      <td>1</td>\n",
       "      <td>БОЛЕЕ 1001</td>\n",
       "      <td>0</td>\n",
       "      <td>3</td>\n",
       "    </tr>\n",
       "    <tr>\n",
       "      <th>2</th>\n",
       "      <td>13</td>\n",
       "      <td>6</td>\n",
       "      <td>ОТ 501 ДО 1000</td>\n",
       "      <td>0</td>\n",
       "      <td>2</td>\n",
       "    </tr>\n",
       "    <tr>\n",
       "      <th>3</th>\n",
       "      <td>37</td>\n",
       "      <td>5</td>\n",
       "      <td>БОЛЕЕ 1001</td>\n",
       "      <td>0</td>\n",
       "      <td>2</td>\n",
       "    </tr>\n",
       "    <tr>\n",
       "      <th>4</th>\n",
       "      <td>41</td>\n",
       "      <td>1</td>\n",
       "      <td>ОТ 101 ДО 500</td>\n",
       "      <td>0</td>\n",
       "      <td>2</td>\n",
       "    </tr>\n",
       "  </tbody>\n",
       "</table>\n",
       "</div>"
      ],
      "text/plain": [
       "   user_id  report employee_count_nm  bankemplstatus  customer_age\n",
       "0        3       2     ОТ 101 ДО 500               0             3\n",
       "1        9       1        БОЛЕЕ 1001               0             3\n",
       "2       13       6    ОТ 501 ДО 1000               0             2\n",
       "3       37       5        БОЛЕЕ 1001               0             2\n",
       "4       41       1     ОТ 101 ДО 500               0             2"
      ]
     },
     "execution_count": 8,
     "metadata": {},
     "output_type": "execute_result"
    }
   ],
   "source": [
    "clients = pd.read_csv(\"clients.csv\")\n",
    "clients.head()\n",
    "\n",
    "# print(clients['bankemplstatus'].unique())"
   ]
  },
  {
   "cell_type": "code",
   "execution_count": 9,
   "id": "aa0000cb-2a97-4c31-bddf-b383b00ce92c",
   "metadata": {
    "execution": {
     "iopub.execute_input": "2024-08-10T19:48:16.350082Z",
     "iopub.status.busy": "2024-08-10T19:48:16.349013Z",
     "iopub.status.idle": "2024-08-10T19:48:16.401156Z",
     "shell.execute_reply": "2024-08-10T19:48:16.400152Z",
     "shell.execute_reply.started": "2024-08-10T19:48:16.350035Z"
    },
    "tags": []
   },
   "outputs": [
    {
     "data": {
      "text/html": [
       "<div>\n",
       "<style scoped>\n",
       "    .dataframe tbody tr th:only-of-type {\n",
       "        vertical-align: middle;\n",
       "    }\n",
       "\n",
       "    .dataframe tbody tr th {\n",
       "        vertical-align: top;\n",
       "    }\n",
       "\n",
       "    .dataframe thead th {\n",
       "        text-align: right;\n",
       "    }\n",
       "</style>\n",
       "<table border=\"1\" class=\"dataframe\">\n",
       "  <thead>\n",
       "    <tr style=\"text-align: right;\">\n",
       "      <th></th>\n",
       "      <th>user_id</th>\n",
       "      <th>report</th>\n",
       "      <th>employee_count_nm</th>\n",
       "      <th>bankemplstatus</th>\n",
       "      <th>customer_age</th>\n",
       "    </tr>\n",
       "  </thead>\n",
       "  <tbody>\n",
       "    <tr>\n",
       "      <th>0</th>\n",
       "      <td>3</td>\n",
       "      <td>2</td>\n",
       "      <td>5</td>\n",
       "      <td>0</td>\n",
       "      <td>3</td>\n",
       "    </tr>\n",
       "    <tr>\n",
       "      <th>1</th>\n",
       "      <td>9</td>\n",
       "      <td>1</td>\n",
       "      <td>8</td>\n",
       "      <td>0</td>\n",
       "      <td>3</td>\n",
       "    </tr>\n",
       "    <tr>\n",
       "      <th>2</th>\n",
       "      <td>13</td>\n",
       "      <td>6</td>\n",
       "      <td>7</td>\n",
       "      <td>0</td>\n",
       "      <td>2</td>\n",
       "    </tr>\n",
       "    <tr>\n",
       "      <th>3</th>\n",
       "      <td>37</td>\n",
       "      <td>5</td>\n",
       "      <td>8</td>\n",
       "      <td>0</td>\n",
       "      <td>2</td>\n",
       "    </tr>\n",
       "    <tr>\n",
       "      <th>4</th>\n",
       "      <td>41</td>\n",
       "      <td>1</td>\n",
       "      <td>5</td>\n",
       "      <td>0</td>\n",
       "      <td>2</td>\n",
       "    </tr>\n",
       "  </tbody>\n",
       "</table>\n",
       "</div>"
      ],
      "text/plain": [
       "   user_id  report  employee_count_nm  bankemplstatus  customer_age\n",
       "0        3       2                  5               0             3\n",
       "1        9       1                  8               0             3\n",
       "2       13       6                  7               0             2\n",
       "3       37       5                  8               0             2\n",
       "4       41       1                  5               0             2"
      ]
     },
     "execution_count": 9,
     "metadata": {},
     "output_type": "execute_result"
    }
   ],
   "source": [
    "clients[\"employee_count_nm\"] = utils.encode_categorical(\n",
    "    clients[\"employee_count_nm\"], utils.employee_count_nm_categories\n",
    ")\n",
    "clients.head()"
   ]
  },
  {
   "cell_type": "code",
   "execution_count": 10,
   "id": "5c28c9be-4a90-43a2-b5f0-0abc91403f87",
   "metadata": {
    "execution": {
     "iopub.execute_input": "2024-08-10T19:48:16.747882Z",
     "iopub.status.busy": "2024-08-10T19:48:16.746738Z",
     "iopub.status.idle": "2024-08-10T19:48:27.347780Z",
     "shell.execute_reply": "2024-08-10T19:48:27.347012Z",
     "shell.execute_reply.started": "2024-08-10T19:48:16.747817Z"
    },
    "tags": []
   },
   "outputs": [],
   "source": [
    "transactions_train_initial = pd.read_csv(\n",
    "    \"/home/jupyter/datasphere/project/tabsyn/data/transactions_dt_split_nouser/train.csv\"\n",
    ")\n",
    "transactions_test_initial = pd.read_csv(\n",
    "    \"/home/jupyter/datasphere/project/tabsyn/data/transactions_dt_split_nouser/test.csv\"\n",
    ")"
   ]
  },
  {
   "cell_type": "code",
   "execution_count": null,
   "id": "03d02de4-200e-4df5-83d1-a4dbf9d939ec",
   "metadata": {
    "execution": {
     "iopub.execute_input": "2024-08-10T19:48:27.349483Z",
     "iopub.status.busy": "2024-08-10T19:48:27.349006Z"
    },
    "tags": []
   },
   "outputs": [],
   "source": [
    "train_npy = np.load(\n",
    "    \"/home/jupyter/datasphere/project/tabsyn/tabsyn/vae/ckpt/transactions_dt_split_nouser_1e3/train_z.npy\"\n",
    ")\n",
    "test_npy = np.load(\n",
    "    \"/home/jupyter/datasphere/project/tabsyn/tabsyn/vae/ckpt/transactions_dt_split_nouser_1e3/test_z.npy\"\n",
    ")"
   ]
  },
  {
   "cell_type": "code",
   "execution_count": null,
   "id": "e33f0483-6a30-48ca-8fb9-0bc35421d24f",
   "metadata": {
    "tags": []
   },
   "outputs": [],
   "source": [
    "assert transactions_train_initial.shape[0] == train_npy.shape[0]\n",
    "assert transactions_test_initial.shape[0] == test_npy.shape[0]"
   ]
  },
  {
   "cell_type": "code",
   "execution_count": null,
   "id": "8b5fbe47-edc9-43c6-8bc4-923eb60b0202",
   "metadata": {
    "tags": []
   },
   "outputs": [],
   "source": [
    "formatted_train_npy = utils.format_TabSyn_embed(train_npy)\n",
    "formatted_test_npy = utils.format_TabSyn_embed(test_npy)"
   ]
  },
  {
   "cell_type": "code",
   "execution_count": null,
   "id": "59d94ce5-98e1-47ea-8b2a-cc330efb5a79",
   "metadata": {
    "tags": []
   },
   "outputs": [],
   "source": [
    "assert transactions_train_initial.shape[0] == formatted_train_npy.shape[0]\n",
    "assert transactions_test_initial.shape[0] == formatted_test_npy.shape[0]"
   ]
  },
  {
   "cell_type": "code",
   "execution_count": null,
   "id": "a873001d-e1c7-41f8-a582-42a5c122eb8e",
   "metadata": {
    "tags": []
   },
   "outputs": [],
   "source": [
    "transactions_train_joined = utils.combine_transactions_users(\n",
    "    transactions_train_initial, clients, drop=False\n",
    ")\n",
    "transactions_test_joined = utils.combine_transactions_users(\n",
    "    transactions_test_initial, clients, drop=False\n",
    ")"
   ]
  },
  {
   "cell_type": "code",
   "execution_count": null,
   "id": "a69385f6-a75f-4c94-ba43-cbac2c0b4bb0",
   "metadata": {
    "tags": []
   },
   "outputs": [],
   "source": [
    "assert transactions_train_joined.shape[0] == formatted_train_npy.shape[0]\n",
    "assert transactions_test_joined.shape[0] == formatted_test_npy.shape[0]"
   ]
  },
  {
   "cell_type": "code",
   "execution_count": null,
   "id": "06f3167d-c4cf-400e-97d8-edd0b303797c",
   "metadata": {
    "tags": []
   },
   "outputs": [],
   "source": [
    "transactions_train_joined.head()"
   ]
  },
  {
   "cell_type": "code",
   "execution_count": null,
   "id": "bfa9b44e-bbb0-4366-af77-f804a01e7da6",
   "metadata": {
    "tags": []
   },
   "outputs": [],
   "source": [
    "transactions_real_train_df = utils.convert_np_to_pd(formatted_train_npy)\n",
    "transactions_real_test_df = utils.convert_np_to_pd(\n",
    "    formatted_test_npy, offset=len(transactions_real_train_df)\n",
    ")\n",
    "transactions_real_train_df[\"user_id\"] = transactions_train_joined[\"user_id\"]\n",
    "transactions_real_test_df[\"user_id\"] = transactions_test_joined[\"user_id\"]\n",
    "transactions_real_train_df.tail()"
   ]
  },
  {
   "cell_type": "code",
   "execution_count": null,
   "id": "c6796efa-4896-43a3-8857-958d313d2f5e",
   "metadata": {
    "tags": []
   },
   "outputs": [],
   "source": [
    "transactions_real_test_df.head()"
   ]
  },
  {
   "cell_type": "code",
   "execution_count": null,
   "id": "0616cd80-cd18-497d-9ae2-85c28fcea75b",
   "metadata": {
    "tags": []
   },
   "outputs": [],
   "source": [
    "import torch\n",
    "from gluonts.dataset.pandas import PandasDataset\n",
    "from pts.model.time_grad import TimeGradEstimator\n",
    "\n",
    "device = torch.device(\"cuda\" if torch.cuda.is_available() else \"cpu\")\n",
    "\n",
    "transactions_real_train = PandasDataset.from_long_dataframe(\n",
    "    dataframe=transactions_real_train_df,\n",
    "    # item_id='user_id', # dunno if it's needed\n",
    "    item_id=\"user_id\",\n",
    "    static_features=transactions_train_joined,\n",
    "    target=transactions_real_train_df.columns[1:],\n",
    "    assume_sorted=True,\n",
    ")"
   ]
  },
  {
   "cell_type": "code",
   "execution_count": 19,
   "id": "2c9cd31d-3329-4a06-a448-c3c9e2fa93b3",
   "metadata": {
    "execution": {
     "iopub.execute_input": "2024-08-10T18:16:38.777218Z",
     "iopub.status.busy": "2024-08-10T18:16:38.776116Z",
     "iopub.status.idle": "2024-08-10T18:16:38.838900Z",
     "shell.execute_reply": "2024-08-10T18:16:38.836674Z",
     "shell.execute_reply.started": "2024-08-10T18:16:38.777174Z"
    },
    "tags": []
   },
   "outputs": [
    {
     "ename": "NameError",
     "evalue": "name 'device' is not defined",
     "output_type": "error",
     "traceback": [
      "\u001b[0;31m---------------------------------------------------------------------------\u001b[0m",
      "\u001b[0;31mNameError\u001b[0m                                 Traceback (most recent call last)",
      "\u001b[0;32m/tmp/ipykernel_8198/1098981787.py\u001b[0m in \u001b[0;36m<cell line: 1>\u001b[0;34m()\u001b[0m\n\u001b[0;32m----> 1\u001b[0;31m \u001b[0mdevice\u001b[0m\u001b[0;34m\u001b[0m\u001b[0;34m\u001b[0m\u001b[0m\n\u001b[0m",
      "\u001b[0;31mNameError\u001b[0m: name 'device' is not defined"
     ]
    }
   ],
   "source": [
    "device"
   ]
  },
  {
   "cell_type": "code",
   "execution_count": 16,
   "id": "223e6c07-4d9e-4edb-848a-c06b0737f5ad",
   "metadata": {
    "execution": {
     "iopub.execute_input": "2024-08-10T17:28:50.833971Z",
     "iopub.status.busy": "2024-08-10T17:28:50.832186Z",
     "iopub.status.idle": "2024-08-10T17:28:50.858787Z",
     "shell.execute_reply": "2024-08-10T17:28:50.857746Z",
     "shell.execute_reply.started": "2024-08-10T17:28:50.833928Z"
    },
    "tags": []
   },
   "outputs": [
    {
     "data": {
      "text/plain": [
       "5"
      ]
     },
     "execution_count": 16,
     "metadata": {},
     "output_type": "execute_result"
    }
   ],
   "source": [
    "transactions_real_train.num_feat_static_real"
   ]
  },
  {
   "cell_type": "code",
   "execution_count": 17,
   "id": "b5c121a3-165b-442f-8fe3-b2899736fb9a",
   "metadata": {
    "execution": {
     "iopub.execute_input": "2024-08-10T17:28:53.121286Z",
     "iopub.status.busy": "2024-08-10T17:28:53.119597Z",
     "iopub.status.idle": "2024-08-10T17:28:53.147903Z",
     "shell.execute_reply": "2024-08-10T17:28:53.146810Z",
     "shell.execute_reply.started": "2024-08-10T17:28:53.121248Z"
    },
    "tags": []
   },
   "outputs": [
    {
     "data": {
      "text/plain": [
       "Index(['dyn_real_0', 'dyn_real_1', 'dyn_real_2', 'dyn_real_3', 'dyn_real_4',\n",
       "       'dyn_real_5', 'dyn_real_6', 'dyn_real_7', 'dyn_real_8', 'dyn_real_9',\n",
       "       'dyn_real_10', 'dyn_real_11', 'dyn_real_12', 'dyn_real_13',\n",
       "       'dyn_real_14', 'dyn_real_15', 'user_id'],\n",
       "      dtype='object')"
      ]
     },
     "execution_count": 17,
     "metadata": {},
     "output_type": "execute_result"
    }
   ],
   "source": [
    "transactions_real_train.target"
   ]
  },
  {
   "cell_type": "code",
   "execution_count": 19,
   "id": "f79a6099-26b8-4dd4-8f9b-7b29520799ed",
   "metadata": {
    "execution": {
     "iopub.execute_input": "2024-08-10T17:43:36.832997Z",
     "iopub.status.busy": "2024-08-10T17:43:36.831511Z",
     "iopub.status.idle": "2024-08-10T17:43:36.864024Z",
     "shell.execute_reply": "2024-08-10T17:43:36.862607Z",
     "shell.execute_reply.started": "2024-08-10T17:43:36.832946Z"
    },
    "tags": []
   },
   "outputs": [
    {
     "ename": "NameError",
     "evalue": "name 'TimeGradEstimator' is not defined",
     "output_type": "error",
     "traceback": [
      "\u001b[0;31m---------------------------------------------------------------------------\u001b[0m",
      "\u001b[0;31mNameError\u001b[0m                                 Traceback (most recent call last)",
      "\u001b[0;32m/tmp/ipykernel_8715/2887526162.py\u001b[0m in \u001b[0;36m<cell line: 1>\u001b[0;34m()\u001b[0m\n\u001b[0;32m----> 1\u001b[0;31m estimator = TimeGradEstimator(\n\u001b[0m\u001b[1;32m      2\u001b[0m     \u001b[0mtarget_dim\u001b[0m\u001b[0;34m=\u001b[0m\u001b[0mlen\u001b[0m\u001b[0;34m(\u001b[0m\u001b[0mtransactions_real_train\u001b[0m\u001b[0;34m.\u001b[0m\u001b[0mtarget\u001b[0m\u001b[0;34m)\u001b[0m\u001b[0;34m-\u001b[0m\u001b[0;36m1\u001b[0m\u001b[0;34m,\u001b[0m\u001b[0;34m\u001b[0m\u001b[0;34m\u001b[0m\u001b[0m\n\u001b[1;32m      3\u001b[0m     \u001b[0mprediction_length\u001b[0m\u001b[0;34m=\u001b[0m\u001b[0;36m24\u001b[0m\u001b[0;34m,\u001b[0m\u001b[0;34m\u001b[0m\u001b[0;34m\u001b[0m\u001b[0m\n\u001b[1;32m      4\u001b[0m     \u001b[0mcontext_length\u001b[0m\u001b[0;34m=\u001b[0m\u001b[0;36m24\u001b[0m\u001b[0;34m,\u001b[0m\u001b[0;34m\u001b[0m\u001b[0;34m\u001b[0m\u001b[0m\n\u001b[1;32m      5\u001b[0m     \u001b[0mcell_type\u001b[0m\u001b[0;34m=\u001b[0m\u001b[0;34m'GRU'\u001b[0m\u001b[0;34m,\u001b[0m\u001b[0;34m\u001b[0m\u001b[0;34m\u001b[0m\u001b[0m\n",
      "\u001b[0;31mNameError\u001b[0m: name 'TimeGradEstimator' is not defined"
     ]
    }
   ],
   "source": [
    "estimator = TimeGradEstimator(\n",
    "    target_dim=len(transactions_real_train.target) - 1,\n",
    "    prediction_length=24,\n",
    "    context_length=24,\n",
    "    cell_type=\"GRU\",\n",
    "    input_size=transactions_real_train.num_feat_static_real\n",
    "    + len(transactions_real_train.target)\n",
    "    - 1,\n",
    "    freq=\"S\",\n",
    "    loss_type=\"l2\",\n",
    "    scaling=True,\n",
    "    diff_steps=100,\n",
    "    beta_end=0.1,\n",
    "    beta_schedule=\"linear\",\n",
    "    trainer=Trainer(\n",
    "        device=device,\n",
    "        epochs=20,\n",
    "        learning_rate=1e-3,\n",
    "        num_batches_per_epoch=100,\n",
    "        batch_size=64,\n",
    "    ),\n",
    ")"
   ]
  },
  {
   "cell_type": "code",
   "execution_count": null,
   "id": "0b3f8d6a-ba5b-43ae-ab2f-a10d8ac3746e",
   "metadata": {},
   "outputs": [],
   "source": [
    "predictor = estimator.train(dataset_train, num_workers=8)"
   ]
  },
  {
   "cell_type": "code",
   "execution_count": 104,
   "id": "0bfb48c1-fba3-41ab-bac0-b460ad55ae6c",
   "metadata": {
    "execution": {
     "iopub.execute_input": "2024-08-10T16:58:24.961881Z",
     "iopub.status.busy": "2024-08-10T16:58:24.960776Z",
     "iopub.status.idle": "2024-08-10T16:58:24.972958Z",
     "shell.execute_reply": "2024-08-10T16:58:24.972121Z",
     "shell.execute_reply.started": "2024-08-10T16:58:24.961844Z"
    },
    "tags": []
   },
   "outputs": [
    {
     "data": {
      "text/plain": [
       "5"
      ]
     },
     "execution_count": 104,
     "metadata": {},
     "output_type": "execute_result"
    }
   ],
   "source": [
    "transactions_real_train.num_feat_static_real"
   ]
  },
  {
   "cell_type": "code",
   "execution_count": 79,
   "id": "65951608-3955-4eb1-80c5-52fabf74ecee",
   "metadata": {
    "execution": {
     "iopub.execute_input": "2024-08-10T16:45:46.498126Z",
     "iopub.status.busy": "2024-08-10T16:45:46.497103Z",
     "iopub.status.idle": "2024-08-10T16:45:46.514678Z",
     "shell.execute_reply": "2024-08-10T16:45:46.513963Z",
     "shell.execute_reply.started": "2024-08-10T16:45:46.498091Z"
    },
    "tags": []
   },
   "outputs": [
    {
     "data": {
      "text/plain": [
       "<module 'utils' from '/home/jupyter/work/resources/utils.py'>"
      ]
     },
     "execution_count": 79,
     "metadata": {},
     "output_type": "execute_result"
    }
   ],
   "source": [
    "import importlib\n",
    "\n",
    "importlib.reload(utils)"
   ]
  },
  {
   "cell_type": "code",
   "execution_count": 27,
   "id": "0c05068b-afdc-4735-b985-35e1d29f047e",
   "metadata": {
    "execution": {
     "iopub.execute_input": "2024-08-10T14:38:25.600096Z",
     "iopub.status.busy": "2024-08-10T14:38:25.599036Z",
     "iopub.status.idle": "2024-08-10T14:38:27.781608Z",
     "shell.execute_reply": "2024-08-10T14:38:27.780869Z",
     "shell.execute_reply.started": "2024-08-10T14:38:25.600056Z"
    }
   },
   "outputs": [],
   "source": [
    "from gluonts.dataset.repository.datasets import dataset_recipes, get_dataset\n",
    "\n",
    "dataset = get_dataset(\"electricity_nips\", regenerate=False)"
   ]
  },
  {
   "cell_type": "code",
   "execution_count": 29,
   "id": "3f359fb3-2cae-429b-8c6c-b240a87be86e",
   "metadata": {
    "execution": {
     "iopub.execute_input": "2024-08-10T14:38:49.866656Z",
     "iopub.status.busy": "2024-08-10T14:38:49.865801Z",
     "iopub.status.idle": "2024-08-10T14:38:49.880094Z",
     "shell.execute_reply": "2024-08-10T14:38:49.879501Z",
     "shell.execute_reply.started": "2024-08-10T14:38:49.866620Z"
    },
    "tags": []
   },
   "outputs": [
    {
     "data": {
      "text/plain": [
       "MetaData(freq='H', target=None, feat_static_cat=[CategoricalFeatureInfo(name='feat_static_cat_0', cardinality='370')], feat_static_real=[], feat_dynamic_real=[], feat_dynamic_cat=[], prediction_length=24)"
      ]
     },
     "execution_count": 29,
     "metadata": {},
     "output_type": "execute_result"
    }
   ],
   "source": [
    "dataset.metadata"
   ]
  },
  {
   "cell_type": "code",
   "execution_count": 30,
   "id": "c2013f82-d16b-4d28-9da5-e831119aedb3",
   "metadata": {
    "execution": {
     "iopub.execute_input": "2024-08-10T15:26:28.717183Z",
     "iopub.status.busy": "2024-08-10T15:26:28.716190Z",
     "iopub.status.idle": "2024-08-10T15:26:28.727101Z",
     "shell.execute_reply": "2024-08-10T15:26:28.726471Z",
     "shell.execute_reply.started": "2024-08-10T15:26:28.717149Z"
    }
   },
   "outputs": [
    {
     "data": {
      "text/plain": [
       "'370'"
      ]
     },
     "execution_count": 30,
     "metadata": {},
     "output_type": "execute_result"
    }
   ],
   "source": [
    "dataset.metadata.feat_static_cat[0].cardinality"
   ]
  },
  {
   "cell_type": "code",
   "execution_count": 23,
   "id": "7365cccc-5da6-47c9-bfc6-98cd35a01ae7",
   "metadata": {
    "execution": {
     "iopub.execute_input": "2024-08-10T14:26:40.049256Z",
     "iopub.status.busy": "2024-08-10T14:26:40.048441Z",
     "iopub.status.idle": "2024-08-10T14:26:40.061692Z",
     "shell.execute_reply": "2024-08-10T14:26:40.061036Z",
     "shell.execute_reply.started": "2024-08-10T14:26:40.049231Z"
    },
    "tags": []
   },
   "outputs": [
    {
     "name": "stdout",
     "output_type": "stream",
     "text": [
      "def format_TabSyn_embed(embedding):\n",
      "    return embedding[:, 1:, :].flatten(dimensions=(1, 2))\n",
      "\n"
     ]
    }
   ],
   "source": [
    "import inspect\n",
    "\n",
    "lines = inspect.getsource(utils.format_TabSyn_embed)\n",
    "print(lines)"
   ]
  },
  {
   "cell_type": "markdown",
   "id": "c4941109-91db-4330-807b-b8a9ed3736a1",
   "metadata": {},
   "source": [
    "### Тут теshape датасетов"
   ]
  },
  {
   "cell_type": "code",
   "execution_count": 4,
   "id": "a09689b9-c2ff-49d1-9ba1-16bca4fd3635",
   "metadata": {
    "execution": {
     "iopub.execute_input": "2024-08-09T14:11:08.335661Z",
     "iopub.status.busy": "2024-08-09T14:11:08.334518Z",
     "iopub.status.idle": "2024-08-09T14:11:08.939782Z",
     "shell.execute_reply": "2024-08-09T14:11:08.939033Z",
     "shell.execute_reply.started": "2024-08-09T14:11:08.335617Z"
    }
   },
   "outputs": [],
   "source": [
    "from gluonts.dataset.multivariate_grouper import MultivariateGrouper\n",
    "from gluonts.dataset.repository.datasets import dataset_recipes, get_dataset\n",
    "from gluonts.evaluation import MultivariateEvaluator\n",
    "from gluonts.evaluation.backtest import make_evaluation_predictions"
   ]
  },
  {
   "cell_type": "code",
   "execution_count": 5,
   "id": "e82c3306-76c7-41fa-ac04-a6929605b510",
   "metadata": {
    "execution": {
     "iopub.execute_input": "2024-08-09T14:11:25.867814Z",
     "iopub.status.busy": "2024-08-09T14:11:25.866786Z",
     "iopub.status.idle": "2024-08-09T14:11:38.945671Z",
     "shell.execute_reply": "2024-08-09T14:11:38.945030Z",
     "shell.execute_reply.started": "2024-08-09T14:11:25.867774Z"
    }
   },
   "outputs": [],
   "source": [
    "dataset = get_dataset(\"electricity_nips\", regenerate=False)"
   ]
  }
 ],
 "metadata": {
  "kernelspec": {
   "display_name": "DataSphere Kernel",
   "language": "python",
   "name": "python3"
  },
  "language_info": {
   "codemirror_mode": {
    "name": "ipython",
    "version": 3
   },
   "file_extension": ".py",
   "mimetype": "text/x-python",
   "name": "python",
   "nbconvert_exporter": "python",
   "pygments_lexer": "ipython3",
   "version": "3.10.12"
  }
 },
 "nbformat": 4,
 "nbformat_minor": 5
}
