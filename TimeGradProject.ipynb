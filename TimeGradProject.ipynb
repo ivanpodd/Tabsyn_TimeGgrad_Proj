{
 "cells": [
  {
   "cell_type": "code",
   "execution_count": 2,
   "metadata": {
    "execution": {
     "iopub.execute_input": "2024-08-10T14:32:08.809621Z",
     "iopub.status.busy": "2024-08-10T14:32:08.808487Z",
     "iopub.status.idle": "2024-08-10T14:32:08.827370Z",
     "shell.execute_reply": "2024-08-10T14:32:08.826184Z",
     "shell.execute_reply.started": "2024-08-10T14:32:08.809585Z"
    },
    "id": "smfVqLQRcUm2",
    "tags": []
   },
   "outputs": [],
   "source": [
    "import os"
   ]
  },
  {
   "cell_type": "code",
   "execution_count": 3,
   "metadata": {
    "execution": {
     "iopub.execute_input": "2024-08-10T14:32:09.060415Z",
     "iopub.status.busy": "2024-08-10T14:32:09.059254Z",
     "iopub.status.idle": "2024-08-10T14:32:09.076742Z",
     "shell.execute_reply": "2024-08-10T14:32:09.075604Z",
     "shell.execute_reply.started": "2024-08-10T14:32:09.060376Z"
    },
    "tags": []
   },
   "outputs": [],
   "source": [
    "os.chdir('tabsyn/')"
   ]
  },
  {
   "cell_type": "code",
   "execution_count": null,
   "metadata": {
    "colab": {
     "base_uri": "https://localhost:8080/"
    },
    "id": "XdsWxECJTGCx",
    "outputId": "6c22b345-202a-450c-95d5-0ac6f0d4a8dc",
    "tags": []
   },
   "outputs": [],
   "source": [
    "%pip install torch torchvision torchaudio"
   ]
  },
  {
   "cell_type": "code",
   "execution_count": null,
   "metadata": {},
   "outputs": [],
   "source": []
  },
  {
   "cell_type": "code",
   "execution_count": null,
   "metadata": {
    "colab": {
     "base_uri": "https://localhost:8080/"
    },
    "id": "Pj77Mw3NVj51",
    "outputId": "e3fd5f4f-cda0-4478-d068-f1bac70ead92",
    "tags": []
   },
   "outputs": [],
   "source": [
    "# install requirements for TabSyn\n",
    "!wget https://raw.githubusercontent.com/amazon-science/tabsyn/main/requirements.txt\n",
    "%pip install -r requirements.txt"
   ]
  },
  {
   "cell_type": "code",
   "execution_count": null,
   "metadata": {
    "colab": {
     "base_uri": "https://localhost:8080/"
    },
    "id": "nOTevHUWYSqk",
    "outputId": "219ea16a-6e6d-4caf-dcc5-deb56ea7b2f1",
    "tags": []
   },
   "outputs": [],
   "source": [
    "# download transactions\n",
    "!wget https://storage.yandexcloud.net/ds-ods/files/data/docs/competitions/DataFusion2024/Data/transactions.csv.zip\n",
    "!unzip transactions.csv.zip\n",
    "!rm transactions.csv.zip"
   ]
  },
  {
   "cell_type": "code",
   "execution_count": 1,
   "metadata": {
    "colab": {
     "base_uri": "https://localhost:8080/"
    },
    "execution": {
     "iopub.execute_input": "2024-08-08T11:56:49.151452Z",
     "iopub.status.busy": "2024-08-08T11:56:49.150621Z",
     "iopub.status.idle": "2024-08-08T11:56:49.187943Z",
     "shell.execute_reply": "2024-08-08T11:56:49.186816Z",
     "shell.execute_reply.started": "2024-08-08T11:56:49.151401Z"
    },
    "id": "T3PjNGRMafnA",
    "outputId": "5fcf992d-2129-4428-d433-21e0e14bd67a",
    "tags": []
   },
   "outputs": [
    {
     "name": "stdout",
     "output_type": "stream",
     "text": [
      "\"user_id\",\"mcc_code\",\"currency_rk\",\"transaction_amt\",\"transaction_dttm\"\n",
      "3,3,1,-183.88395690918,2022-01-28 12:05:33\n",
      "3,3,1,-3206.43701171875,2022-01-28 12:52:30\n",
      "3,16,1,-153866.890625,2022-02-16 14:45:56\n",
      "3,56,1,-15144.6015625,2022-03-09 19:58:29\n",
      "3,0,1,5297.90869140625,2022-03-12 18:11:31\n",
      "3,0,1,534.363098144531,2022-04-11 20:48:26\n",
      "3,0,1,4549.455078125,2022-04-11 20:53:35\n",
      "3,0,1,37991.9296875,2022-04-29 18:42:58\n",
      "3,0,1,28335.61328125,2022-05-05 20:32:38\n"
     ]
    }
   ],
   "source": [
    "!head transactions.csv"
   ]
  },
  {
   "cell_type": "code",
   "execution_count": 7,
   "metadata": {
    "execution": {
     "iopub.execute_input": "2024-08-10T14:20:16.368198Z",
     "iopub.status.busy": "2024-08-10T14:20:16.367206Z",
     "iopub.status.idle": "2024-08-10T14:20:16.381779Z",
     "shell.execute_reply": "2024-08-10T14:20:16.381212Z",
     "shell.execute_reply.started": "2024-08-10T14:20:16.368156Z"
    },
    "id": "Juo9ybWibysW",
    "tags": []
   },
   "outputs": [],
   "source": [
    "import pandas as pd\n",
    "import json\n",
    "from datetime import datetime\n",
    "TIME_FORMAT='%Y-%m-%d %H:%M:%S'"
   ]
  },
  {
   "cell_type": "code",
   "execution_count": 12,
   "metadata": {
    "colab": {
     "base_uri": "https://localhost:8080/",
     "height": 206
    },
    "execution": {
     "iopub.execute_input": "2024-08-08T10:43:19.808901Z",
     "iopub.status.busy": "2024-08-08T10:43:19.807905Z",
     "iopub.status.idle": "2024-08-08T10:43:29.231743Z",
     "shell.execute_reply": "2024-08-08T10:43:29.230871Z",
     "shell.execute_reply.started": "2024-08-08T10:43:19.808862Z"
    },
    "id": "S77qT1wcIZ4x",
    "outputId": "6c1623f2-768e-4114-84ab-fbd24724400f",
    "tags": []
   },
   "outputs": [
    {
     "data": {
      "text/html": [
       "<div>\n",
       "<style scoped>\n",
       "    .dataframe tbody tr th:only-of-type {\n",
       "        vertical-align: middle;\n",
       "    }\n",
       "\n",
       "    .dataframe tbody tr th {\n",
       "        vertical-align: top;\n",
       "    }\n",
       "\n",
       "    .dataframe thead th {\n",
       "        text-align: right;\n",
       "    }\n",
       "</style>\n",
       "<table border=\"1\" class=\"dataframe\">\n",
       "  <thead>\n",
       "    <tr style=\"text-align: right;\">\n",
       "      <th></th>\n",
       "      <th>user_id</th>\n",
       "      <th>mcc_code</th>\n",
       "      <th>currency_rk</th>\n",
       "      <th>transaction_amt</th>\n",
       "      <th>transaction_dttm</th>\n",
       "    </tr>\n",
       "  </thead>\n",
       "  <tbody>\n",
       "    <tr>\n",
       "      <th>0</th>\n",
       "      <td>3</td>\n",
       "      <td>3</td>\n",
       "      <td>1</td>\n",
       "      <td>-183.883957</td>\n",
       "      <td>2022-01-28 12:05:33</td>\n",
       "    </tr>\n",
       "    <tr>\n",
       "      <th>1</th>\n",
       "      <td>3</td>\n",
       "      <td>3</td>\n",
       "      <td>1</td>\n",
       "      <td>-3206.437012</td>\n",
       "      <td>2022-01-28 12:52:30</td>\n",
       "    </tr>\n",
       "    <tr>\n",
       "      <th>2</th>\n",
       "      <td>3</td>\n",
       "      <td>16</td>\n",
       "      <td>1</td>\n",
       "      <td>-153866.890625</td>\n",
       "      <td>2022-02-16 14:45:56</td>\n",
       "    </tr>\n",
       "    <tr>\n",
       "      <th>3</th>\n",
       "      <td>3</td>\n",
       "      <td>56</td>\n",
       "      <td>1</td>\n",
       "      <td>-15144.601562</td>\n",
       "      <td>2022-03-09 19:58:29</td>\n",
       "    </tr>\n",
       "    <tr>\n",
       "      <th>4</th>\n",
       "      <td>3</td>\n",
       "      <td>0</td>\n",
       "      <td>1</td>\n",
       "      <td>5297.908691</td>\n",
       "      <td>2022-03-12 18:11:31</td>\n",
       "    </tr>\n",
       "  </tbody>\n",
       "</table>\n",
       "</div>"
      ],
      "text/plain": [
       "   user_id  mcc_code  currency_rk  transaction_amt     transaction_dttm\n",
       "0        3         3            1      -183.883957  2022-01-28 12:05:33\n",
       "1        3         3            1     -3206.437012  2022-01-28 12:52:30\n",
       "2        3        16            1   -153866.890625  2022-02-16 14:45:56\n",
       "3        3        56            1    -15144.601562  2022-03-09 19:58:29\n",
       "4        3         0            1      5297.908691  2022-03-12 18:11:31"
      ]
     },
     "execution_count": 12,
     "metadata": {},
     "output_type": "execute_result"
    }
   ],
   "source": [
    "#transactions = pd.read_csv('transactions.csv', sep=',', index_col=False, usecols=lambda x: x != \"user_id\")\n",
    "transactions = pd.read_csv('transactions.csv', sep=',', index_col=False)\n",
    "transactions.head()"
   ]
  },
  {
   "cell_type": "code",
   "execution_count": null,
   "metadata": {
    "colab": {
     "base_uri": "https://localhost:8080/",
     "height": 226
    },
    "id": "jJz-kfu1dENG",
    "outputId": "4471fef2-d54e-4330-adf0-40b7554e7215"
   },
   "outputs": [],
   "source": [
    "# '2022-01-28 12:05:33' -> 1643371533\n",
    "'''\n",
    "def convert_date_to_timestamp(x):\n",
    "  return datetime.strptime(x, TIME_FORMAT).timestamp()#strftime(\"%s\"))\n",
    "\n",
    "transactions['transaction_dttm'] = transactions['transaction_dttm'].apply(convert_date_to_timestamp)\n",
    "transactions['transaction_dttm_dif'] = transactions['transaction_dttm'].diff()\n",
    "transactions.at[0, 'transaction_dttm_dif'] = 0\n",
    "transactions.head()\n",
    "'''"
   ]
  },
  {
   "cell_type": "code",
   "execution_count": null,
   "metadata": {
    "colab": {
     "base_uri": "https://localhost:8080/",
     "height": 480
    },
    "id": "u-Eyh6OSi1QD",
    "outputId": "e1e9ce28-f542-4849-a563-6a392227b1c0"
   },
   "outputs": [
    {
     "data": {
      "text/plain": [
       "<Axes: >"
      ]
     },
     "execution_count": 9,
     "metadata": {},
     "output_type": "execute_result"
    },
    {
     "data": {
      "image/png": "[encoded data removed]",
      "text/plain": [
       "<Figure size 640x480 with 1 Axes>"
      ]
     },
     "metadata": {},
     "output_type": "display_data"
    }
   ],
   "source": [
    "transactions['transaction_dttm_dif'].plot()"
   ]
  },
  {
   "cell_type": "code",
   "execution_count": null,
   "metadata": {
    "colab": {
     "base_uri": "https://localhost:8080/",
     "height": 147
    },
    "execution": {
     "iopub.status.busy": "2024-08-08T10:43:06.911501Z",
     "iopub.status.idle": "2024-08-08T10:43:06.912397Z",
     "shell.execute_reply": "2024-08-08T10:43:06.912190Z",
     "shell.execute_reply.started": "2024-08-08T10:43:06.912165Z"
    },
    "id": "B8C6e2F6oqf-",
    "outputId": "2eef5c84-62e7-4d04-c9eb-f07a47be8ab7",
    "tags": []
   },
   "outputs": [],
   "source": [
    "transactions['transaction_dttm_dif'].min(),transactions['transaction_dttm_dif'].max()"
   ]
  },
  {
   "cell_type": "code",
   "execution_count": 13,
   "metadata": {
    "execution": {
     "iopub.execute_input": "2024-08-08T10:43:29.234174Z",
     "iopub.status.busy": "2024-08-08T10:43:29.233518Z",
     "iopub.status.idle": "2024-08-08T10:43:36.972301Z",
     "shell.execute_reply": "2024-08-08T10:43:36.971590Z",
     "shell.execute_reply.started": "2024-08-08T10:43:29.234137Z"
    },
    "id": "CfYCYLG6svUQ",
    "tags": []
   },
   "outputs": [],
   "source": [
    "transactions['min_datetime'] = transactions.groupby('user_id')['transaction_dttm'].transform('min')"
   ]
  },
  {
   "cell_type": "code",
   "execution_count": 14,
   "metadata": {
    "execution": {
     "iopub.execute_input": "2024-08-08T10:43:36.975121Z",
     "iopub.status.busy": "2024-08-08T10:43:36.973339Z",
     "iopub.status.idle": "2024-08-08T10:45:07.770179Z",
     "shell.execute_reply": "2024-08-08T10:45:07.769465Z",
     "shell.execute_reply.started": "2024-08-08T10:43:36.975080Z"
    },
    "id": "9xqlDQ5ttObI",
    "tags": []
   },
   "outputs": [],
   "source": [
    "def convert_date_to_timestamp(x):\n",
    "  return datetime.strptime(x, TIME_FORMAT).timestamp()#strftime(\"%s\"))\n",
    "\n",
    "transactions['min_datetime'] = transactions['min_datetime'].apply(convert_date_to_timestamp)"
   ]
  },
  {
   "cell_type": "code",
   "execution_count": 15,
   "metadata": {
    "execution": {
     "iopub.execute_input": "2024-08-08T10:45:07.772502Z",
     "iopub.status.busy": "2024-08-08T10:45:07.771811Z",
     "iopub.status.idle": "2024-08-08T10:46:38.279513Z",
     "shell.execute_reply": "2024-08-08T10:46:38.278737Z",
     "shell.execute_reply.started": "2024-08-08T10:45:07.772468Z"
    },
    "id": "Yvd57YmBtoLR",
    "tags": []
   },
   "outputs": [],
   "source": [
    "transactions['transaction_dttm'] = transactions['transaction_dttm'].apply(convert_date_to_timestamp)"
   ]
  },
  {
   "cell_type": "code",
   "execution_count": 16,
   "metadata": {
    "execution": {
     "iopub.execute_input": "2024-08-08T10:46:38.280981Z",
     "iopub.status.busy": "2024-08-08T10:46:38.280536Z",
     "iopub.status.idle": "2024-08-08T10:46:38.348948Z",
     "shell.execute_reply": "2024-08-08T10:46:38.348149Z",
     "shell.execute_reply.started": "2024-08-08T10:46:38.280950Z"
    },
    "id": "j13N7FUgtbMg",
    "tags": []
   },
   "outputs": [],
   "source": [
    "transactions['time_diff'] = transactions['transaction_dttm'] - transactions['min_datetime']"
   ]
  },
  {
   "cell_type": "code",
   "execution_count": 17,
   "metadata": {
    "execution": {
     "iopub.execute_input": "2024-08-08T10:47:01.800280Z",
     "iopub.status.busy": "2024-08-08T10:47:01.798959Z",
     "iopub.status.idle": "2024-08-08T10:47:02.147050Z",
     "shell.execute_reply": "2024-08-08T10:47:02.146302Z",
     "shell.execute_reply.started": "2024-08-08T10:47:01.800239Z"
    },
    "id": "IuIFp5-rumL4",
    "tags": []
   },
   "outputs": [],
   "source": [
    "transactions_DT = transactions.drop(columns=['transaction_dttm', 'min_datetime'])"
   ]
  },
  {
   "cell_type": "code",
   "execution_count": 18,
   "metadata": {
    "execution": {
     "iopub.execute_input": "2024-08-08T10:47:04.462820Z",
     "iopub.status.busy": "2024-08-08T10:47:04.461865Z",
     "iopub.status.idle": "2024-08-08T10:47:35.703450Z",
     "shell.execute_reply": "2024-08-08T10:47:35.702712Z",
     "shell.execute_reply.started": "2024-08-08T10:47:04.462779Z"
    },
    "id": "Zl7czNhYvZ_0",
    "tags": []
   },
   "outputs": [],
   "source": [
    "transactions_DT.to_csv('transactions_dt.csv', index = False)"
   ]
  },
  {
   "cell_type": "code",
   "execution_count": null,
   "metadata": {
    "id": "ZwEAuTPuxCQG"
   },
   "outputs": [],
   "source": [
    "!cp transactions_dt.csv drive/MyDrive/TimeGradProject/"
   ]
  },
  {
   "cell_type": "code",
   "execution_count": null,
   "metadata": {
    "colab": {
     "base_uri": "https://localhost:8080/",
     "height": 463
    },
    "id": "5keon9qvyLwE",
    "outputId": "d45d44ed-4db3-4470-b9bc-26d73798a5d7"
   },
   "outputs": [
    {
     "data": {
      "text/plain": [
       "<Axes: >"
      ]
     },
     "execution_count": 27,
     "metadata": {},
     "output_type": "execute_result"
    },
    {
     "data": {
      "image/png": "[encoded data removed]",
      "text/plain": [
       "<Figure size 640x480 with 1 Axes>"
      ]
     },
     "metadata": {},
     "output_type": "display_data"
    }
   ],
   "source": [
    "transactions[transactions.user_id <= 100]['time_diff'].plot()"
   ]
  },
  {
   "cell_type": "code",
   "execution_count": 43,
   "metadata": {
    "colab": {
     "base_uri": "https://localhost:8080/"
    },
    "id": "5DkiwwNAdz9b",
    "outputId": "b1742723-7715-411c-f092-3714b93d95ba"
   },
   "outputs": [
    {
     "data": {
      "text/plain": [
       "False"
      ]
     },
     "execution_count": 43,
     "metadata": {},
     "output_type": "execute_result"
    }
   ],
   "source": [
    "transactions_DT.isnull().values.any()"
   ]
  },
  {
   "cell_type": "code",
   "execution_count": 20,
   "metadata": {
    "colab": {
     "base_uri": "https://localhost:8080/"
    },
    "execution": {
     "iopub.execute_input": "2024-08-08T10:49:27.992948Z",
     "iopub.status.busy": "2024-08-08T10:49:27.991844Z",
     "iopub.status.idle": "2024-08-08T10:49:28.005659Z",
     "shell.execute_reply": "2024-08-08T10:49:28.005041Z",
     "shell.execute_reply.started": "2024-08-08T10:49:27.992908Z"
    },
    "id": "j8ATHtOayUkP",
    "outputId": "f08079e0-7ee4-41bc-9670-773ef37fcaa9",
    "tags": []
   },
   "outputs": [
    {
     "name": "stdout",
     "output_type": "stream",
     "text": [
      "user_id,mcc_code,currency_rk,transaction_amt,time_diff\n",
      "3,3,1,-183.88395690918,0.0\n",
      "3,3,1,-3206.43701171875,2817.0\n",
      "3,16,1,-153866.890625,1651223.0\n",
      "3,56,1,-15144.6015625,3484376.0\n",
      "3,0,1,5297.90869140625,3737158.0\n",
      "3,0,1,534.363098144531,6338573.0\n",
      "3,0,1,4549.455078125,6338882.0\n",
      "3,0,1,37991.9296875,7886245.0\n",
      "3,0,1,28335.61328125,8411225.0\n"
     ]
    }
   ],
   "source": [
    "!head transactions_dt.csv"
   ]
  },
  {
   "cell_type": "code",
   "execution_count": 29,
   "metadata": {
    "execution": {
     "iopub.execute_input": "2024-08-08T10:53:19.408571Z",
     "iopub.status.busy": "2024-08-08T10:53:19.407361Z",
     "iopub.status.idle": "2024-08-08T10:53:19.419992Z",
     "shell.execute_reply": "2024-08-08T10:53:19.419304Z",
     "shell.execute_reply.started": "2024-08-08T10:53:19.408523Z"
    },
    "id": "wHoRDvGE03cu",
    "tags": []
   },
   "outputs": [],
   "source": [
    "config_file = {\n",
    "    \"name\": \"transactions_dt\",\n",
    "    \"task_type\": \"binclass\", # binclass or regression\n",
    "    \"header\": \"infer\",\n",
    "    \"column_names\": [],\n",
    "    \"num_col_idx\": [3, 4],  # list of indices of numerical columns\n",
    "    \"cat_col_idx\": [0, 1, 2],  # list of indices of categorical columns\n",
    "    \"target_col_idx\": [], # list of indices of the target columns (for MLE)\n",
    "    \"file_type\": \"csv\",\n",
    "    \"data_path\": \"data/transactions_dt/transactions_dt.csv\",\n",
    "    \"test_path\": ''\n",
    "}"
   ]
  },
  {
   "cell_type": "code",
   "execution_count": 1,
   "metadata": {
    "execution": {
     "iopub.execute_input": "2024-08-09T16:15:29.938462Z",
     "iopub.status.busy": "2024-08-09T16:15:29.937273Z",
     "iopub.status.idle": "2024-08-09T16:15:29.969091Z",
     "shell.execute_reply": "2024-08-09T16:15:29.967849Z",
     "shell.execute_reply.started": "2024-08-09T16:15:29.938418Z"
    },
    "id": "zY98RgKwXAQ2",
    "tags": []
   },
   "outputs": [],
   "source": [
    "import json"
   ]
  },
  {
   "cell_type": "code",
   "execution_count": 30,
   "metadata": {
    "execution": {
     "iopub.execute_input": "2024-08-08T10:53:21.192810Z",
     "iopub.status.busy": "2024-08-08T10:53:21.191780Z",
     "iopub.status.idle": "2024-08-08T10:53:21.215403Z",
     "shell.execute_reply": "2024-08-08T10:53:21.214698Z",
     "shell.execute_reply.started": "2024-08-08T10:53:21.192769Z"
    },
    "id": "LkmXrzYOZcgG",
    "tags": []
   },
   "outputs": [],
   "source": [
    "with open('transactions_dt.json', 'w') as js:\n",
    "    json.dump(config_file, js)"
   ]
  },
  {
   "cell_type": "code",
   "execution_count": 25,
   "metadata": {
    "execution": {
     "iopub.execute_input": "2024-08-08T10:50:52.152655Z",
     "iopub.status.busy": "2024-08-08T10:50:52.151448Z",
     "iopub.status.idle": "2024-08-08T10:50:52.185021Z",
     "shell.execute_reply": "2024-08-08T10:50:52.184312Z",
     "shell.execute_reply.started": "2024-08-08T10:50:52.152594Z"
    },
    "id": "6VYDTYveZ6ZL"
   },
   "outputs": [],
   "source": [
    "!mkdir tabsyn/data/transactions_dt\n",
    "!mv transactions_dt.csv tabsyn/data/transactions_dt/transactions_dt.csv\n",
    "!mv transactions_dt.json tabsyn/data/Info/transactions_dt.json\n"
   ]
  },
  {
   "cell_type": "code",
   "execution_count": 31,
   "metadata": {
    "execution": {
     "iopub.execute_input": "2024-08-08T10:53:55.854754Z",
     "iopub.status.busy": "2024-08-08T10:53:55.853760Z",
     "iopub.status.idle": "2024-08-08T10:53:55.883472Z",
     "shell.execute_reply": "2024-08-08T10:53:55.882818Z",
     "shell.execute_reply.started": "2024-08-08T10:53:55.854722Z"
    }
   },
   "outputs": [],
   "source": [
    "!cp transactions_dt.json data/Info/"
   ]
  },
  {
   "cell_type": "code",
   "execution_count": null,
   "metadata": {
    "colab": {
     "base_uri": "https://localhost:8080/"
    },
    "id": "uz29sgt0bZVF",
    "outputId": "94bf11c6-70ee-423c-fa22-8c4fa54328fb",
    "tags": []
   },
   "outputs": [],
   "source": [
    "run process_dataset.py --dataname transactions_dt"
   ]
  },
  {
   "cell_type": "code",
   "execution_count": 5,
   "metadata": {
    "execution": {
     "iopub.execute_input": "2024-08-08T12:33:14.306783Z",
     "iopub.status.busy": "2024-08-08T12:33:14.305727Z",
     "iopub.status.idle": "2024-08-08T12:33:14.399103Z",
     "shell.execute_reply": "2024-08-08T12:33:14.397780Z",
     "shell.execute_reply.started": "2024-08-08T12:33:14.306746Z"
    }
   },
   "outputs": [],
   "source": [
    "!cp tabsyn/main.py tabsyn/vae"
   ]
  },
  {
   "cell_type": "code",
   "execution_count": 4,
   "metadata": {
    "execution": {
     "iopub.execute_input": "2024-08-09T18:38:53.084386Z",
     "iopub.status.busy": "2024-08-09T18:38:53.083057Z",
     "iopub.status.idle": "2024-08-09T18:38:53.110656Z",
     "shell.execute_reply": "2024-08-09T18:38:53.109506Z",
     "shell.execute_reply.started": "2024-08-09T18:38:53.084324Z"
    },
    "tags": []
   },
   "outputs": [],
   "source": [
    "torch.cuda.empty_cache()"
   ]
  },
  {
   "cell_type": "code",
   "execution_count": 25,
   "metadata": {
    "colab": {
     "base_uri": "https://localhost:8080/",
     "height": 1000
    },
    "execution": {
     "iopub.execute_input": "2024-08-10T16:40:06.445702Z",
     "iopub.status.busy": "2024-08-10T16:40:06.444225Z",
     "iopub.status.idle": "2024-08-10T17:08:00.081532Z",
     "shell.execute_reply": "2024-08-10T17:08:00.079950Z",
     "shell.execute_reply.started": "2024-08-10T16:40:06.445648Z"
    },
    "id": "xZ57Lml-gaGG",
    "outputId": "6ad8eaf0-78c0-4cf9-b998-72e18066bf96",
    "tags": []
   },
   "outputs": [
    {
     "name": "stdout",
     "output_type": "stream",
     "text": [
      "govno\n",
      "zalupa\n",
      "No NaNs in numerical features, skipping\n",
      "tensor([[  0.0802,  -1.6559],\n",
      "        [ -0.1998,  -1.6552],\n",
      "        [-14.1571,  -1.2498],\n",
      "        [ -1.3057,  -0.7991],\n",
      "        [  0.5881,  -0.7369],\n",
      "        [  0.1468,  -0.0972],\n",
      "        [  0.5187,  -0.0971],\n",
      "        [  3.6169,   0.2834],\n",
      "        [  2.7223,   0.4124],\n",
      "        [  0.5963,   0.6034]])\n",
      "tensor([[ 3,  1],\n",
      "        [ 3,  1],\n",
      "        [15,  1],\n",
      "        [55,  1],\n",
      "        [ 0,  1],\n",
      "        [ 0,  1],\n",
      "        [ 0,  1],\n",
      "        [ 0,  1],\n",
      "        [ 0,  1],\n",
      "        [ 0,  1]])\n",
      "tensor([[ 0.0942,  1.7650],\n",
      "        [ 0.0937,  1.7790],\n",
      "        [ 0.0937,  1.7871],\n",
      "        [ 0.0937,  1.7877],\n",
      "        [ 0.0942,  1.8077],\n",
      "        [-0.0073,  1.8142],\n",
      "        [ 0.0937,  1.8618],\n",
      "        [ 0.0870,  1.8721],\n",
      "        [ 0.0512,  1.8737],\n",
      "        [ 0.0883,  1.8742]])\n",
      "tensor([[10,  1],\n",
      "        [10,  1],\n",
      "        [10,  1],\n",
      "        [10,  1],\n",
      "        [10,  1],\n",
      "        [ 4,  1],\n",
      "        [10,  1],\n",
      "        [ 1,  1],\n",
      "        [ 1,  1],\n",
      "        [ 1,  1]])\n",
      "torch.Size([121063, 2])\n",
      "torch.Size([10581102, 2])\n",
      "torch.Size([121063, 2])\n",
      "torch.Size([10581102, 2])\n",
      "2\n",
      "336\n",
      "[332, 4]\n",
      "self.category_embeddings.weight.shape=torch.Size([336, 4])\n",
      "self.category_embeddings.weight.shape=torch.Size([336, 4])\n",
      "LR: 0.0001\n"
     ]
    },
    {
     "name": "stderr",
     "output_type": "stream",
     "text": [
      "Epoch 1/30: 100%|██████████| 212/212 [00:49<00:00,  4.27it/s]\n",
      "Val step 1/30: 100%|██████████| 3/3 [00:01<00:00,  2.08it/s]\n"
     ]
    },
    {
     "name": "stdout",
     "output_type": "stream",
     "text": [
      "121063\n",
      "epoch: 0, beta = 0.010000, Train MSE: 1.213095, Train CE:3.107360, Train KL:0.521649, Val MSE:0.788101, Val CE:2.943848, Train ACC:0.473984, Val ACC:0.509400\n"
     ]
    },
    {
     "name": "stderr",
     "output_type": "stream",
     "text": [
      "Epoch 2/30: 100%|██████████| 212/212 [00:49<00:00,  4.30it/s]\n",
      "Val step 2/30: 100%|██████████| 3/3 [00:01<00:00,  2.11it/s]\n"
     ]
    },
    {
     "name": "stdout",
     "output_type": "stream",
     "text": [
      "121063\n",
      "epoch: 1, beta = 0.010000, Train MSE: 0.436341, Train CE:2.623312, Train KL:1.025451, Val MSE:0.305884, Val CE:2.261895, Train ACC:0.555256, Val ACC:0.628082\n"
     ]
    },
    {
     "name": "stderr",
     "output_type": "stream",
     "text": [
      "Epoch 3/30: 100%|██████████| 212/212 [00:49<00:00,  4.28it/s]\n",
      "Val step 3/30: 100%|██████████| 3/3 [00:01<00:00,  2.07it/s]\n"
     ]
    },
    {
     "name": "stdout",
     "output_type": "stream",
     "text": [
      "121063\n",
      "epoch: 2, beta = 0.010000, Train MSE: 0.219073, Train CE:1.911833, Train KL:2.450381, Val MSE:0.147477, Val CE:1.607530, Train ACC:0.640621, Val ACC:0.657955\n"
     ]
    },
    {
     "name": "stderr",
     "output_type": "stream",
     "text": [
      "Epoch 4/30: 100%|██████████| 212/212 [00:49<00:00,  4.29it/s]\n",
      "Val step 4/30: 100%|██████████| 3/3 [00:01<00:00,  2.08it/s]\n"
     ]
    },
    {
     "name": "stdout",
     "output_type": "stream",
     "text": [
      "121063\n",
      "epoch: 3, beta = 0.010000, Train MSE: 0.117053, Train CE:1.609548, Train KL:3.683942, Val MSE:0.090261, Val CE:1.482530, Train ACC:0.642749, Val ACC:0.657781\n"
     ]
    },
    {
     "name": "stderr",
     "output_type": "stream",
     "text": [
      "Epoch 5/30: 100%|██████████| 212/212 [00:48<00:00,  4.35it/s]\n",
      "Val step 5/30: 100%|██████████| 3/3 [00:01<00:00,  2.10it/s]\n"
     ]
    },
    {
     "name": "stdout",
     "output_type": "stream",
     "text": [
      "121063\n",
      "epoch: 4, beta = 0.010000, Train MSE: 0.073202, Train CE:1.532174, Train KL:3.692829, Val MSE:0.070396, Val CE:1.422524, Train ACC:0.642743, Val ACC:0.657967\n"
     ]
    },
    {
     "name": "stderr",
     "output_type": "stream",
     "text": [
      "Epoch 6/30: 100%|██████████| 212/212 [00:49<00:00,  4.27it/s]\n",
      "Val step 6/30: 100%|██████████| 3/3 [00:01<00:00,  2.09it/s]\n"
     ]
    },
    {
     "name": "stdout",
     "output_type": "stream",
     "text": [
      "121063\n",
      "epoch: 5, beta = 0.010000, Train MSE: 0.053486, Train CE:1.469293, Train KL:3.620079, Val MSE:0.057138, Val CE:1.357843, Train ACC:0.642997, Val ACC:0.658546\n"
     ]
    },
    {
     "name": "stderr",
     "output_type": "stream",
     "text": [
      "Epoch 7/30: 100%|██████████| 212/212 [00:49<00:00,  4.31it/s]\n",
      "Val step 7/30: 100%|██████████| 3/3 [00:01<00:00,  2.09it/s]\n"
     ]
    },
    {
     "name": "stdout",
     "output_type": "stream",
     "text": [
      "121063\n",
      "epoch: 6, beta = 0.010000, Train MSE: 0.044023, Train CE:1.397250, Train KL:3.592006, Val MSE:0.044649, Val CE:1.283644, Train ACC:0.644684, Val ACC:0.660243\n"
     ]
    },
    {
     "name": "stderr",
     "output_type": "stream",
     "text": [
      "Epoch 8/30: 100%|██████████| 212/212 [00:50<00:00,  4.23it/s]\n",
      "Val step 8/30: 100%|██████████| 3/3 [00:01<00:00,  2.08it/s]\n"
     ]
    },
    {
     "name": "stdout",
     "output_type": "stream",
     "text": [
      "121063\n",
      "epoch: 7, beta = 0.010000, Train MSE: 0.037558, Train CE:1.302429, Train KL:3.587591, Val MSE:0.031488, Val CE:1.182987, Train ACC:0.650108, Val ACC:0.661147\n"
     ]
    },
    {
     "name": "stderr",
     "output_type": "stream",
     "text": [
      "Epoch 9/30: 100%|██████████| 212/212 [00:49<00:00,  4.28it/s]\n",
      "Val step 9/30: 100%|██████████| 3/3 [00:01<00:00,  2.07it/s]\n"
     ]
    },
    {
     "name": "stdout",
     "output_type": "stream",
     "text": [
      "121063\n",
      "epoch: 8, beta = 0.010000, Train MSE: 0.030831, Train CE:1.187323, Train KL:3.932356, Val MSE:0.021292, Val CE:1.058744, Train ACC:0.666135, Val ACC:0.677391\n"
     ]
    },
    {
     "name": "stderr",
     "output_type": "stream",
     "text": [
      "Epoch 10/30: 100%|██████████| 212/212 [00:49<00:00,  4.31it/s]\n",
      "Val step 10/30: 100%|██████████| 3/3 [00:01<00:00,  2.09it/s]\n"
     ]
    },
    {
     "name": "stdout",
     "output_type": "stream",
     "text": [
      "121063\n",
      "epoch: 9, beta = 0.010000, Train MSE: 0.027700, Train CE:1.048328, Train KL:4.631542, Val MSE:0.051856, Val CE:0.910621, Train ACC:0.690203, Val ACC:0.788878\n"
     ]
    },
    {
     "name": "stderr",
     "output_type": "stream",
     "text": [
      "Epoch 11/30: 100%|██████████| 212/212 [00:49<00:00,  4.25it/s]\n",
      "Val step 11/30: 100%|██████████| 3/3 [00:01<00:00,  2.07it/s]\n"
     ]
    },
    {
     "name": "stdout",
     "output_type": "stream",
     "text": [
      "121063\n",
      "epoch: 10, beta = 0.010000, Train MSE: 0.028199, Train CE:0.902771, Train KL:5.442205, Val MSE:0.084348, Val CE:0.778259, Train ACC:0.774504, Val ACC:0.838113\n"
     ]
    },
    {
     "name": "stderr",
     "output_type": "stream",
     "text": [
      "Epoch 12/30: 100%|██████████| 212/212 [00:49<00:00,  4.28it/s]\n",
      "Val step 12/30: 100%|██████████| 3/3 [00:01<00:00,  2.04it/s]\n"
     ]
    },
    {
     "name": "stdout",
     "output_type": "stream",
     "text": [
      "121063\n",
      "epoch: 11, beta = 0.010000, Train MSE: 0.026787, Train CE:0.778024, Train KL:6.038769, Val MSE:0.068220, Val CE:0.663102, Train ACC:0.817830, Val ACC:0.856529\n"
     ]
    },
    {
     "name": "stderr",
     "output_type": "stream",
     "text": [
      "Epoch 13/30: 100%|██████████| 212/212 [00:49<00:00,  4.30it/s]\n",
      "Val step 13/30: 100%|██████████| 3/3 [00:01<00:00,  2.08it/s]\n"
     ]
    },
    {
     "name": "stdout",
     "output_type": "stream",
     "text": [
      "121063\n",
      "epoch: 12, beta = 0.010000, Train MSE: 0.024415, Train CE:0.665129, Train KL:6.381359, Val MSE:0.048315, Val CE:0.559597, Train ACC:0.845666, Val ACC:0.879203\n"
     ]
    },
    {
     "name": "stderr",
     "output_type": "stream",
     "text": [
      "Epoch 14/30: 100%|██████████| 212/212 [00:49<00:00,  4.29it/s]\n",
      "Val step 14/30: 100%|██████████| 3/3 [00:01<00:00,  2.05it/s]\n"
     ]
    },
    {
     "name": "stdout",
     "output_type": "stream",
     "text": [
      "121063\n",
      "epoch: 13, beta = 0.010000, Train MSE: 0.021374, Train CE:0.574394, Train KL:6.660572, Val MSE:0.036369, Val CE:0.484938, Train ACC:0.860806, Val ACC:0.885774\n"
     ]
    },
    {
     "name": "stderr",
     "output_type": "stream",
     "text": [
      "Epoch 15/30: 100%|██████████| 212/212 [00:48<00:00,  4.33it/s]\n",
      "Val step 15/30: 100%|██████████| 3/3 [00:01<00:00,  2.07it/s]\n"
     ]
    },
    {
     "name": "stdout",
     "output_type": "stream",
     "text": [
      "121063\n",
      "epoch: 14, beta = 0.010000, Train MSE: 0.019188, Train CE:0.506198, Train KL:6.830745, Val MSE:0.031192, Val CE:0.426733, Train ACC:0.870970, Val ACC:0.894538\n"
     ]
    },
    {
     "name": "stderr",
     "output_type": "stream",
     "text": [
      "Epoch 16/30: 100%|██████████| 212/212 [00:49<00:00,  4.32it/s]\n",
      "Val step 16/30: 100%|██████████| 3/3 [00:01<00:00,  2.08it/s]\n"
     ]
    },
    {
     "name": "stdout",
     "output_type": "stream",
     "text": [
      "121063\n",
      "epoch: 15, beta = 0.010000, Train MSE: 0.017909, Train CE:0.450722, Train KL:6.838560, Val MSE:0.023303, Val CE:0.379044, Train ACC:0.882577, Val ACC:0.901171\n"
     ]
    },
    {
     "name": "stderr",
     "output_type": "stream",
     "text": [
      "Epoch 17/30: 100%|██████████| 212/212 [00:49<00:00,  4.28it/s]\n",
      "Val step 17/30: 100%|██████████| 3/3 [00:01<00:00,  2.07it/s]\n"
     ]
    },
    {
     "name": "stdout",
     "output_type": "stream",
     "text": [
      "121063\n",
      "epoch: 16, beta = 0.010000, Train MSE: 0.016859, Train CE:0.403243, Train KL:6.730916, Val MSE:0.018696, Val CE:0.337418, Train ACC:0.900047, Val ACC:0.930887\n"
     ]
    },
    {
     "name": "stderr",
     "output_type": "stream",
     "text": [
      "Epoch 18/30: 100%|██████████| 212/212 [00:49<00:00,  4.31it/s]\n",
      "Val step 18/30: 100%|██████████| 3/3 [00:01<00:00,  2.05it/s]"
     ]
    },
    {
     "name": "stdout",
     "output_type": "stream",
     "text": [
      "121063\n"
     ]
    },
    {
     "name": "stderr",
     "output_type": "stream",
     "text": [
      "\n"
     ]
    },
    {
     "name": "stdout",
     "output_type": "stream",
     "text": [
      "epoch: 17, beta = 0.010000, Train MSE: 0.015694, Train CE:0.359396, Train KL:6.585438, Val MSE:0.015720, Val CE:0.297295, Train ACC:0.929538, Val ACC:0.947920\n"
     ]
    },
    {
     "name": "stderr",
     "output_type": "stream",
     "text": [
      "Epoch 19/30: 100%|██████████| 212/212 [00:49<00:00,  4.32it/s]\n",
      "Val step 19/30: 100%|██████████| 3/3 [00:01<00:00,  2.06it/s]\n"
     ]
    },
    {
     "name": "stdout",
     "output_type": "stream",
     "text": [
      "121063\n",
      "epoch: 18, beta = 0.010000, Train MSE: 0.015129, Train CE:0.317489, Train KL:6.458814, Val MSE:0.016786, Val CE:0.262330, Train ACC:0.937055, Val ACC:0.950600\n"
     ]
    },
    {
     "name": "stderr",
     "output_type": "stream",
     "text": [
      "Epoch 20/30: 100%|██████████| 212/212 [00:49<00:00,  4.27it/s]\n",
      "Val step 20/30: 100%|██████████| 3/3 [00:01<00:00,  2.07it/s]\n"
     ]
    },
    {
     "name": "stdout",
     "output_type": "stream",
     "text": [
      "121063\n",
      "epoch: 19, beta = 0.010000, Train MSE: 0.014437, Train CE:0.279560, Train KL:6.272761, Val MSE:0.018649, Val CE:0.232140, Train ACC:0.944055, Val ACC:0.957435\n"
     ]
    },
    {
     "name": "stderr",
     "output_type": "stream",
     "text": [
      "Epoch 21/30: 100%|██████████| 212/212 [00:49<00:00,  4.29it/s]\n",
      "Val step 21/30: 100%|██████████| 3/3 [00:01<00:00,  2.08it/s]\n"
     ]
    },
    {
     "name": "stdout",
     "output_type": "stream",
     "text": [
      "121063\n",
      "epoch: 20, beta = 0.010000, Train MSE: 0.013708, Train CE:0.246775, Train KL:6.016004, Val MSE:0.018088, Val CE:0.204600, Train ACC:0.950564, Val ACC:0.961421\n"
     ]
    },
    {
     "name": "stderr",
     "output_type": "stream",
     "text": [
      "Epoch 22/30: 100%|██████████| 212/212 [00:50<00:00,  4.23it/s]\n",
      "Val step 22/30: 100%|██████████| 3/3 [00:01<00:00,  2.08it/s]\n"
     ]
    },
    {
     "name": "stdout",
     "output_type": "stream",
     "text": [
      "121063\n",
      "epoch: 21, beta = 0.010000, Train MSE: 0.012751, Train CE:0.219386, Train KL:5.711262, Val MSE:0.018238, Val CE:0.180129, Train ACC:0.956063, Val ACC:0.966133\n"
     ]
    },
    {
     "name": "stderr",
     "output_type": "stream",
     "text": [
      "Epoch 23/30: 100%|██████████| 212/212 [00:49<00:00,  4.28it/s]\n",
      "Val step 23/30: 100%|██████████| 3/3 [00:01<00:00,  2.06it/s]\n"
     ]
    },
    {
     "name": "stdout",
     "output_type": "stream",
     "text": [
      "121063\n",
      "epoch: 22, beta = 0.010000, Train MSE: 0.011813, Train CE:0.196066, Train KL:5.396950, Val MSE:0.020570, Val CE:0.160490, Train ACC:0.958380, Val ACC:0.967711\n"
     ]
    },
    {
     "name": "stderr",
     "output_type": "stream",
     "text": [
      "Epoch 24/30: 100%|██████████| 212/212 [00:49<00:00,  4.28it/s]\n",
      "Val step 24/30: 100%|██████████| 3/3 [00:01<00:00,  2.07it/s]\n"
     ]
    },
    {
     "name": "stdout",
     "output_type": "stream",
     "text": [
      "121063\n",
      "epoch: 23, beta = 0.010000, Train MSE: 0.010661, Train CE:0.175457, Train KL:5.136038, Val MSE:0.021680, Val CE:0.141829, Train ACC:0.961628, Val ACC:0.970491\n"
     ]
    },
    {
     "name": "stderr",
     "output_type": "stream",
     "text": [
      "Epoch 25/30: 100%|██████████| 212/212 [00:49<00:00,  4.29it/s]\n",
      "Val step 25/30: 100%|██████████| 3/3 [00:01<00:00,  2.08it/s]\n"
     ]
    },
    {
     "name": "stdout",
     "output_type": "stream",
     "text": [
      "121063\n",
      "epoch: 24, beta = 0.010000, Train MSE: 0.009927, Train CE:0.157301, Train KL:4.920730, Val MSE:0.019132, Val CE:0.126847, Train ACC:0.966906, Val ACC:0.974505\n"
     ]
    },
    {
     "name": "stderr",
     "output_type": "stream",
     "text": [
      "Epoch 26/30: 100%|██████████| 212/212 [00:49<00:00,  4.26it/s]\n",
      "Val step 26/30: 100%|██████████| 3/3 [00:01<00:00,  2.12it/s]\n"
     ]
    },
    {
     "name": "stdout",
     "output_type": "stream",
     "text": [
      "121063\n",
      "epoch: 25, beta = 0.010000, Train MSE: 0.009275, Train CE:0.141634, Train KL:4.741856, Val MSE:0.017408, Val CE:0.114359, Train ACC:0.972397, Val ACC:0.976392\n"
     ]
    },
    {
     "name": "stderr",
     "output_type": "stream",
     "text": [
      "Epoch 27/30: 100%|██████████| 212/212 [00:49<00:00,  4.26it/s]\n",
      "Val step 27/30: 100%|██████████| 3/3 [00:01<00:00,  2.08it/s]\n"
     ]
    },
    {
     "name": "stdout",
     "output_type": "stream",
     "text": [
      "121063\n",
      "epoch: 26, beta = 0.010000, Train MSE: 0.008746, Train CE:0.128145, Train KL:4.591970, Val MSE:0.013134, Val CE:0.103559, Train ACC:0.974790, Val ACC:0.977359\n"
     ]
    },
    {
     "name": "stderr",
     "output_type": "stream",
     "text": [
      "Epoch 28/30: 100%|██████████| 212/212 [00:49<00:00,  4.29it/s]\n",
      "Val step 28/30: 100%|██████████| 3/3 [00:01<00:00,  2.03it/s]\n"
     ]
    },
    {
     "name": "stdout",
     "output_type": "stream",
     "text": [
      "121063\n",
      "epoch: 27, beta = 0.010000, Train MSE: 0.008176, Train CE:0.116909, Train KL:4.444686, Val MSE:0.010769, Val CE:0.093905, Train ACC:0.976570, Val ACC:0.979544\n"
     ]
    },
    {
     "name": "stderr",
     "output_type": "stream",
     "text": [
      "Epoch 29/30: 100%|██████████| 212/212 [00:49<00:00,  4.26it/s]\n",
      "Val step 29/30: 100%|██████████| 3/3 [00:01<00:00,  2.08it/s]\n"
     ]
    },
    {
     "name": "stdout",
     "output_type": "stream",
     "text": [
      "121063\n",
      "epoch: 28, beta = 0.010000, Train MSE: 0.007759, Train CE:0.106979, Train KL:4.304908, Val MSE:0.009111, Val CE:0.085810, Train ACC:0.978377, Val ACC:0.982270\n"
     ]
    },
    {
     "name": "stderr",
     "output_type": "stream",
     "text": [
      "Epoch 30/30: 100%|██████████| 212/212 [00:48<00:00,  4.35it/s]\n",
      "Val step 30/30: 100%|██████████| 3/3 [00:01<00:00,  2.08it/s]\n"
     ]
    },
    {
     "name": "stdout",
     "output_type": "stream",
     "text": [
      "121063\n",
      "epoch: 29, beta = 0.010000, Train MSE: 0.007448, Train CE:0.097979, Train KL:4.172408, Val MSE:0.007964, Val CE:0.077896, Train ACC:0.979858, Val ACC:0.985223\n",
      "Training time: 25.4598 mins\n",
      "self.category_embeddings.weight.shape=torch.Size([336, 4])\n",
      "Successfully load and save the model!\n"
     ]
    },
    {
     "name": "stderr",
     "output_type": "stream",
     "text": [
      "Compute step 30/30: 100%|██████████| 212/212 [01:32<00:00,  2.29it/s]\n"
     ]
    },
    {
     "name": "stdout",
     "output_type": "stream",
     "text": [
      "[[-1.0004704   0.97139478 -1.32906342 -0.82115746]\n",
      " [ 0.43459344  3.31373549  0.4660666   0.30495107]\n",
      " [-2.56757259 -0.18033981  0.18707156 -1.45877361]\n",
      " [ 6.82089996  1.99876535 -5.31195545  2.39254904]\n",
      " [-0.68915379  1.25536609  0.10446465  0.40805453]]\n",
      "Successfully save pretrained embeddings (train) in disk!\n"
     ]
    },
    {
     "name": "stderr",
     "output_type": "stream",
     "text": [
      "Compute step 30/30: 100%|██████████| 3/3 [00:01<00:00,  2.11it/s]\n"
     ]
    },
    {
     "name": "stdout",
     "output_type": "stream",
     "text": [
      "Successfully save pretrained embeddings (val) in disk!\n"
     ]
    }
   ],
   "source": [
    "run main.py --dataname transactions_dt_split_nouser --method vae --mode train"
   ]
  },
  {
   "cell_type": "code",
   "execution_count": 24,
   "metadata": {
    "execution": {
     "iopub.execute_input": "2024-08-10T16:39:55.675868Z",
     "iopub.status.busy": "2024-08-10T16:39:55.674746Z",
     "iopub.status.idle": "2024-08-10T16:39:55.752866Z",
     "shell.execute_reply": "2024-08-10T16:39:55.751773Z",
     "shell.execute_reply.started": "2024-08-10T16:39:55.675812Z"
    },
    "id": "lz7mMouppQH9",
    "tags": []
   },
   "outputs": [
    {
     "name": "stdout",
     "output_type": "stream",
     "text": [
      "kakashka\n",
      "LR: 0.0001\n",
      "The autoreload extension is already loaded. To reload it, use:\n",
      "  %reload_ext autoreload\n"
     ]
    }
   ],
   "source": [
    "%load_ext autoreload\n",
    "%autoreload 2"
   ]
  },
  {
   "cell_type": "code",
   "execution_count": 5,
   "metadata": {
    "execution": {
     "iopub.execute_input": "2024-08-09T12:24:23.476977Z",
     "iopub.status.busy": "2024-08-09T12:24:23.475992Z",
     "iopub.status.idle": "2024-08-09T12:24:23.502984Z",
     "shell.execute_reply": "2024-08-09T12:24:23.502161Z",
     "shell.execute_reply.started": "2024-08-09T12:24:23.476942Z"
    },
    "tags": []
   },
   "outputs": [],
   "source": [
    "!mv tabsyn/vae/ckpt/transactions_dt/ tabsyn/vae/ckpt/transactions_dt_lr_6e3"
   ]
  },
  {
   "cell_type": "code",
   "execution_count": 8,
   "metadata": {
    "execution": {
     "iopub.execute_input": "2024-08-10T14:20:20.584787Z",
     "iopub.status.busy": "2024-08-10T14:20:20.583776Z",
     "iopub.status.idle": "2024-08-10T14:20:20.596661Z",
     "shell.execute_reply": "2024-08-10T14:20:20.596059Z",
     "shell.execute_reply.started": "2024-08-10T14:20:20.584751Z"
    },
    "tags": []
   },
   "outputs": [],
   "source": [
    "import pandas as pd\n",
    "import numpy as np"
   ]
  },
  {
   "cell_type": "code",
   "execution_count": 4,
   "metadata": {
    "execution": {
     "iopub.execute_input": "2024-08-09T18:49:26.218944Z",
     "iopub.status.busy": "2024-08-09T18:49:26.217875Z",
     "iopub.status.idle": "2024-08-09T18:49:39.326312Z",
     "shell.execute_reply": "2024-08-09T18:49:39.325661Z",
     "shell.execute_reply.started": "2024-08-09T18:49:26.218897Z"
    },
    "tags": []
   },
   "outputs": [],
   "source": [
    "X_cat_test = np.load('data/transactions_dt/X_cat_test.npy', allow_pickle=True)\n",
    "X_cat_train = np.load('data/transactions_dt/X_cat_train.npy', allow_pickle=True)\n",
    "\n",
    "X_num_test = np.load('data/transactions_dt/X_num_test.npy', allow_pickle=True)\n",
    "X_num_train = np.load('data/transactions_dt/X_num_train.npy', allow_pickle=True)"
   ]
  },
  {
   "cell_type": "code",
   "execution_count": 5,
   "metadata": {
    "execution": {
     "iopub.execute_input": "2024-08-09T18:49:39.327725Z",
     "iopub.status.busy": "2024-08-09T18:49:39.327313Z",
     "iopub.status.idle": "2024-08-09T18:49:39.359856Z",
     "shell.execute_reply": "2024-08-09T18:49:39.359129Z",
     "shell.execute_reply.started": "2024-08-09T18:49:39.327695Z"
    },
    "tags": []
   },
   "outputs": [
    {
     "data": {
      "text/plain": [
       "(1307503, 3)"
      ]
     },
     "execution_count": 5,
     "metadata": {},
     "output_type": "execute_result"
    }
   ],
   "source": [
    "X_cat_test.shape"
   ]
  },
  {
   "cell_type": "code",
   "execution_count": 8,
   "metadata": {
    "execution": {
     "iopub.execute_input": "2024-08-09T18:50:09.970346Z",
     "iopub.status.busy": "2024-08-09T18:50:09.969377Z",
     "iopub.status.idle": "2024-08-09T18:50:09.990958Z",
     "shell.execute_reply": "2024-08-09T18:50:09.990267Z",
     "shell.execute_reply.started": "2024-08-09T18:50:09.970310Z"
    },
    "tags": []
   },
   "outputs": [
    {
     "data": {
      "text/plain": [
       "array([[298598, 78, 1],\n",
       "       [448693, 3, 1],\n",
       "       [19569, 1, 1],\n",
       "       [161870, 2, 1],\n",
       "       [460773, 15, 1],\n",
       "       [329450, 2, 1],\n",
       "       [490588, 4, 1],\n",
       "       [389967, 2, 1],\n",
       "       [472186, 15, 1],\n",
       "       [55459, 9, 1]], dtype=object)"
      ]
     },
     "execution_count": 8,
     "metadata": {},
     "output_type": "execute_result"
    }
   ],
   "source": [
    "X_cat_train[:10]"
   ]
  },
  {
   "cell_type": "code",
   "execution_count": 21,
   "metadata": {
    "execution": {
     "iopub.execute_input": "2024-08-09T14:35:23.705563Z",
     "iopub.status.busy": "2024-08-09T14:35:23.704367Z",
     "iopub.status.idle": "2024-08-09T14:35:23.721595Z",
     "shell.execute_reply": "2024-08-09T14:35:23.720736Z",
     "shell.execute_reply.started": "2024-08-09T14:35:23.705513Z"
    }
   },
   "outputs": [
    {
     "name": "stdout",
     "output_type": "stream",
     "text": [
      "/home/jupyter/work/resources/tabsyn\n"
     ]
    }
   ],
   "source": [
    "!pwd"
   ]
  },
  {
   "cell_type": "code",
   "execution_count": 25,
   "metadata": {
    "execution": {
     "iopub.execute_input": "2024-08-09T16:36:15.191559Z",
     "iopub.status.busy": "2024-08-09T16:36:15.189980Z",
     "iopub.status.idle": "2024-08-09T16:36:15.270041Z",
     "shell.execute_reply": "2024-08-09T16:36:15.268695Z",
     "shell.execute_reply.started": "2024-08-09T16:36:15.191455Z"
    },
    "tags": []
   },
   "outputs": [
    {
     "name": "stdout",
     "output_type": "stream",
     "text": [
      "user_id,mcc_code,currency_rk,transaction_amt,time_diff\n",
      "235843,1,1,-794.06525,1640301.0\n",
      "85557,1,1,-344.99463,6588094.0\n",
      "50343,11,1,-25.221405,12403.0\n",
      "485319,11,1,-32.676617,2482032.0\n",
      "441976,13,1,-340.5111,7332872.0\n",
      "373446,1,1,-226.35385,12359776.0\n",
      "498771,0,1,62017.395,6038697.0\n",
      "40237,1,1,-681.3548,10552067.0\n",
      "308622,4,1,-158.10422,7091375.0\n"
     ]
    }
   ],
   "source": [
    "!head data/transactions_dt_/test.csv"
   ]
  },
  {
   "cell_type": "code",
   "execution_count": 7,
   "metadata": {
    "execution": {
     "iopub.execute_input": "2024-08-09T17:45:35.179475Z",
     "iopub.status.busy": "2024-08-09T17:45:35.177938Z",
     "iopub.status.idle": "2024-08-09T17:45:36.578410Z",
     "shell.execute_reply": "2024-08-09T17:45:36.577213Z",
     "shell.execute_reply.started": "2024-08-09T17:45:35.179419Z"
    },
    "tags": []
   },
   "outputs": [],
   "source": [
    "X_cat_test_split = np.load('data/transactions_dt_split/X_cat_test.npy', allow_pickle=True)\n",
    "X_cat_train_split = np.load('data/transactions_dt_split/X_cat_train.npy', allow_pickle=True)\n",
    "\n",
    "X_num_test_split = np.load('data/transactions_dt_split/X_num_test.npy', allow_pickle=True)\n",
    "X_num_train_split = np.load('data/transactions_dt_split/X_num_train.npy', allow_pickle=True)"
   ]
  },
  {
   "cell_type": "code",
   "execution_count": 12,
   "metadata": {
    "execution": {
     "iopub.execute_input": "2024-08-09T17:47:25.074859Z",
     "iopub.status.busy": "2024-08-09T17:47:25.073518Z",
     "iopub.status.idle": "2024-08-09T17:47:25.104818Z",
     "shell.execute_reply": "2024-08-09T17:47:25.103812Z",
     "shell.execute_reply.started": "2024-08-09T17:47:25.074821Z"
    },
    "tags": []
   },
   "outputs": [
    {
     "data": {
      "text/plain": [
       "array([[-3.2829643e+01,  1.3911818e+07],\n",
       "       [-3.8392403e+01,  1.3968559e+07],\n",
       "       [-3.8265102e+01,  1.4001330e+07],\n",
       "       [-3.8455002e+01,  1.4003747e+07],\n",
       "       [-3.3020176e+01,  1.4085214e+07],\n",
       "       [-1.1285715e+03,  1.4111523e+07],\n",
       "       [-3.8165562e+01,  1.4305321e+07],\n",
       "       [-1.1069057e+02,  1.4347185e+07],\n",
       "       [-4.9756406e+02,  1.4353849e+07],\n",
       "       [-9.7085968e+01,  1.4355596e+07]], dtype=float32)"
      ]
     },
     "execution_count": 12,
     "metadata": {},
     "output_type": "execute_result"
    }
   ],
   "source": [
    "X_num_test_split[:10]"
   ]
  },
  {
   "cell_type": "code",
   "execution_count": 50,
   "metadata": {
    "execution": {
     "iopub.execute_input": "2024-08-09T17:42:13.145634Z",
     "iopub.status.busy": "2024-08-09T17:42:13.144408Z",
     "iopub.status.idle": "2024-08-09T17:42:13.287124Z",
     "shell.execute_reply": "2024-08-09T17:42:13.285877Z",
     "shell.execute_reply.started": "2024-08-09T17:42:13.145597Z"
    }
   },
   "outputs": [],
   "source": [
    "import torch.nn as nn\n",
    "import torch.nn.init as nn_init"
   ]
  },
  {
   "cell_type": "code",
   "execution_count": 21,
   "metadata": {
    "execution": {
     "iopub.execute_input": "2024-08-09T17:56:54.434638Z",
     "iopub.status.busy": "2024-08-09T17:56:54.433160Z",
     "iopub.status.idle": "2024-08-09T17:57:27.134019Z",
     "shell.execute_reply": "2024-08-09T17:57:27.132518Z",
     "shell.execute_reply.started": "2024-08-09T17:56:54.434580Z"
    }
   },
   "outputs": [
    {
     "name": "stdout",
     "output_type": "stream",
     "text": [
      "96000\n",
      "332\n",
      "4\n"
     ]
    }
   ],
   "source": [
    "df = pd.read_csv('data/transactions_dt/transactions_dt.csv')\n",
    "print(len(df.user_id.unique()))\n",
    "print(len(df.mcc_code.unique()))\n",
    "print(len(df.currency_rk.unique()))"
   ]
  },
  {
   "cell_type": "code",
   "execution_count": 19,
   "metadata": {
    "execution": {
     "iopub.execute_input": "2024-08-09T17:55:56.470205Z",
     "iopub.status.busy": "2024-08-09T17:55:56.468858Z",
     "iopub.status.idle": "2024-08-09T17:56:01.832627Z",
     "shell.execute_reply": "2024-08-09T17:56:01.831472Z",
     "shell.execute_reply.started": "2024-08-09T17:55:56.470129Z"
    },
    "tags": []
   },
   "outputs": [
    {
     "name": "stdout",
     "output_type": "stream",
     "text": [
      "96000\n",
      "332\n",
      "4\n"
     ]
    }
   ],
   "source": [
    "df = pd.read_csv('data/transactions_dt/train.csv')\n",
    "print(len(df.user_id.unique()))\n",
    "print(len(df.mcc_code.unique()))\n",
    "print(len(df.currency_rk.unique()))"
   ]
  },
  {
   "cell_type": "code",
   "execution_count": 20,
   "metadata": {
    "execution": {
     "iopub.execute_input": "2024-08-09T17:56:15.906151Z",
     "iopub.status.busy": "2024-08-09T17:56:15.904933Z",
     "iopub.status.idle": "2024-08-09T17:56:17.743613Z",
     "shell.execute_reply": "2024-08-09T17:56:17.742445Z",
     "shell.execute_reply.started": "2024-08-09T17:56:15.906096Z"
    }
   },
   "outputs": [
    {
     "name": "stdout",
     "output_type": "stream",
     "text": [
      "92805\n",
      "295\n",
      "4\n"
     ]
    }
   ],
   "source": [
    "df = pd.read_csv('data/transactions_dt/test.csv')\n",
    "print(len(df.user_id.unique()))\n",
    "print(len(df.mcc_code.unique()))\n",
    "print(len(df.currency_rk.unique()))"
   ]
  },
  {
   "cell_type": "code",
   "execution_count": 22,
   "metadata": {
    "execution": {
     "iopub.execute_input": "2024-08-09T17:57:41.197276Z",
     "iopub.status.busy": "2024-08-09T17:57:41.196266Z",
     "iopub.status.idle": "2024-08-09T17:58:02.635848Z",
     "shell.execute_reply": "2024-08-09T17:58:02.634744Z",
     "shell.execute_reply.started": "2024-08-09T17:57:41.197237Z"
    }
   },
   "outputs": [
    {
     "name": "stdout",
     "output_type": "stream",
     "text": [
      "84036\n",
      "332\n",
      "4\n"
     ]
    }
   ],
   "source": [
    "df = pd.read_csv('data/transactions_dt_split/train.csv')\n",
    "print(len(df.user_id.unique()))\n",
    "print(len(df.mcc_code.unique()))\n",
    "print(len(df.currency_rk.unique()))"
   ]
  },
  {
   "cell_type": "code",
   "execution_count": 23,
   "metadata": {
    "execution": {
     "iopub.execute_input": "2024-08-09T17:58:10.349439Z",
     "iopub.status.busy": "2024-08-09T17:58:10.348190Z",
     "iopub.status.idle": "2024-08-09T17:58:10.483509Z",
     "shell.execute_reply": "2024-08-09T17:58:10.482354Z",
     "shell.execute_reply.started": "2024-08-09T17:58:10.349399Z"
    }
   },
   "outputs": [
    {
     "name": "stdout",
     "output_type": "stream",
     "text": [
      "8366\n",
      "224\n",
      "2\n"
     ]
    }
   ],
   "source": [
    "df = pd.read_csv('data/transactions_dt_split/test.csv')\n",
    "print(len(df.user_id.unique()))\n",
    "print(len(df.mcc_code.unique()))\n",
    "print(len(df.currency_rk.unique()))"
   ]
  },
  {
   "cell_type": "code",
   "execution_count": 17,
   "metadata": {
    "execution": {
     "iopub.execute_input": "2024-08-09T17:55:12.302702Z",
     "iopub.status.busy": "2024-08-09T17:55:12.301011Z",
     "iopub.status.idle": "2024-08-09T17:55:12.358980Z",
     "shell.execute_reply": "2024-08-09T17:55:12.357801Z",
     "shell.execute_reply.started": "2024-08-09T17:55:12.302658Z"
    }
   },
   "outputs": [
    {
     "data": {
      "text/html": [
       "<div>\n",
       "<style scoped>\n",
       "    .dataframe tbody tr th:only-of-type {\n",
       "        vertical-align: middle;\n",
       "    }\n",
       "\n",
       "    .dataframe tbody tr th {\n",
       "        vertical-align: top;\n",
       "    }\n",
       "\n",
       "    .dataframe thead th {\n",
       "        text-align: right;\n",
       "    }\n",
       "</style>\n",
       "<table border=\"1\" class=\"dataframe\">\n",
       "  <thead>\n",
       "    <tr style=\"text-align: right;\">\n",
       "      <th></th>\n",
       "      <th>user_id</th>\n",
       "      <th>mcc_code</th>\n",
       "      <th>currency_rk</th>\n",
       "      <th>transaction_amt</th>\n",
       "      <th>time_diff</th>\n",
       "    </tr>\n",
       "  </thead>\n",
       "  <tbody>\n",
       "    <tr>\n",
       "      <th>0</th>\n",
       "      <td>298598</td>\n",
       "      <td>78</td>\n",
       "      <td>1</td>\n",
       "      <td>-1414.16360</td>\n",
       "      <td>12686853.0</td>\n",
       "    </tr>\n",
       "    <tr>\n",
       "      <th>1</th>\n",
       "      <td>448693</td>\n",
       "      <td>3</td>\n",
       "      <td>1</td>\n",
       "      <td>-3757.37650</td>\n",
       "      <td>9428911.0</td>\n",
       "    </tr>\n",
       "    <tr>\n",
       "      <th>2</th>\n",
       "      <td>19569</td>\n",
       "      <td>1</td>\n",
       "      <td>1</td>\n",
       "      <td>-113.87044</td>\n",
       "      <td>2604774.0</td>\n",
       "    </tr>\n",
       "    <tr>\n",
       "      <th>3</th>\n",
       "      <td>161870</td>\n",
       "      <td>2</td>\n",
       "      <td>1</td>\n",
       "      <td>-318.94147</td>\n",
       "      <td>14330086.0</td>\n",
       "    </tr>\n",
       "    <tr>\n",
       "      <th>4</th>\n",
       "      <td>460773</td>\n",
       "      <td>15</td>\n",
       "      <td>1</td>\n",
       "      <td>-8634.39900</td>\n",
       "      <td>6430826.0</td>\n",
       "    </tr>\n",
       "    <tr>\n",
       "      <th>...</th>\n",
       "      <td>...</td>\n",
       "      <td>...</td>\n",
       "      <td>...</td>\n",
       "      <td>...</td>\n",
       "      <td>...</td>\n",
       "    </tr>\n",
       "    <tr>\n",
       "      <th>11767515</th>\n",
       "      <td>148413</td>\n",
       "      <td>4</td>\n",
       "      <td>1</td>\n",
       "      <td>-420.39963</td>\n",
       "      <td>14527118.0</td>\n",
       "    </tr>\n",
       "    <tr>\n",
       "      <th>11767516</th>\n",
       "      <td>224932</td>\n",
       "      <td>2</td>\n",
       "      <td>1</td>\n",
       "      <td>-261.76584</td>\n",
       "      <td>10406823.0</td>\n",
       "    </tr>\n",
       "    <tr>\n",
       "      <th>11767517</th>\n",
       "      <td>22771</td>\n",
       "      <td>3</td>\n",
       "      <td>1</td>\n",
       "      <td>-53131.98000</td>\n",
       "      <td>5108406.0</td>\n",
       "    </tr>\n",
       "    <tr>\n",
       "      <th>11767518</th>\n",
       "      <td>524158</td>\n",
       "      <td>1</td>\n",
       "      <td>1</td>\n",
       "      <td>-218.45430</td>\n",
       "      <td>9674300.0</td>\n",
       "    </tr>\n",
       "    <tr>\n",
       "      <th>11767519</th>\n",
       "      <td>146087</td>\n",
       "      <td>14</td>\n",
       "      <td>1</td>\n",
       "      <td>-157.42040</td>\n",
       "      <td>2890953.0</td>\n",
       "    </tr>\n",
       "  </tbody>\n",
       "</table>\n",
       "<p>11767520 rows × 5 columns</p>\n",
       "</div>"
      ],
      "text/plain": [
       "          user_id  mcc_code  currency_rk  transaction_amt   time_diff\n",
       "0          298598        78            1      -1414.16360  12686853.0\n",
       "1          448693         3            1      -3757.37650   9428911.0\n",
       "2           19569         1            1       -113.87044   2604774.0\n",
       "3          161870         2            1       -318.94147  14330086.0\n",
       "4          460773        15            1      -8634.39900   6430826.0\n",
       "...           ...       ...          ...              ...         ...\n",
       "11767515   148413         4            1       -420.39963  14527118.0\n",
       "11767516   224932         2            1       -261.76584  10406823.0\n",
       "11767517    22771         3            1     -53131.98000   5108406.0\n",
       "11767518   524158         1            1       -218.45430   9674300.0\n",
       "11767519   146087        14            1       -157.42040   2890953.0\n",
       "\n",
       "[11767520 rows x 5 columns]"
      ]
     },
     "execution_count": 17,
     "metadata": {},
     "output_type": "execute_result"
    }
   ],
   "source": [
    "df"
   ]
  },
  {
   "cell_type": "code",
   "execution_count": 6,
   "metadata": {
    "execution": {
     "iopub.execute_input": "2024-08-10T14:19:28.901824Z",
     "iopub.status.busy": "2024-08-10T14:19:28.901171Z",
     "iopub.status.idle": "2024-08-10T14:19:28.925557Z",
     "shell.execute_reply": "2024-08-10T14:19:28.924996Z",
     "shell.execute_reply.started": "2024-08-10T14:19:28.901796Z"
    },
    "tags": []
   },
   "outputs": [],
   "source": [
    "!mv data/transactions_dt_split/ data/transactions_dt_split_nouser"
   ]
  },
  {
   "cell_type": "code",
   "execution_count": 9,
   "metadata": {
    "execution": {
     "iopub.execute_input": "2024-08-10T14:20:40.373724Z",
     "iopub.status.busy": "2024-08-10T14:20:40.373090Z",
     "iopub.status.idle": "2024-08-10T14:20:40.445980Z",
     "shell.execute_reply": "2024-08-10T14:20:40.445364Z",
     "shell.execute_reply.started": "2024-08-10T14:20:40.373699Z"
    }
   },
   "outputs": [],
   "source": [
    "test = pd.read_csv('data/transactions_dt_split_nouser/test.csv')"
   ]
  },
  {
   "cell_type": "code",
   "execution_count": 10,
   "metadata": {
    "execution": {
     "iopub.execute_input": "2024-08-10T14:21:08.069014Z",
     "iopub.status.busy": "2024-08-10T14:21:08.068130Z",
     "iopub.status.idle": "2024-08-10T14:21:08.111975Z",
     "shell.execute_reply": "2024-08-10T14:21:08.111303Z",
     "shell.execute_reply.started": "2024-08-10T14:21:08.068979Z"
    }
   },
   "outputs": [],
   "source": [
    "test = test.drop(columns='user_id')"
   ]
  },
  {
   "cell_type": "code",
   "execution_count": 13,
   "metadata": {
    "execution": {
     "iopub.execute_input": "2024-08-10T14:21:53.393748Z",
     "iopub.status.busy": "2024-08-10T14:21:53.392835Z",
     "iopub.status.idle": "2024-08-10T14:21:53.602563Z",
     "shell.execute_reply": "2024-08-10T14:21:53.601890Z",
     "shell.execute_reply.started": "2024-08-10T14:21:53.393708Z"
    },
    "tags": []
   },
   "outputs": [],
   "source": [
    "test.to_csv('data/transactions_dt_split_nouser/test_nouser.csv', index=False)"
   ]
  },
  {
   "cell_type": "code",
   "execution_count": 18,
   "metadata": {
    "execution": {
     "iopub.execute_input": "2024-08-10T14:23:13.598633Z",
     "iopub.status.busy": "2024-08-10T14:23:13.597718Z",
     "iopub.status.idle": "2024-08-10T14:23:13.648540Z",
     "shell.execute_reply": "2024-08-10T14:23:13.647776Z",
     "shell.execute_reply.started": "2024-08-10T14:23:13.598593Z"
    },
    "tags": []
   },
   "outputs": [
    {
     "name": "stdout",
     "output_type": "stream",
     "text": [
      "mcc_code,currency_rk,transaction_amt,time_diff\n",
      "3,1,-183.88396,0.0\n",
      "3,1,-3206.437,2817.0\n",
      "16,1,-153866.89,1651223.0\n",
      "56,1,-15144.602,3484376.0\n",
      "0,1,5297.9087,3737158.0\n",
      "0,1,534.3631,6338573.0\n",
      "0,1,4549.455,6338882.0\n",
      "0,1,37991.93,7886245.0\n",
      "0,1,28335.613,8411225.0\n"
     ]
    }
   ],
   "source": [
    "!head data/transactions_dt_split_nouser/train_nouser.csv"
   ]
  },
  {
   "cell_type": "code",
   "execution_count": 15,
   "metadata": {
    "execution": {
     "iopub.execute_input": "2024-08-10T14:22:24.464425Z",
     "iopub.status.busy": "2024-08-10T14:22:24.463410Z",
     "iopub.status.idle": "2024-08-10T14:22:27.524386Z",
     "shell.execute_reply": "2024-08-10T14:22:27.523717Z",
     "shell.execute_reply.started": "2024-08-10T14:22:24.464385Z"
    }
   },
   "outputs": [],
   "source": [
    "train = pd.read_csv('data/transactions_dt_split_nouser/train.csv')"
   ]
  },
  {
   "cell_type": "code",
   "execution_count": 16,
   "metadata": {
    "execution": {
     "iopub.execute_input": "2024-08-10T14:22:39.286227Z",
     "iopub.status.busy": "2024-08-10T14:22:39.285310Z",
     "iopub.status.idle": "2024-08-10T14:22:39.395428Z",
     "shell.execute_reply": "2024-08-10T14:22:39.394776Z",
     "shell.execute_reply.started": "2024-08-10T14:22:39.286177Z"
    }
   },
   "outputs": [],
   "source": [
    "train = train.drop(columns='user_id')"
   ]
  },
  {
   "cell_type": "code",
   "execution_count": 17,
   "metadata": {
    "execution": {
     "iopub.execute_input": "2024-08-10T14:22:54.291548Z",
     "iopub.status.busy": "2024-08-10T14:22:54.290745Z",
     "iopub.status.idle": "2024-08-10T14:23:10.907445Z",
     "shell.execute_reply": "2024-08-10T14:23:10.906773Z",
     "shell.execute_reply.started": "2024-08-10T14:22:54.291518Z"
    }
   },
   "outputs": [],
   "source": [
    "train.to_csv('data/transactions_dt_split_nouser/train_nouser.csv', index=False)"
   ]
  },
  {
   "cell_type": "code",
   "execution_count": 23,
   "metadata": {
    "execution": {
     "iopub.execute_input": "2024-08-10T14:24:34.162263Z",
     "iopub.status.busy": "2024-08-10T14:24:34.161357Z",
     "iopub.status.idle": "2024-08-10T14:24:35.026024Z",
     "shell.execute_reply": "2024-08-10T14:24:35.025279Z",
     "shell.execute_reply.started": "2024-08-10T14:24:34.162219Z"
    },
    "tags": []
   },
   "outputs": [],
   "source": [
    "X_cat_test = np.load('data/transactions_dt_split_nouser/X_cat_test.npy', allow_pickle=True)\n",
    "X_cat_train = np.load('data/transactions_dt_split_nouser/X_cat_train.npy', allow_pickle=True)"
   ]
  },
  {
   "cell_type": "code",
   "execution_count": 32,
   "metadata": {
    "execution": {
     "iopub.execute_input": "2024-08-10T14:28:22.280613Z",
     "iopub.status.busy": "2024-08-10T14:28:22.279664Z",
     "iopub.status.idle": "2024-08-10T14:28:22.290742Z",
     "shell.execute_reply": "2024-08-10T14:28:22.290101Z",
     "shell.execute_reply.started": "2024-08-10T14:28:22.280573Z"
    },
    "tags": []
   },
   "outputs": [
    {
     "data": {
      "text/plain": [
       "array([[3, 1],\n",
       "       [3, 1],\n",
       "       [16, 1],\n",
       "       ...,\n",
       "       [1, 1],\n",
       "       [0, 1],\n",
       "       [52, 1]], dtype=object)"
      ]
     },
     "execution_count": 32,
     "metadata": {},
     "output_type": "execute_result"
    }
   ],
   "source": [
    "X_cat_train[:, 1:]"
   ]
  },
  {
   "cell_type": "code",
   "execution_count": 33,
   "metadata": {
    "execution": {
     "iopub.execute_input": "2024-08-10T14:29:36.415734Z",
     "iopub.status.busy": "2024-08-10T14:29:36.414920Z",
     "iopub.status.idle": "2024-08-10T14:29:36.980776Z",
     "shell.execute_reply": "2024-08-10T14:29:36.980058Z",
     "shell.execute_reply.started": "2024-08-10T14:29:36.415707Z"
    }
   },
   "outputs": [],
   "source": [
    "np.save('data/transactions_dt_split_nouser/X_cat_test.npy', X_cat_test[:, 1:])\n",
    "np.save('data/transactions_dt_split_nouser/X_cat_train.npy', X_cat_train[:, 1:])\n"
   ]
  },
  {
   "cell_type": "code",
   "execution_count": 26,
   "metadata": {
    "execution": {
     "iopub.execute_input": "2024-08-10T17:22:18.543637Z",
     "iopub.status.busy": "2024-08-10T17:22:18.542433Z",
     "iopub.status.idle": "2024-08-10T17:22:18.682953Z",
     "shell.execute_reply": "2024-08-10T17:22:18.681776Z",
     "shell.execute_reply.started": "2024-08-10T17:22:18.543583Z"
    },
    "tags": []
   },
   "outputs": [],
   "source": [
    "!mv tabsyn/vae/ckpt/transactions_dt_split_nouser/ tabsyn/vae/ckpt/transactions_dt_split_nouser_1e4/ "
   ]
  },
  {
   "cell_type": "code",
   "execution_count": null,
   "metadata": {},
   "outputs": [],
   "source": []
  }
 ],
 "metadata": {
  "accelerator": "GPU",
  "colab": {
   "gpuType": "T4",
   "provenance": []
  },
  "kernelspec": {
   "display_name": "DataSphere Kernel",
   "language": "python",
   "name": "python3"
  },
  "language_info": {
   "codemirror_mode": {
    "name": "ipython",
    "version": 3
   },
   "file_extension": ".py",
   "mimetype": "text/x-python",
   "name": "python",
   "nbconvert_exporter": "python",
   "pygments_lexer": "ipython3",
   "version": "3.10.12"
  }
 },
 "nbformat": 4,
 "nbformat_minor": 4
}
