{
 "cells": [
  {
   "cell_type": "code",
   "execution_count": 1,
   "id": "198b975c-9219-4f30-ae61-375abfe7067d",
   "metadata": {
    "execution": {
     "iopub.execute_input": "2024-08-09T15:22:27.858067Z",
     "iopub.status.busy": "2024-08-09T15:22:27.857240Z",
     "iopub.status.idle": "2024-08-09T15:22:27.872448Z",
     "shell.execute_reply": "2024-08-09T15:22:27.871795Z",
     "shell.execute_reply.started": "2024-08-09T15:22:27.858036Z"
    },
    "tags": []
   },
   "outputs": [],
   "source": [
    "import json\n",
    "import os\n",
    "import pandas as pd"
   ]
  },
  {
   "cell_type": "code",
   "execution_count": 6,
   "id": "1d8090f9-e883-4ffe-84f8-85bffe40391a",
   "metadata": {
    "execution": {
     "iopub.execute_input": "2024-08-09T11:10:41.222845Z",
     "iopub.status.busy": "2024-08-09T11:10:41.221996Z",
     "iopub.status.idle": "2024-08-09T11:10:41.239449Z",
     "shell.execute_reply": "2024-08-09T11:10:41.238616Z",
     "shell.execute_reply.started": "2024-08-09T11:10:41.222816Z"
    },
    "tags": []
   },
   "outputs": [],
   "source": [
    "os.chdir('tabsyn')"
   ]
  },
  {
   "cell_type": "code",
   "execution_count": 19,
   "id": "1b53244d-de96-4203-8acc-91fa7c177198",
   "metadata": {
    "execution": {
     "iopub.execute_input": "2024-08-09T12:03:25.049937Z",
     "iopub.status.busy": "2024-08-09T12:03:25.048812Z",
     "iopub.status.idle": "2024-08-09T12:03:25.066836Z",
     "shell.execute_reply": "2024-08-09T12:03:25.066072Z",
     "shell.execute_reply.started": "2024-08-09T12:03:25.049894Z"
    },
    "tags": []
   },
   "outputs": [],
   "source": [
    "config_file = {\n",
    "    \"name\": \"transactions_dt_split\",\n",
    "    \"task_type\": \"binclass\", # binclass or regression\n",
    "    \"header\": \"infer\",\n",
    "    \"column_names\": [],\n",
    "    \"num_col_idx\": [3, 4],  # list of indices of numerical columns\n",
    "    \"cat_col_idx\": [0, 1, 2],  # list of indices of categorical columns\n",
    "    \"target_col_idx\": [], # list of indices of the target columns (for MLE)\n",
    "    \"file_type\": \"csv\",\n",
    "    \"data_path\": \"data/transactions_dt_split/transactions_dt_split.csv\",\n",
    "    \"test_path\": '',\n",
    "    \"time_q\": 0.9,\n",
    "    \"user_q\": 0.9\n",
    "}"
   ]
  },
  {
   "cell_type": "code",
   "execution_count": 10,
   "id": "3cdf0ae1-7528-4908-98ac-ab948a1c6d1a",
   "metadata": {
    "execution": {
     "iopub.execute_input": "2024-08-09T11:14:53.815317Z",
     "iopub.status.busy": "2024-08-09T11:14:53.814233Z",
     "iopub.status.idle": "2024-08-09T11:14:57.675263Z",
     "shell.execute_reply": "2024-08-09T11:14:57.674508Z",
     "shell.execute_reply.started": "2024-08-09T11:14:53.815270Z"
    },
    "tags": []
   },
   "outputs": [],
   "source": [
    "#!mkdir ./data/transactions_dt_split\n",
    "!cp ../transactions.csv ./data/transactions_dt_split/transactions_dt_split.csv"
   ]
  },
  {
   "cell_type": "code",
   "execution_count": 20,
   "id": "46396331-2d8f-4ca6-a33c-a722796db722",
   "metadata": {
    "execution": {
     "iopub.execute_input": "2024-08-09T12:03:26.701758Z",
     "iopub.status.busy": "2024-08-09T12:03:26.700716Z",
     "iopub.status.idle": "2024-08-09T12:03:26.719873Z",
     "shell.execute_reply": "2024-08-09T12:03:26.719185Z",
     "shell.execute_reply.started": "2024-08-09T12:03:26.701721Z"
    },
    "tags": []
   },
   "outputs": [],
   "source": [
    "with open('data/Info/transactions_dt_split.json', 'w') as js:\n",
    "    json.dump(config_file, js)"
   ]
  },
  {
   "cell_type": "code",
   "execution_count": 21,
   "id": "7d4d77b6-c9f2-4a98-b17b-1d9f46b1a08d",
   "metadata": {
    "execution": {
     "iopub.execute_input": "2024-08-09T12:03:31.069941Z",
     "iopub.status.busy": "2024-08-09T12:03:31.068914Z",
     "iopub.status.idle": "2024-08-09T12:06:20.068945Z",
     "shell.execute_reply": "2024-08-09T12:06:20.068156Z",
     "shell.execute_reply.started": "2024-08-09T12:03:31.069900Z"
    },
    "tags": []
   },
   "outputs": [
    {
     "name": "stdout",
     "output_type": "stream",
     "text": [
      "~~~ New columns: Index(['user_id', 'mcc_code', 'currency_rk', 'transaction_amt', 'time_diff'], dtype='object')\n",
      "~~~ user_id min-max: 3 562740\n",
      "~~~ user_id: quartile - 0.9, pivot value - 481871\n",
      "~~~ time_diff min-max: 0 15767876\n",
      "~~~ time_diff: quartile - 0.9, pivot value - 13898545\n",
      "~~~ transactions: 13075023\n",
      "~~~ train (count) (train/all): 10581102 0.8092606796944066\n",
      "~~~ test  (count) (test/all): 121063 0.009259104171365511\n",
      "~~~ proportion: 87.40161733973221\n",
      "transactions_dt_split (10581102, 5) (121063, 5) (13075023, 5)\n"
     ]
    },
    {
     "name": "stderr",
     "output_type": "stream",
     "text": [
      "/home/jupyter/work/resources/tabsyn/process_dataset.py:281: SettingWithCopyWarning: \n",
      "A value is trying to be set on a copy of a slice from a DataFrame\n",
      "\n",
      "See the caveats in the documentation: https://pandas.pydata.org/pandas-docs/stable/user_guide/indexing.html#returning-a-view-versus-a-copy\n",
      "  train_df.rename(columns = idx_name_mapping, inplace=True)\n",
      "/home/jupyter/work/resources/tabsyn/process_dataset.py:282: SettingWithCopyWarning: \n",
      "A value is trying to be set on a copy of a slice from a DataFrame\n",
      "\n",
      "See the caveats in the documentation: https://pandas.pydata.org/pandas-docs/stable/user_guide/indexing.html#returning-a-view-versus-a-copy\n",
      "  test_df.rename(columns = idx_name_mapping, inplace=True)\n",
      "/home/jupyter/work/resources/tabsyn/process_dataset.py:314: SettingWithCopyWarning: \n",
      "A value is trying to be set on a copy of a slice from a DataFrame.\n",
      "Try using .loc[row_indexer,col_indexer] = value instead\n",
      "\n",
      "See the caveats in the documentation: https://pandas.pydata.org/pandas-docs/stable/user_guide/indexing.html#returning-a-view-versus-a-copy\n",
      "  train_df[num_columns] = train_df[num_columns].astype(np.float32)\n",
      "/home/jupyter/work/resources/tabsyn/process_dataset.py:315: SettingWithCopyWarning: \n",
      "A value is trying to be set on a copy of a slice from a DataFrame.\n",
      "Try using .loc[row_indexer,col_indexer] = value instead\n",
      "\n",
      "See the caveats in the documentation: https://pandas.pydata.org/pandas-docs/stable/user_guide/indexing.html#returning-a-view-versus-a-copy\n",
      "  test_df[num_columns] = test_df[num_columns].astype(np.float32)\n"
     ]
    },
    {
     "name": "stdout",
     "output_type": "stream",
     "text": [
      "Numerical (10581102, 2)\n",
      "Categorical (10581102, 3)\n",
      "Processing and Saving transactions_dt_split Successfully!\n",
      "transactions_dt_split\n",
      "Total 10702165\n",
      "Train 10581102\n",
      "Test 121063\n",
      "Num 2\n",
      "Cat 3\n"
     ]
    }
   ],
   "source": [
    "run process_dataset.py --dataname transactions_dt_split"
   ]
  },
  {
   "cell_type": "code",
   "execution_count": 2,
   "id": "34addd4b-07d9-4b3a-8165-3191b8ef6452",
   "metadata": {
    "execution": {
     "iopub.execute_input": "2024-08-09T15:23:16.735476Z",
     "iopub.status.busy": "2024-08-09T15:23:16.734358Z",
     "iopub.status.idle": "2024-08-09T15:23:29.037998Z",
     "shell.execute_reply": "2024-08-09T15:23:29.037258Z",
     "shell.execute_reply.started": "2024-08-09T15:23:16.735428Z"
    }
   },
   "outputs": [],
   "source": [
    "transactions = pd.read_csv('transactions.csv')"
   ]
  },
  {
   "cell_type": "code",
   "execution_count": 4,
   "id": "9922ec1f-3c40-4e66-bab9-f42c1d3118f4",
   "metadata": {
    "execution": {
     "iopub.execute_input": "2024-08-09T15:24:12.067582Z",
     "iopub.status.busy": "2024-08-09T15:24:12.066444Z",
     "iopub.status.idle": "2024-08-09T15:24:12.130725Z",
     "shell.execute_reply": "2024-08-09T15:24:12.130068Z",
     "shell.execute_reply.started": "2024-08-09T15:24:12.067526Z"
    },
    "tags": []
   },
   "outputs": [],
   "source": [
    "clients = pd.read_csv('clients.csv')"
   ]
  },
  {
   "cell_type": "code",
   "execution_count": 5,
   "id": "960cb2f9-1bd7-4028-8255-6ec893ebef9e",
   "metadata": {
    "execution": {
     "iopub.execute_input": "2024-08-09T15:26:52.702474Z",
     "iopub.status.busy": "2024-08-09T15:26:52.701242Z",
     "iopub.status.idle": "2024-08-09T15:26:55.377884Z",
     "shell.execute_reply": "2024-08-09T15:26:55.377111Z",
     "shell.execute_reply.started": "2024-08-09T15:26:52.702426Z"
    }
   },
   "outputs": [],
   "source": [
    "transactions_clients = transactions.merge(clients, how='right', on='user_id' )"
   ]
  },
  {
   "cell_type": "code",
   "execution_count": 6,
   "id": "fe0e6815-3658-4074-b034-4c11a2076264",
   "metadata": {
    "execution": {
     "iopub.execute_input": "2024-08-09T15:27:01.595997Z",
     "iopub.status.busy": "2024-08-09T15:27:01.594953Z",
     "iopub.status.idle": "2024-08-09T15:27:01.657998Z",
     "shell.execute_reply": "2024-08-09T15:27:01.657263Z",
     "shell.execute_reply.started": "2024-08-09T15:27:01.595954Z"
    }
   },
   "outputs": [
    {
     "data": {
      "text/html": [
       "<div>\n",
       "<style scoped>\n",
       "    .dataframe tbody tr th:only-of-type {\n",
       "        vertical-align: middle;\n",
       "    }\n",
       "\n",
       "    .dataframe tbody tr th {\n",
       "        vertical-align: top;\n",
       "    }\n",
       "\n",
       "    .dataframe thead th {\n",
       "        text-align: right;\n",
       "    }\n",
       "</style>\n",
       "<table border=\"1\" class=\"dataframe\">\n",
       "  <thead>\n",
       "    <tr style=\"text-align: right;\">\n",
       "      <th></th>\n",
       "      <th>user_id</th>\n",
       "      <th>mcc_code</th>\n",
       "      <th>currency_rk</th>\n",
       "      <th>transaction_amt</th>\n",
       "      <th>transaction_dttm</th>\n",
       "      <th>report</th>\n",
       "      <th>employee_count_nm</th>\n",
       "      <th>bankemplstatus</th>\n",
       "      <th>customer_age</th>\n",
       "    </tr>\n",
       "  </thead>\n",
       "  <tbody>\n",
       "    <tr>\n",
       "      <th>0</th>\n",
       "      <td>3</td>\n",
       "      <td>3</td>\n",
       "      <td>1</td>\n",
       "      <td>-183.883957</td>\n",
       "      <td>2022-01-28 12:05:33</td>\n",
       "      <td>2</td>\n",
       "      <td>ОТ 101 ДО 500</td>\n",
       "      <td>0</td>\n",
       "      <td>3</td>\n",
       "    </tr>\n",
       "    <tr>\n",
       "      <th>1</th>\n",
       "      <td>3</td>\n",
       "      <td>3</td>\n",
       "      <td>1</td>\n",
       "      <td>-3206.437012</td>\n",
       "      <td>2022-01-28 12:52:30</td>\n",
       "      <td>2</td>\n",
       "      <td>ОТ 101 ДО 500</td>\n",
       "      <td>0</td>\n",
       "      <td>3</td>\n",
       "    </tr>\n",
       "    <tr>\n",
       "      <th>2</th>\n",
       "      <td>3</td>\n",
       "      <td>16</td>\n",
       "      <td>1</td>\n",
       "      <td>-153866.890625</td>\n",
       "      <td>2022-02-16 14:45:56</td>\n",
       "      <td>2</td>\n",
       "      <td>ОТ 101 ДО 500</td>\n",
       "      <td>0</td>\n",
       "      <td>3</td>\n",
       "    </tr>\n",
       "    <tr>\n",
       "      <th>3</th>\n",
       "      <td>3</td>\n",
       "      <td>56</td>\n",
       "      <td>1</td>\n",
       "      <td>-15144.601562</td>\n",
       "      <td>2022-03-09 19:58:29</td>\n",
       "      <td>2</td>\n",
       "      <td>ОТ 101 ДО 500</td>\n",
       "      <td>0</td>\n",
       "      <td>3</td>\n",
       "    </tr>\n",
       "    <tr>\n",
       "      <th>4</th>\n",
       "      <td>3</td>\n",
       "      <td>0</td>\n",
       "      <td>1</td>\n",
       "      <td>5297.908691</td>\n",
       "      <td>2022-03-12 18:11:31</td>\n",
       "      <td>2</td>\n",
       "      <td>ОТ 101 ДО 500</td>\n",
       "      <td>0</td>\n",
       "      <td>3</td>\n",
       "    </tr>\n",
       "    <tr>\n",
       "      <th>...</th>\n",
       "      <td>...</td>\n",
       "      <td>...</td>\n",
       "      <td>...</td>\n",
       "      <td>...</td>\n",
       "      <td>...</td>\n",
       "      <td>...</td>\n",
       "      <td>...</td>\n",
       "      <td>...</td>\n",
       "      <td>...</td>\n",
       "    </tr>\n",
       "    <tr>\n",
       "      <th>13075018</th>\n",
       "      <td>562740</td>\n",
       "      <td>155</td>\n",
       "      <td>1</td>\n",
       "      <td>-2484.366211</td>\n",
       "      <td>2023-03-20 11:52:09</td>\n",
       "      <td>12</td>\n",
       "      <td>NaN</td>\n",
       "      <td>0</td>\n",
       "      <td>0</td>\n",
       "    </tr>\n",
       "    <tr>\n",
       "      <th>13075019</th>\n",
       "      <td>562740</td>\n",
       "      <td>9</td>\n",
       "      <td>1</td>\n",
       "      <td>-187.658463</td>\n",
       "      <td>2023-03-20 12:10:22</td>\n",
       "      <td>12</td>\n",
       "      <td>NaN</td>\n",
       "      <td>0</td>\n",
       "      <td>0</td>\n",
       "    </tr>\n",
       "    <tr>\n",
       "      <th>13075020</th>\n",
       "      <td>562740</td>\n",
       "      <td>1</td>\n",
       "      <td>1</td>\n",
       "      <td>-891.933350</td>\n",
       "      <td>2023-03-20 15:53:37</td>\n",
       "      <td>12</td>\n",
       "      <td>NaN</td>\n",
       "      <td>0</td>\n",
       "      <td>0</td>\n",
       "    </tr>\n",
       "    <tr>\n",
       "      <th>13075021</th>\n",
       "      <td>562740</td>\n",
       "      <td>13</td>\n",
       "      <td>1</td>\n",
       "      <td>-464.467316</td>\n",
       "      <td>2023-03-20 15:54:49</td>\n",
       "      <td>12</td>\n",
       "      <td>NaN</td>\n",
       "      <td>0</td>\n",
       "      <td>0</td>\n",
       "    </tr>\n",
       "    <tr>\n",
       "      <th>13075022</th>\n",
       "      <td>562740</td>\n",
       "      <td>9</td>\n",
       "      <td>1</td>\n",
       "      <td>-188.750504</td>\n",
       "      <td>2023-03-20 16:06:45</td>\n",
       "      <td>12</td>\n",
       "      <td>NaN</td>\n",
       "      <td>0</td>\n",
       "      <td>0</td>\n",
       "    </tr>\n",
       "  </tbody>\n",
       "</table>\n",
       "<p>13075023 rows × 9 columns</p>\n",
       "</div>"
      ],
      "text/plain": [
       "          user_id  mcc_code  ...  bankemplstatus  customer_age\n",
       "0               3         3  ...               0             3\n",
       "1               3         3  ...               0             3\n",
       "2               3        16  ...               0             3\n",
       "3               3        56  ...               0             3\n",
       "4               3         0  ...               0             3\n",
       "...           ...       ...  ...             ...           ...\n",
       "13075018   562740       155  ...               0             0\n",
       "13075019   562740         9  ...               0             0\n",
       "13075020   562740         1  ...               0             0\n",
       "13075021   562740        13  ...               0             0\n",
       "13075022   562740         9  ...               0             0\n",
       "\n",
       "[13075023 rows x 9 columns]"
      ]
     },
     "execution_count": 6,
     "metadata": {},
     "output_type": "execute_result"
    }
   ],
   "source": [
    "transactions_clients"
   ]
  },
  {
   "cell_type": "code",
   "execution_count": 15,
   "id": "7609585f-b75f-437d-bdbb-3a26c6b8f692",
   "metadata": {
    "execution": {
     "iopub.execute_input": "2024-08-09T15:32:40.387870Z",
     "iopub.status.busy": "2024-08-09T15:32:40.386770Z",
     "iopub.status.idle": "2024-08-09T15:32:40.460044Z",
     "shell.execute_reply": "2024-08-09T15:32:40.459352Z",
     "shell.execute_reply.started": "2024-08-09T15:32:40.387833Z"
    },
    "tags": []
   },
   "outputs": [
    {
     "data": {
      "text/plain": [
       "array([ 2,  1,  6,  5, 12, 11, 10,  3,  8,  9,  4,  7])"
      ]
     },
     "execution_count": 15,
     "metadata": {},
     "output_type": "execute_result"
    }
   ],
   "source": [
    "transactions_clients.report.unique()"
   ]
  },
  {
   "cell_type": "code",
   "execution_count": 10,
   "id": "dc985798-5754-4174-9df4-24065ade914c",
   "metadata": {
    "execution": {
     "iopub.execute_input": "2024-08-09T15:31:53.049580Z",
     "iopub.status.busy": "2024-08-09T15:31:53.048644Z",
     "iopub.status.idle": "2024-08-09T15:31:57.307903Z",
     "shell.execute_reply": "2024-08-09T15:31:57.307161Z",
     "shell.execute_reply.started": "2024-08-09T15:31:53.049541Z"
    },
    "tags": []
   },
   "outputs": [],
   "source": [
    "transactions_clients_data = transactions_clients.dropna()"
   ]
  },
  {
   "cell_type": "code",
   "execution_count": 11,
   "id": "6ecf7252-2ce8-4127-8f75-3010b5c9966b",
   "metadata": {
    "execution": {
     "iopub.execute_input": "2024-08-09T15:31:58.056521Z",
     "iopub.status.busy": "2024-08-09T15:31:58.055692Z",
     "iopub.status.idle": "2024-08-09T15:31:58.098938Z",
     "shell.execute_reply": "2024-08-09T15:31:58.098236Z",
     "shell.execute_reply.started": "2024-08-09T15:31:58.056482Z"
    },
    "tags": []
   },
   "outputs": [
    {
     "data": {
      "text/html": [
       "<div>\n",
       "<style scoped>\n",
       "    .dataframe tbody tr th:only-of-type {\n",
       "        vertical-align: middle;\n",
       "    }\n",
       "\n",
       "    .dataframe tbody tr th {\n",
       "        vertical-align: top;\n",
       "    }\n",
       "\n",
       "    .dataframe thead th {\n",
       "        text-align: right;\n",
       "    }\n",
       "</style>\n",
       "<table border=\"1\" class=\"dataframe\">\n",
       "  <thead>\n",
       "    <tr style=\"text-align: right;\">\n",
       "      <th></th>\n",
       "      <th>user_id</th>\n",
       "      <th>mcc_code</th>\n",
       "      <th>currency_rk</th>\n",
       "      <th>transaction_amt</th>\n",
       "      <th>transaction_dttm</th>\n",
       "      <th>report</th>\n",
       "      <th>employee_count_nm</th>\n",
       "      <th>bankemplstatus</th>\n",
       "      <th>customer_age</th>\n",
       "    </tr>\n",
       "  </thead>\n",
       "  <tbody>\n",
       "    <tr>\n",
       "      <th>0</th>\n",
       "      <td>3</td>\n",
       "      <td>3</td>\n",
       "      <td>1</td>\n",
       "      <td>-183.883957</td>\n",
       "      <td>2022-01-28 12:05:33</td>\n",
       "      <td>2</td>\n",
       "      <td>ОТ 101 ДО 500</td>\n",
       "      <td>0</td>\n",
       "      <td>3</td>\n",
       "    </tr>\n",
       "    <tr>\n",
       "      <th>1</th>\n",
       "      <td>3</td>\n",
       "      <td>3</td>\n",
       "      <td>1</td>\n",
       "      <td>-3206.437012</td>\n",
       "      <td>2022-01-28 12:52:30</td>\n",
       "      <td>2</td>\n",
       "      <td>ОТ 101 ДО 500</td>\n",
       "      <td>0</td>\n",
       "      <td>3</td>\n",
       "    </tr>\n",
       "    <tr>\n",
       "      <th>2</th>\n",
       "      <td>3</td>\n",
       "      <td>16</td>\n",
       "      <td>1</td>\n",
       "      <td>-153866.890625</td>\n",
       "      <td>2022-02-16 14:45:56</td>\n",
       "      <td>2</td>\n",
       "      <td>ОТ 101 ДО 500</td>\n",
       "      <td>0</td>\n",
       "      <td>3</td>\n",
       "    </tr>\n",
       "    <tr>\n",
       "      <th>3</th>\n",
       "      <td>3</td>\n",
       "      <td>56</td>\n",
       "      <td>1</td>\n",
       "      <td>-15144.601562</td>\n",
       "      <td>2022-03-09 19:58:29</td>\n",
       "      <td>2</td>\n",
       "      <td>ОТ 101 ДО 500</td>\n",
       "      <td>0</td>\n",
       "      <td>3</td>\n",
       "    </tr>\n",
       "    <tr>\n",
       "      <th>4</th>\n",
       "      <td>3</td>\n",
       "      <td>0</td>\n",
       "      <td>1</td>\n",
       "      <td>5297.908691</td>\n",
       "      <td>2022-03-12 18:11:31</td>\n",
       "      <td>2</td>\n",
       "      <td>ОТ 101 ДО 500</td>\n",
       "      <td>0</td>\n",
       "      <td>3</td>\n",
       "    </tr>\n",
       "    <tr>\n",
       "      <th>...</th>\n",
       "      <td>...</td>\n",
       "      <td>...</td>\n",
       "      <td>...</td>\n",
       "      <td>...</td>\n",
       "      <td>...</td>\n",
       "      <td>...</td>\n",
       "      <td>...</td>\n",
       "      <td>...</td>\n",
       "      <td>...</td>\n",
       "    </tr>\n",
       "    <tr>\n",
       "      <th>13067780</th>\n",
       "      <td>558465</td>\n",
       "      <td>2</td>\n",
       "      <td>1</td>\n",
       "      <td>-74.342651</td>\n",
       "      <td>2023-02-22 18:01:30</td>\n",
       "      <td>12</td>\n",
       "      <td>ОТ 501 ДО 1000</td>\n",
       "      <td>0</td>\n",
       "      <td>0</td>\n",
       "    </tr>\n",
       "    <tr>\n",
       "      <th>13067781</th>\n",
       "      <td>558465</td>\n",
       "      <td>2</td>\n",
       "      <td>1</td>\n",
       "      <td>-302.963715</td>\n",
       "      <td>2023-02-23 14:04:05</td>\n",
       "      <td>12</td>\n",
       "      <td>ОТ 501 ДО 1000</td>\n",
       "      <td>0</td>\n",
       "      <td>0</td>\n",
       "    </tr>\n",
       "    <tr>\n",
       "      <th>13067782</th>\n",
       "      <td>558465</td>\n",
       "      <td>1</td>\n",
       "      <td>1</td>\n",
       "      <td>-364.920502</td>\n",
       "      <td>2023-02-24 16:01:10</td>\n",
       "      <td>12</td>\n",
       "      <td>ОТ 501 ДО 1000</td>\n",
       "      <td>0</td>\n",
       "      <td>0</td>\n",
       "    </tr>\n",
       "    <tr>\n",
       "      <th>13067783</th>\n",
       "      <td>558465</td>\n",
       "      <td>2</td>\n",
       "      <td>1</td>\n",
       "      <td>-121.085098</td>\n",
       "      <td>2023-02-25 20:43:09</td>\n",
       "      <td>12</td>\n",
       "      <td>ОТ 501 ДО 1000</td>\n",
       "      <td>0</td>\n",
       "      <td>0</td>\n",
       "    </tr>\n",
       "    <tr>\n",
       "      <th>13067784</th>\n",
       "      <td>558465</td>\n",
       "      <td>3</td>\n",
       "      <td>1</td>\n",
       "      <td>-91.487686</td>\n",
       "      <td>2023-03-01 15:09:16</td>\n",
       "      <td>12</td>\n",
       "      <td>ОТ 501 ДО 1000</td>\n",
       "      <td>0</td>\n",
       "      <td>0</td>\n",
       "    </tr>\n",
       "  </tbody>\n",
       "</table>\n",
       "<p>8643927 rows × 9 columns</p>\n",
       "</div>"
      ],
      "text/plain": [
       "          user_id  mcc_code  ...  bankemplstatus  customer_age\n",
       "0               3         3  ...               0             3\n",
       "1               3         3  ...               0             3\n",
       "2               3        16  ...               0             3\n",
       "3               3        56  ...               0             3\n",
       "4               3         0  ...               0             3\n",
       "...           ...       ...  ...             ...           ...\n",
       "13067780   558465         2  ...               0             0\n",
       "13067781   558465         2  ...               0             0\n",
       "13067782   558465         1  ...               0             0\n",
       "13067783   558465         2  ...               0             0\n",
       "13067784   558465         3  ...               0             0\n",
       "\n",
       "[8643927 rows x 9 columns]"
      ]
     },
     "execution_count": 11,
     "metadata": {},
     "output_type": "execute_result"
    }
   ],
   "source": [
    "transactions_clients_data"
   ]
  },
  {
   "cell_type": "code",
   "execution_count": 12,
   "id": "a4f2661d-89a4-417a-8227-f7e3b8c6d081",
   "metadata": {
    "execution": {
     "iopub.execute_input": "2024-08-09T15:32:09.900524Z",
     "iopub.status.busy": "2024-08-09T15:32:09.899535Z",
     "iopub.status.idle": "2024-08-09T15:32:10.297948Z",
     "shell.execute_reply": "2024-08-09T15:32:10.297240Z",
     "shell.execute_reply.started": "2024-08-09T15:32:09.900483Z"
    }
   },
   "outputs": [
    {
     "data": {
      "text/plain": [
       "array(['ОТ 101 ДО 500', 'БОЛЕЕ 1001', 'ОТ 501 ДО 1000', 'ДО 10',\n",
       "       'ОТ 11 ДО 50', 'ОТ 51 ДО 100', 'БОЛЕЕ 500', 'ОТ 11 ДО 30',\n",
       "       'ОТ 31 ДО 50'], dtype=object)"
      ]
     },
     "execution_count": 12,
     "metadata": {},
     "output_type": "execute_result"
    }
   ],
   "source": [
    "transactions_clients_data.employee_count_nm.unique()"
   ]
  },
  {
   "cell_type": "code",
   "execution_count": 18,
   "id": "8f530a8c-78ef-40e6-ac04-b12cd167aa66",
   "metadata": {
    "execution": {
     "iopub.execute_input": "2024-08-09T15:37:54.412783Z",
     "iopub.status.busy": "2024-08-09T15:37:54.411824Z",
     "iopub.status.idle": "2024-08-09T15:37:54.814907Z",
     "shell.execute_reply": "2024-08-09T15:37:54.814185Z",
     "shell.execute_reply.started": "2024-08-09T15:37:54.412742Z"
    },
    "tags": []
   },
   "outputs": [],
   "source": [
    "employee_count_dict = {}\n",
    "for i, j in enumerate(transactions_clients_data.employee_count_nm.unique()):\n",
    "    employee_count_dict[j] = i"
   ]
  },
  {
   "cell_type": "code",
   "execution_count": 19,
   "id": "c7d16f21-386d-4186-8e3b-3c2f419ead37",
   "metadata": {
    "execution": {
     "iopub.execute_input": "2024-08-09T15:37:55.060793Z",
     "iopub.status.busy": "2024-08-09T15:37:55.059807Z",
     "iopub.status.idle": "2024-08-09T15:37:55.073799Z",
     "shell.execute_reply": "2024-08-09T15:37:55.073195Z",
     "shell.execute_reply.started": "2024-08-09T15:37:55.060760Z"
    },
    "tags": []
   },
   "outputs": [
    {
     "data": {
      "text/plain": [
       "{'ОТ 101 ДО 500': 0,\n",
       " 'БОЛЕЕ 1001': 1,\n",
       " 'ОТ 501 ДО 1000': 2,\n",
       " 'ДО 10': 3,\n",
       " 'ОТ 11 ДО 50': 4,\n",
       " 'ОТ 51 ДО 100': 5,\n",
       " 'БОЛЕЕ 500': 6,\n",
       " 'ОТ 11 ДО 30': 7,\n",
       " 'ОТ 31 ДО 50': 8}"
      ]
     },
     "execution_count": 19,
     "metadata": {},
     "output_type": "execute_result"
    }
   ],
   "source": [
    "employee_count_dict"
   ]
  },
  {
   "cell_type": "code",
   "execution_count": null,
   "id": "1d256ef4-ce22-40f8-be55-8bde0b034b9b",
   "metadata": {},
   "outputs": [],
   "source": [
    "transactions_clients_data['employee_count_dict_code'] = transactions_clients_data.apply(lamnda row)"
   ]
  },
  {
   "cell_type": "code",
   "execution_count": 21,
   "id": "dc673919-e7de-47ce-923a-6f632deb2619",
   "metadata": {
    "execution": {
     "iopub.execute_input": "2024-08-09T15:40:45.345089Z",
     "iopub.status.busy": "2024-08-09T15:40:45.344065Z",
     "iopub.status.idle": "2024-08-09T15:40:45.372060Z",
     "shell.execute_reply": "2024-08-09T15:40:45.371421Z",
     "shell.execute_reply.started": "2024-08-09T15:40:45.345052Z"
    },
    "tags": []
   },
   "outputs": [
    {
     "name": "stdout",
     "output_type": "stream",
     "text": [
      "user_id,mcc_code,currency_rk,transaction_amt,time_diff\n",
      "3,3,1,-183.88396,0.0\n",
      "3,3,1,-3206.437,2817.0\n",
      "3,16,1,-153866.89,1651223.0\n",
      "3,56,1,-15144.602,3484376.0\n",
      "3,0,1,5297.9087,3737158.0\n",
      "3,0,1,534.3631,6338573.0\n",
      "3,0,1,4549.455,6338882.0\n",
      "3,0,1,37991.93,7886245.0\n",
      "3,0,1,28335.613,8411225.0\n"
     ]
    }
   ],
   "source": [
    "!head tabsyn/data/transactions_dt_split/train.csv"
   ]
  },
  {
   "cell_type": "code",
   "execution_count": null,
   "id": "e56fb4af-43a9-4ee5-94d7-0f1964cc1c74",
   "metadata": {},
   "outputs": [],
   "source": []
  }
 ],
 "metadata": {
  "kernelspec": {
   "display_name": "DataSphere Kernel",
   "language": "python",
   "name": "python3"
  },
  "language_info": {
   "codemirror_mode": {
    "name": "ipython",
    "version": 3
   },
   "file_extension": ".py",
   "mimetype": "text/x-python",
   "name": "python",
   "nbconvert_exporter": "python",
   "pygments_lexer": "ipython3",
   "version": "3.10.12"
  }
 },
 "nbformat": 4,
 "nbformat_minor": 5
}
