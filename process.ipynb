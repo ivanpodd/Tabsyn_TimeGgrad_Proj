{
 "cells": [
  {
   "cell_type": "code",
   "execution_count": 1,
   "metadata": {
    "execution": {
     "iopub.execute_input": "2024-08-08T11:51:09.195305Z",
     "iopub.status.busy": "2024-08-08T11:51:09.194088Z",
     "iopub.status.idle": "2024-08-08T11:51:09.275883Z",
     "shell.execute_reply": "2024-08-08T11:51:09.275106Z",
     "shell.execute_reply.started": "2024-08-08T11:51:09.195243Z"
    },
    "id": "XdsWxECJTGCx",
    "tags": []
   },
   "outputs": [],
   "source": [
    "#!pip install torch torchvision torchaudio"
   ]
  },
  {
   "cell_type": "code",
   "execution_count": 2,
   "metadata": {
    "execution": {
     "iopub.execute_input": "2024-08-08T11:51:10.244529Z",
     "iopub.status.busy": "2024-08-08T11:51:10.243132Z",
     "iopub.status.idle": "2024-08-08T11:51:10.288214Z",
     "shell.execute_reply": "2024-08-08T11:51:10.287502Z",
     "shell.execute_reply.started": "2024-08-08T11:51:10.244487Z"
    },
    "id": "Pj77Mw3NVj51",
    "tags": []
   },
   "outputs": [],
   "source": [
    "# install requirements for TabSyn\n",
    "#!wget https://raw.githubusercontent.com/amazon-science/tabsyn/main/requirements.txt\n",
    "#!pip install -r requirements.txt"
   ]
  },
  {
   "cell_type": "code",
   "execution_count": 5,
   "metadata": {
    "colab": {
     "base_uri": "https://localhost:8080/"
    },
    "execution": {
     "iopub.execute_input": "2024-08-08T11:51:54.396569Z",
     "iopub.status.busy": "2024-08-08T11:51:54.395548Z",
     "iopub.status.idle": "2024-08-08T11:51:54.424096Z",
     "shell.execute_reply": "2024-08-08T11:51:54.423265Z",
     "shell.execute_reply.started": "2024-08-08T11:51:54.396523Z"
    },
    "id": "nOTevHUWYSqk",
    "outputId": "08a35409-3216-4cb6-a174-f2a4b05db366",
    "tags": []
   },
   "outputs": [],
   "source": [
    "# download transactions\n",
    "# !wget https://storage.yandexcloud.net/ds-ods/files/data/docs/competitions/DataFusion2024/Data/transactions.csv.zip\n",
    "# !unzip transactions.csv.zip\n",
    "# !rm transactions.csv.zip"
   ]
  },
  {
   "cell_type": "code",
   "execution_count": 6,
   "metadata": {
    "colab": {
     "base_uri": "https://localhost:8080/"
    },
    "execution": {
     "iopub.execute_input": "2024-08-08T11:51:56.903193Z",
     "iopub.status.busy": "2024-08-08T11:51:56.902038Z",
     "iopub.status.idle": "2024-08-08T11:51:56.927105Z",
     "shell.execute_reply": "2024-08-08T11:51:56.926340Z",
     "shell.execute_reply.started": "2024-08-08T11:51:56.903142Z"
    },
    "id": "T3PjNGRMafnA",
    "outputId": "0e6bee4b-5d06-42d3-a927-d063c85fcf63",
    "tags": []
   },
   "outputs": [
    {
     "name": "stdout",
     "output_type": "stream",
     "text": [
      "\"user_id\",\"mcc_code\",\"currency_rk\",\"transaction_amt\",\"transaction_dttm\"\n",
      "3,3,1,-183.88395690918,2022-01-28 12:05:33\n",
      "3,3,1,-3206.43701171875,2022-01-28 12:52:30\n",
      "3,16,1,-153866.890625,2022-02-16 14:45:56\n",
      "3,56,1,-15144.6015625,2022-03-09 19:58:29\n",
      "3,0,1,5297.90869140625,2022-03-12 18:11:31\n",
      "3,0,1,534.363098144531,2022-04-11 20:48:26\n",
      "3,0,1,4549.455078125,2022-04-11 20:53:35\n",
      "3,0,1,37991.9296875,2022-04-29 18:42:58\n",
      "3,0,1,28335.61328125,2022-05-05 20:32:38\n"
     ]
    }
   ],
   "source": [
    "!head transactions.csv"
   ]
  },
  {
   "cell_type": "code",
   "execution_count": 33,
   "metadata": {
    "execution": {
     "iopub.execute_input": "2024-08-08T12:32:35.042513Z",
     "iopub.status.busy": "2024-08-08T12:32:35.041393Z",
     "iopub.status.idle": "2024-08-08T12:32:35.051765Z",
     "shell.execute_reply": "2024-08-08T12:32:35.051018Z",
     "shell.execute_reply.started": "2024-08-08T12:32:35.042464Z"
    },
    "id": "Juo9ybWibysW",
    "tags": []
   },
   "outputs": [],
   "source": [
    "import pandas as pd\n",
    "import numpy as np\n",
    "import json\n",
    "from datetime import datetime\n",
    "TIME_FORMAT='%Y-%m-%d %H:%M:%S'"
   ]
  },
  {
   "cell_type": "code",
   "execution_count": 39,
   "metadata": {
    "execution": {
     "iopub.execute_input": "2024-08-08T12:43:37.058243Z",
     "iopub.status.busy": "2024-08-08T12:43:37.057260Z",
     "iopub.status.idle": "2024-08-08T12:43:37.083657Z",
     "shell.execute_reply": "2024-08-08T12:43:37.082936Z",
     "shell.execute_reply.started": "2024-08-08T12:43:37.058196Z"
    },
    "id": "XBxHIEoStO6j",
    "tags": []
   },
   "outputs": [],
   "source": [
    "import argparse\n",
    "parser = argparse.ArgumentParser(prog='process',\n",
    "                                 description='Preprocess transactions data')\n",
    "parser.add_argument('--time_quantile', type=float, help='All transactions that fall into that proportion of time go into train split')\n",
    "parser.add_argument('--user_quantile', type=float, help='All transactions that belong to that proportion of users go into train split')\n",
    "parser.add_argument('--output', type=str, help='Output files')\n",
    "args = parser.parse_args('--time_quantile 0.9 --user_quantile 0.9 --output processed_data/transactions_dt_%.csv'.split())"
   ]
  },
  {
   "cell_type": "code",
   "execution_count": 9,
   "metadata": {
    "colab": {
     "base_uri": "https://localhost:8080/",
     "height": 206
    },
    "execution": {
     "iopub.execute_input": "2024-08-08T11:52:05.439289Z",
     "iopub.status.busy": "2024-08-08T11:52:05.438476Z",
     "iopub.status.idle": "2024-08-08T11:52:17.990912Z",
     "shell.execute_reply": "2024-08-08T11:52:17.990066Z",
     "shell.execute_reply.started": "2024-08-08T11:52:05.439242Z"
    },
    "id": "S77qT1wcIZ4x",
    "outputId": "4fee25a1-13ef-45d3-f4c1-818d54272f37",
    "tags": []
   },
   "outputs": [
    {
     "data": {
      "text/html": [
       "<div>\n",
       "<style scoped>\n",
       "    .dataframe tbody tr th:only-of-type {\n",
       "        vertical-align: middle;\n",
       "    }\n",
       "\n",
       "    .dataframe tbody tr th {\n",
       "        vertical-align: top;\n",
       "    }\n",
       "\n",
       "    .dataframe thead th {\n",
       "        text-align: right;\n",
       "    }\n",
       "</style>\n",
       "<table border=\"1\" class=\"dataframe\">\n",
       "  <thead>\n",
       "    <tr style=\"text-align: right;\">\n",
       "      <th></th>\n",
       "      <th>user_id</th>\n",
       "      <th>mcc_code</th>\n",
       "      <th>currency_rk</th>\n",
       "      <th>transaction_amt</th>\n",
       "      <th>transaction_dttm</th>\n",
       "    </tr>\n",
       "  </thead>\n",
       "  <tbody>\n",
       "    <tr>\n",
       "      <th>0</th>\n",
       "      <td>3</td>\n",
       "      <td>3</td>\n",
       "      <td>1</td>\n",
       "      <td>-183.883957</td>\n",
       "      <td>2022-01-28 12:05:33</td>\n",
       "    </tr>\n",
       "    <tr>\n",
       "      <th>1</th>\n",
       "      <td>3</td>\n",
       "      <td>3</td>\n",
       "      <td>1</td>\n",
       "      <td>-3206.437012</td>\n",
       "      <td>2022-01-28 12:52:30</td>\n",
       "    </tr>\n",
       "    <tr>\n",
       "      <th>2</th>\n",
       "      <td>3</td>\n",
       "      <td>16</td>\n",
       "      <td>1</td>\n",
       "      <td>-153866.890625</td>\n",
       "      <td>2022-02-16 14:45:56</td>\n",
       "    </tr>\n",
       "    <tr>\n",
       "      <th>3</th>\n",
       "      <td>3</td>\n",
       "      <td>56</td>\n",
       "      <td>1</td>\n",
       "      <td>-15144.601562</td>\n",
       "      <td>2022-03-09 19:58:29</td>\n",
       "    </tr>\n",
       "    <tr>\n",
       "      <th>4</th>\n",
       "      <td>3</td>\n",
       "      <td>0</td>\n",
       "      <td>1</td>\n",
       "      <td>5297.908691</td>\n",
       "      <td>2022-03-12 18:11:31</td>\n",
       "    </tr>\n",
       "  </tbody>\n",
       "</table>\n",
       "</div>"
      ],
      "text/plain": [
       "   user_id  mcc_code  currency_rk  transaction_amt     transaction_dttm\n",
       "0        3         3            1      -183.883957  2022-01-28 12:05:33\n",
       "1        3         3            1     -3206.437012  2022-01-28 12:52:30\n",
       "2        3        16            1   -153866.890625  2022-02-16 14:45:56\n",
       "3        3        56            1    -15144.601562  2022-03-09 19:58:29\n",
       "4        3         0            1      5297.908691  2022-03-12 18:11:31"
      ]
     },
     "execution_count": 9,
     "metadata": {},
     "output_type": "execute_result"
    }
   ],
   "source": [
    "transactions = pd.read_csv('transactions.csv', sep=',', index_col=False)\n",
    "transactions.head()"
   ]
  },
  {
   "cell_type": "code",
   "execution_count": 10,
   "metadata": {
    "execution": {
     "iopub.execute_input": "2024-08-08T11:52:17.992801Z",
     "iopub.status.busy": "2024-08-08T11:52:17.992332Z",
     "iopub.status.idle": "2024-08-08T11:52:18.011141Z",
     "shell.execute_reply": "2024-08-08T11:52:18.010280Z",
     "shell.execute_reply.started": "2024-08-08T11:52:17.992764Z"
    },
    "id": "aoRv5Xl0pvV6",
    "tags": []
   },
   "outputs": [],
   "source": [
    "def convert_date_to_timestamp(x):\n",
    "    return int(datetime.strptime(x, TIME_FORMAT).timestamp())\n",
    "\n",
    "def calc_dt(transactions):\n",
    "    transactions['transaction_dttm'] = transactions['transaction_dttm'].apply(convert_date_to_timestamp)\n",
    "    transactions['min_datetime'] = transactions.groupby('user_id')['transaction_dttm'].transform('min')\n",
    "    transactions['time_diff'] = transactions['transaction_dttm'] - transactions['min_datetime']\n",
    "    return transactions.drop(columns=['transaction_dttm', 'min_datetime'])"
   ]
  },
  {
   "cell_type": "code",
   "execution_count": 11,
   "metadata": {
    "colab": {
     "base_uri": "https://localhost:8080/"
    },
    "execution": {
     "iopub.execute_input": "2024-08-08T11:52:18.013361Z",
     "iopub.status.busy": "2024-08-08T11:52:18.012185Z",
     "iopub.status.idle": "2024-08-08T11:52:18.031903Z",
     "shell.execute_reply": "2024-08-08T11:52:18.031140Z",
     "shell.execute_reply.started": "2024-08-08T11:52:18.013320Z"
    },
    "id": "VT23LGHUr4xN",
    "outputId": "fb22a466-3bdf-4a59-83de-be7de5569928",
    "tags": []
   },
   "outputs": [
    {
     "data": {
      "text/plain": [
       "1643371533"
      ]
     },
     "execution_count": 11,
     "metadata": {},
     "output_type": "execute_result"
    }
   ],
   "source": [
    "convert_date_to_timestamp('2022-01-28 12:05:33')"
   ]
  },
  {
   "cell_type": "code",
   "execution_count": 12,
   "metadata": {
    "execution": {
     "iopub.execute_input": "2024-08-08T11:52:26.034599Z",
     "iopub.status.busy": "2024-08-08T11:52:26.033886Z",
     "iopub.status.idle": "2024-08-08T11:54:05.125827Z",
     "shell.execute_reply": "2024-08-08T11:54:05.124989Z",
     "shell.execute_reply.started": "2024-08-08T11:52:26.034553Z"
    },
    "id": "CfYCYLG6svUQ",
    "tags": []
   },
   "outputs": [],
   "source": [
    "transactions_DT = calc_dt(transactions)"
   ]
  },
  {
   "cell_type": "code",
   "execution_count": 13,
   "metadata": {
    "colab": {
     "base_uri": "https://localhost:8080/",
     "height": 480
    },
    "execution": {
     "iopub.execute_input": "2024-08-08T11:54:05.128017Z",
     "iopub.status.busy": "2024-08-08T11:54:05.127284Z",
     "iopub.status.idle": "2024-08-08T11:54:06.136675Z",
     "shell.execute_reply": "2024-08-08T11:54:06.135484Z",
     "shell.execute_reply.started": "2024-08-08T11:54:05.127979Z"
    },
    "id": "pvcQz89pqrDh",
    "outputId": "181e0f93-65f8-4fe5-950c-5059058668b2"
   },
   "outputs": [
    {
     "name": "stdout",
     "output_type": "stream",
     "text": [
      "Users: 96000\n",
      "Time max: 15767876\n"
     ]
    },
    {
     "data": {
      "image/png": "[encoded data removed]",
      "text/plain": [
       "<Figure size 640x480 with 1 Axes>"
      ]
     },
     "metadata": {},
     "output_type": "display_data"
    }
   ],
   "source": [
    "transactions_DT[transactions_DT.user_id <= 100]['time_diff'].plot()\n",
    "print('Users:', transactions_DT['user_id'].nunique())\n",
    "print('Time max:', transactions_DT['time_diff'].max())"
   ]
  },
  {
   "cell_type": "code",
   "execution_count": 31,
   "metadata": {
    "execution": {
     "iopub.execute_input": "2024-08-08T12:31:05.295095Z",
     "iopub.status.busy": "2024-08-08T12:31:05.294035Z",
     "iopub.status.idle": "2024-08-08T12:31:05.313489Z",
     "shell.execute_reply": "2024-08-08T12:31:05.312839Z",
     "shell.execute_reply.started": "2024-08-08T12:31:05.295051Z"
    },
    "id": "bGnw_gjqzBbj",
    "tags": []
   },
   "outputs": [],
   "source": [
    "def split(transactions, time_q, user_q):\n",
    "    time_val = int(transactions['time_diff'].quantile(time_q))\n",
    "    user_val = int(transactions['user_id'].quantile(user_q))\n",
    "    print('user_id:', transactions['user_id'].min(), transactions['user_id'].max())\n",
    "    print(f'user_id: quartile - {user_q}, value - {user_val}')\n",
    "    print('time_diff:', transactions['time_diff'].min(), transactions['time_diff'].max())\n",
    "    print(f'time_diff: quartile - {time_q}, value - {time_val}')\n",
    "    \n",
    "    select_train = (transactions['time_diff'] <= time_val) & (transactions['user_id'] <= user_val)\n",
    "    select_test = (transactions['time_diff'] > time_val) & (transactions['user_id'] > user_val)\n",
    "    transactions_train = transactions[select_train]\n",
    "    transactions_test = transactions[select_test]\n",
    "    \n",
    "    all_n, train_n, test_n = transactions.shape[0], transactions_train.shape[0], transactions_test.shape[0]\n",
    "    print('transactions:', all_n)\n",
    "    print('train:', train_n, train_n/all_n)\n",
    "    print('test:', test_n, test_n/all_n)\n",
    "    print('proportion:', train_n/test_n)\n",
    "    return transactions_train, transactions_test"
   ]
  },
  {
   "cell_type": "code",
   "execution_count": 32,
   "metadata": {
    "execution": {
     "iopub.execute_input": "2024-08-08T12:31:05.478566Z",
     "iopub.status.busy": "2024-08-08T12:31:05.477536Z",
     "iopub.status.idle": "2024-08-08T12:31:06.279737Z",
     "shell.execute_reply": "2024-08-08T12:31:06.278971Z",
     "shell.execute_reply.started": "2024-08-08T12:31:05.478523Z"
    },
    "tags": []
   },
   "outputs": [
    {
     "name": "stdout",
     "output_type": "stream",
     "text": [
      "user_id: 3 562740\n",
      "user_id: quartile - 0.9, value - 481871\n",
      "time_diff: 0 15767876\n",
      "time_diff: quartile - 0.9, value - 13898545\n",
      "transactions: 13075023\n",
      "train: 10581102 0.8092606796944066\n",
      "test: 121063 0.009259104171365511\n",
      "proportion: 87.40161733973221\n"
     ]
    }
   ],
   "source": [
    "train_transactions, test_transactions = split(transactions_DT, args.time_quantile, args.user_quantile)"
   ]
  },
  {
   "cell_type": "code",
   "execution_count": 35,
   "metadata": {
    "execution": {
     "iopub.execute_input": "2024-08-08T12:34:24.263254Z",
     "iopub.status.busy": "2024-08-08T12:34:24.262142Z",
     "iopub.status.idle": "2024-08-08T12:34:24.881829Z",
     "shell.execute_reply": "2024-08-08T12:34:24.880972Z",
     "shell.execute_reply.started": "2024-08-08T12:34:24.263205Z"
    },
    "tags": []
   },
   "outputs": [
    {
     "name": "stdout",
     "output_type": "stream",
     "text": [
      "users intersection: []\n",
      "time intersection: []\n"
     ]
    }
   ],
   "source": [
    "def check_split(train, test):\n",
    "    print('users intersection:', np.intersect1d(train['user_id'].to_numpy(), test['user_id'].to_numpy()))\n",
    "    print('time intersection:', np.intersect1d(train['time_diff'].to_numpy(), test['time_diff'].to_numpy()))\n",
    "          \n",
    "check_split(train_transactions, test_transactions)"
   ]
  },
  {
   "cell_type": "code",
   "execution_count": 37,
   "metadata": {
    "execution": {
     "iopub.execute_input": "2024-08-08T12:37:26.363843Z",
     "iopub.status.busy": "2024-08-08T12:37:26.362770Z",
     "iopub.status.idle": "2024-08-08T12:38:18.889694Z",
     "shell.execute_reply": "2024-08-08T12:38:18.888915Z",
     "shell.execute_reply.started": "2024-08-08T12:37:26.363796Z"
    },
    "tags": []
   },
   "outputs": [],
   "source": [
    "transactions_DT.to_csv(args.output.replace('%', 'all'), index = False)\n",
    "train_transactions.to_csv(args.output.replace('%', 'train'), index = False)\n",
    "test_transactions.to_csv(args.output.replace('%', 'test'), index = False)"
   ]
  },
  {
   "cell_type": "code",
   "execution_count": 38,
   "metadata": {
    "execution": {
     "iopub.execute_input": "2024-08-08T12:38:50.936095Z",
     "iopub.status.busy": "2024-08-08T12:38:50.935037Z",
     "iopub.status.idle": "2024-08-08T12:38:51.298736Z",
     "shell.execute_reply": "2024-08-08T12:38:51.297886Z",
     "shell.execute_reply.started": "2024-08-08T12:38:50.936037Z"
    }
   },
   "outputs": [
    {
     "name": "stdout",
     "output_type": "stream",
     "text": [
      "user_id,mcc_code,currency_rk,transaction_amt,time_diff\n",
      "3,3,1,-183.88395690918,0\n",
      "3,3,1,-3206.43701171875,2817\n",
      "3,16,1,-153866.890625,1651223\n",
      "3,56,1,-15144.6015625,3484376\n",
      "3,0,1,5297.90869140625,3737158\n",
      "3,0,1,534.363098144531,6338573\n",
      "3,0,1,4549.455078125,6338882\n",
      "3,0,1,37991.9296875,7886245\n",
      "3,0,1,28335.61328125,8411225\n",
      "user_id,mcc_code,currency_rk,transaction_amt,time_diff\n",
      "3,3,1,-183.88395690918,0\n",
      "3,3,1,-3206.43701171875,2817\n",
      "3,16,1,-153866.890625,1651223\n",
      "3,56,1,-15144.6015625,3484376\n",
      "3,0,1,5297.90869140625,3737158\n",
      "3,0,1,534.363098144531,6338573\n",
      "3,0,1,4549.455078125,6338882\n",
      "3,0,1,37991.9296875,7886245\n",
      "3,0,1,28335.61328125,8411225\n",
      "user_id,mcc_code,currency_rk,transaction_amt,time_diff\n",
      "481881,11,1,-32.8296432495117,13911818\n",
      "481881,11,1,-38.3924026489258,13968559\n",
      "481881,11,1,-38.2651023864746,14001330\n",
      "481881,11,1,-38.4550018310547,14003747\n",
      "481881,11,1,-33.0201759338379,14085214\n",
      "481881,4,1,-1128.57153320312,14111523\n",
      "481881,11,1,-38.1655616760254,14305321\n",
      "481881,1,1,-110.690567016602,14347185\n",
      "481881,1,1,-497.564056396484,14353849\n"
     ]
    }
   ],
   "source": [
    "!head transactions_dt_all.csv\n",
    "!head transactions_dt_train.csv\n",
    "!head transactions_dt_test.csv"
   ]
  },
  {
   "cell_type": "code",
   "execution_count": null,
   "metadata": {
    "colab": {
     "base_uri": "https://localhost:8080/"
    },
    "id": "1CPMlz_-xZEo",
    "outputId": "3e05a827-8f96-4763-c97a-4a61e581b817"
   },
   "outputs": [
    {
     "name": "stdout",
     "output_type": "stream",
     "text": [
      "Mounted at /content/drive\n"
     ]
    }
   ],
   "source": [
    "# from google.colab import drive\n",
    "# drive.mount('/content/drive')"
   ]
  },
  {
   "cell_type": "code",
   "execution_count": null,
   "metadata": {
    "id": "ZwEAuTPuxCQG"
   },
   "outputs": [],
   "source": [
    "# !cp transactions_dt.csv drive/MyDrive/TimeGradProject/"
   ]
  },
  {
   "cell_type": "code",
   "execution_count": null,
   "metadata": {
    "colab": {
     "base_uri": "https://localhost:8080/"
    },
    "id": "j8ATHtOayUkP",
    "outputId": "0187082b-f011-4e6d-a056-eeac48c4c01a"
   },
   "outputs": [
    {
     "name": "stdout",
     "output_type": "stream",
     "text": [
      "user_id,mcc_code,currency_rk,transaction_amt,time_diff\n",
      "3,3,1,-183.88395690918,0.0\n",
      "3,3,1,-3206.43701171875,2817.0\n",
      "3,16,1,-153866.890625,1651223.0\n",
      "3,56,1,-15144.6015625,3484376.0\n",
      "3,0,1,5297.90869140625,3737158.0\n",
      "3,0,1,534.363098144531,6338573.0\n",
      "3,0,1,4549.455078125,6338882.0\n",
      "3,0,1,37991.9296875,7886245.0\n",
      "3,0,1,28335.61328125,8411225.0\n"
     ]
    }
   ],
   "source": [
    "# !head transactions_dt.csv"
   ]
  },
  {
   "cell_type": "code",
   "execution_count": null,
   "metadata": {
    "id": "wHoRDvGE03cu"
   },
   "outputs": [],
   "source": []
  }
 ],
 "metadata": {
  "colab": {
   "provenance": []
  },
  "kernelspec": {
   "display_name": "DataSphere Kernel",
   "language": "python",
   "name": "python3"
  },
  "language_info": {
   "codemirror_mode": {
    "name": "ipython",
    "version": 3
   },
   "file_extension": ".py",
   "mimetype": "text/x-python",
   "name": "python",
   "nbconvert_exporter": "python",
   "pygments_lexer": "ipython3",
   "version": "3.10.12"
  }
 },
 "nbformat": 4,
 "nbformat_minor": 4
}
